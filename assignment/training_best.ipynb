{
  "nbformat": 4,
  "nbformat_minor": 0,
  "metadata": {
    "colab": {
      "name": "training_best.ipynb",
      "provenance": [],
      "collapsed_sections": [],
      "include_colab_link": true
    },
    "kernelspec": {
      "name": "python3",
      "display_name": "Python 3"
    },
    "language_info": {
      "name": "python"
    },
    "accelerator": "GPU"
  },
  "cells": [
    {
      "cell_type": "markdown",
      "metadata": {
        "id": "view-in-github",
        "colab_type": "text"
      },
      "source": [
        "<a href=\"https://colab.research.google.com/github/ricglz/CE888_activities/blob/main/assignment/training_best.ipynb\" target=\"_parent\"><img src=\"https://colab.research.google.com/assets/colab-badge.svg\" alt=\"Open In Colab\"/></a>"
      ]
    },
    {
      "cell_type": "code",
      "metadata": {
        "id": "JgkVi8QRsbB0"
      },
      "source": [
        "!pip install -U -qqq torch==1.8.0 torchvision torchtext\n",
        "!pip install -qqq timm pytorch-lightning wandb\n",
        "!git clone https://github.com/ricglz/CE888_activities.git repo\n",
        "%cd repo/assignment/scripts/\n",
        "!python utils.py"
      ],
      "execution_count": null,
      "outputs": []
    },
    {
      "cell_type": "code",
      "metadata": {
        "id": "WuukCXSGyrdz"
      },
      "source": [
        "!wandb login <key>"
      ],
      "execution_count": null,
      "outputs": []
    },
    {
      "cell_type": "code",
      "metadata": {
        "id": "jL4exZ1WllnM"
      },
      "source": [
        "!python train.py --anneal_strategy=cos --base_momentum=0.8051269571918493 --div_factor=7.439738529162385 --drop_rate=0.4068513486859972 --epochs=5 --final_div_factor=11916.417733845818 --lr=0.04056258042139802 --max_momentum=0.9269449782055802 --model_name=rexnet_200 --pct_start=0.4355520121605256 --precision=16 --stages=5 --three_phase=False --train_bn=False --unfreeze_per_step=18 --weight_decay=1.720985158960819e-05"
      ],
      "execution_count": null,
      "outputs": []
    }
  ]
}
