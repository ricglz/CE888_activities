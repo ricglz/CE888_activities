{
 "cells": [
  {
   "cell_type": "code",
   "execution_count": null,
   "metadata": {},
   "outputs": [],
   "source": [
    "import torch\n",
    "from torch.nn import Linear, Sequential, CrossEntropyLoss\n",
    "from torch.optim import Adam\n",
    "from torch.utils.data import DataLoader\n",
    "from torchvision.datasets import ImageFolder\n",
    "from torchvision.models import resnext101_32x8d\n",
    "import torchvision.transforms as T\n",
    "from tqdm import tqdm"
   ]
  },
  {
   "cell_type": "code",
   "execution_count": null,
   "metadata": {},
   "outputs": [],
   "source": [
    "device = 'cuda' if torch.cuda.is_available() else 'cpu'\n",
    "train_size = 0\n",
    "val_size = 0"
   ]
  },
  {
   "cell_type": "code",
   "execution_count": null,
   "metadata": {},
   "outputs": [],
   "source": [
    "def get_loaders():\n",
    "    mean = [0.485, 0.456, 0.406]\n",
    "    std = [0.229, 0.224, 0.225]\n",
    "    normalize = T.Normalize(mean, std)\n",
    "    train_path = ''\n",
    "    test_path = ''\n",
    "    augmentations = T.Compose([\n",
    "        T.RandomGrayscale(),\n",
    "        T.RandomHorizontalFlip(),\n",
    "        T.RandomRotation(30),\n",
    "        T.RandomVerticalFlip(),\n",
    "    ])\n",
    "    train_loader = DataLoader(\n",
    "        ImageFolder(train_path, transform=T.Compose([\n",
    "            T.Resize(256),\n",
    "            augmentations,\n",
    "            T.ToTensor(),\n",
    "            normalize\n",
    "        ])),\n",
    "        batch_size=4,\n",
    "        shuffle=True,\n",
    "    )\n",
    "    test_loader = DataLoader(\n",
    "        ImageFolder(test_path, transform=T.Compose([\n",
    "            T.Resize(256),\n",
    "            T.ToTensor(),\n",
    "            normalize\n",
    "        ])),\n",
    "        batch_size=4,\n",
    "        shuffle=True,\n",
    "    )\n",
    "    return train_loader, test_loader"
   ]
  },
  {
   "cell_type": "code",
   "execution_count": null,
   "metadata": {},
   "outputs": [],
   "source": [
    "def get_accuracy(labels, outputs, inputs):\n",
    "    ret, predictions = torch.max(outputs.data, 1)\n",
    "    correct_counts = predictions.eq(labels.data.view_as(predictions))\n",
    "    acc = torch.mean(correct_counts.type(torch.FloatTensor))\n",
    "    return acc.item() * inputs.size(0)"
   ]
  },
  {
   "cell_type": "code",
   "execution_count": null,
   "metadata": {},
   "outputs": [],
   "source": [
    "def train_fn(loader, model, optimizer, loss_fn, scaler):\n",
    "    accuracy = 0\n",
    "    loss = 0\n",
    "    model.train()\n",
    "    for _, (data, targets) in enumerate(tqdm(loader)):\n",
    "        data = data.to(device)\n",
    "        targets = targets.to(device)\n",
    "        optimizer.zero_grad()\n",
    "        with torch.cuda.amp.autocast():\n",
    "            scores = model(data)\n",
    "            loss = loss_fn(scores, targets.float())\n",
    "        scaler.scale(loss).backward()\n",
    "        scaler.step(optimizer)\n",
    "        scaler.update()\n",
    "        loss += loss.item() * data.size(0)\n",
    "        accuracy += get_accuracy(targets, scores, data)\n",
    "    return accuracy, loss"
   ]
  },
  {
   "cell_type": "code",
   "execution_count": null,
   "metadata": {},
   "outputs": [],
   "source": [
    "def val_fn(loader, model, loss_fn, scaler):\n",
    "    accuracy = 0\n",
    "    loss = 0\n",
    "    with torch.no_grad():\n",
    "        model.eval()\n",
    "        for _, (data, targets) in enumerate(tqdm(loader)):\n",
    "            data = data.to(device)\n",
    "            targets = targets.to(device)\n",
    "            with torch.cuda.amp.autocast():\n",
    "                scores = model(data)\n",
    "                loss = loss_fn(scores, targets.float())\n",
    "            scaler.scale(loss).backward()\n",
    "            scaler.update()\n",
    "            loss += loss.item() * data.size(0)\n",
    "            accuracy += get_accuracy(targets, scores, data)\n",
    "    return accuracy, loss"
   ]
  },
  {
   "cell_type": "code",
   "execution_count": null,
   "metadata": {},
   "outputs": [],
   "source": [
    "def add_to_history(history, train_metrics, val_metrics):\n",
    "    train_acc, train_loss = train_metrics\n",
    "    val_acc, val_loss = val_metrics\n",
    "    avg_train_loss = train_loss/train_size\n",
    "    avg_train_acc = train_acc/train_size\n",
    "    avg_valid_loss = val_loss / val_size\n",
    "    avg_valid_acc = val_acc / val_size\n",
    "    history.append([avg_train_loss, avg_valid_loss, avg_train_acc, avg_valid_acc])"
   ]
  },
  {
   "cell_type": "code",
   "execution_count": null,
   "metadata": {},
   "outputs": [],
   "source": [
    "train_loader, test_loader = get_loaders()\n",
    "model = resnext101_32x8d(pretrained=True)\n",
    "# for param in model.parameters():\n",
    "#     param.requires_grad = False\n",
    "model.fc = Linear(2048, 2)"
   ]
  },
  {
   "cell_type": "code",
   "execution_count": null,
   "metadata": {},
   "outputs": [],
   "source": [
    "loss_fn = CrossEntropyLoss()\n",
    "optimizer = Adam(model.parameters(), lr=0.1)\n",
    "scaler = torch.cuda.amp.GradScaler()\n",
    "history = []"
   ]
  },
  {
   "cell_type": "code",
   "execution_count": null,
   "metadata": {},
   "outputs": [],
   "source": [
    "for _ in range(10):\n",
    "    train_metrics = train_fn(train_loader, model, optimizer, loss_fn, scaler)\n",
    "    val_metrics = val_fn(test_loader, model, loss_fn, scaler)\n",
    "    add_to_history(history, train_metrics, val_metrics)"
   ]
  },
  {
   "cell_type": "code",
   "execution_count": null,
   "metadata": {},
   "outputs": [],
   "source": [
    "print(val_fn(test_loader, model, loss_fn, scaler))"
   ]
  }
 ],
 "metadata": {
  "kernelspec": {
   "display_name": "Python 3",
   "language": "python",
   "name": "python3"
  },
  "language_info": {
   "codemirror_mode": {
    "name": "ipython",
    "version": 3
   },
   "file_extension": ".py",
   "mimetype": "text/x-python",
   "name": "python",
   "nbconvert_exporter": "python",
   "pygments_lexer": "ipython3",
   "version": "3.8.7"
  }
 },
 "nbformat": 4,
 "nbformat_minor": 2
}
