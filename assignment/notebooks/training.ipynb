{
 "cells": [
  {
   "cell_type": "markdown",
   "metadata": {
    "colab_type": "text",
    "id": "view-in-github"
   },
   "source": [
    "<a href=\"https://colab.research.google.com/github/ricglz/CE888_activities/blob/main/assignment/training_best.ipynb\" target=\"_parent\"><img src=\"https://colab.research.google.com/assets/colab-badge.svg\" alt=\"Open In Colab\"/></a>"
   ]
  },
  {
   "cell_type": "code",
   "execution_count": null,
   "metadata": {
    "id": "JgkVi8QRsbB0"
   },
   "outputs": [],
   "source": [
    "!pip install -U -qqq torch==1.8.0 torchvision torchtext\n",
    "!pip install -qqq timm pytorch-lightning wandb\n",
    "!git clone https://github.com/ricglz/CE888_activities.git repo\n",
    "%cd repo/assignment/scripts/\n",
    "!python utils.py"
   ]
  },
  {
   "cell_type": "code",
   "execution_count": null,
   "metadata": {
    "id": "WuukCXSGyrdz"
   },
   "outputs": [],
   "source": [
    "!wandb login --anonymously"
   ]
  },
  {
   "cell_type": "code",
   "execution_count": null,
   "metadata": {},
   "outputs": [],
   "source": [
    "!python train.py --help"
   ]
  },
  {
   "cell_type": "code",
   "execution_count": null,
   "metadata": {
    "id": "jL4exZ1WllnM"
   },
   "outputs": [],
   "source": [
    "!python train.py --anneal_strategy=cos --base_momentum=0.8051269571918493 --div_factor=7.439738529162385 --drop_rate=0.4068513486859972 --epochs=5 --final_div_factor=11916.417733845818 --lr=0.04056258042139802 --max_momentum=0.9269449782055802 --model_name=rexnet_200 --pct_start=0.4355520121605256 --precision=16 --stages=5 --three_phase=False --train_bn=False --unfreeze_per_step=18 --weight_decay=1.720985158960819e-05"
   ]
  },
  {
   "cell_type": "code",
   "execution_count": null,
   "metadata": {},
   "outputs": [],
   "source": [
    "!python test.py --help"
   ]
  }
 ],
 "metadata": {
  "accelerator": "GPU",
  "colab": {
   "collapsed_sections": [],
   "include_colab_link": true,
   "name": "training_best.ipynb",
   "provenance": []
  },
  "kernelspec": {
   "display_name": "Python 3",
   "language": "python",
   "name": "python3"
  },
  "language_info": {
   "codemirror_mode": {
    "name": "ipython",
    "version": 3
   },
   "file_extension": ".py",
   "mimetype": "text/x-python",
   "name": "python",
   "nbconvert_exporter": "python",
   "pygments_lexer": "ipython3",
   "version": "3.8.9"
  }
 },
 "nbformat": 4,
 "nbformat_minor": 1
}
