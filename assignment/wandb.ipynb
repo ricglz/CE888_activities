{
  "nbformat": 4,
  "nbformat_minor": 0,
  "metadata": {
    "colab": {
      "name": "Untitled0.ipynb",
      "provenance": [],
      "collapsed_sections": [],
      "authorship_tag": "ABX9TyMSfCwObpvVO6Yz2RbO7hIU",
      "include_colab_link": true
    },
    "kernelspec": {
      "name": "python3",
      "display_name": "Python 3"
    },
    "language_info": {
      "name": "python"
    },
    "accelerator": "GPU"
  },
  "cells": [
    {
      "cell_type": "markdown",
      "metadata": {
        "id": "view-in-github",
        "colab_type": "text"
      },
      "source": [
        "<a href=\"https://colab.research.google.com/github/ricglz/CE888_activities/blob/main/assignment/wandb.ipynb\" target=\"_parent\"><img src=\"https://colab.research.google.com/assets/colab-badge.svg\" alt=\"Open In Colab\"/></a>"
      ]
    },
    {
      "cell_type": "code",
      "metadata": {
        "colab": {
          "base_uri": "https://localhost:8080/"
        },
        "id": "JgkVi8QRsbB0",
        "outputId": "4987763c-6040-4c9b-8686-9c6f84e494f0"
      },
      "source": [
        "!pip install -qqq -u torch torchvision\n",
        "!pip install -qqq timm pytorch-lightning wandb\n",
        "!git clone https://github.com/ricglz/CE888_activities.git repo\n",
        "%cd repo/assignment/scripts/\n",
        "!python utils.py"
      ],
      "execution_count": 1,
      "outputs": [
        {
          "output_type": "stream",
          "text": [
            "\u001b[K     |████████████████████████████████| 296kB 13.5MB/s \n",
            "\u001b[K     |████████████████████████████████| 829kB 40.4MB/s \n",
            "\u001b[K     |████████████████████████████████| 2.0MB 57.0MB/s \n",
            "\u001b[K     |████████████████████████████████| 112kB 63.3MB/s \n",
            "\u001b[K     |████████████████████████████████| 829kB 58.8MB/s \n",
            "\u001b[K     |████████████████████████████████| 276kB 53.4MB/s \n",
            "\u001b[K     |████████████████████████████████| 102kB 13.7MB/s \n",
            "\u001b[K     |████████████████████████████████| 133kB 57.2MB/s \n",
            "\u001b[K     |████████████████████████████████| 163kB 56.8MB/s \n",
            "\u001b[K     |████████████████████████████████| 1.3MB 46.5MB/s \n",
            "\u001b[K     |████████████████████████████████| 71kB 10.6MB/s \n",
            "\u001b[K     |████████████████████████████████| 143kB 53.7MB/s \n",
            "\u001b[K     |████████████████████████████████| 296kB 59.9MB/s \n",
            "\u001b[?25h  Building wheel for future (setup.py) ... \u001b[?25l\u001b[?25hdone\n",
            "  Building wheel for PyYAML (setup.py) ... \u001b[?25l\u001b[?25hdone\n",
            "  Building wheel for subprocess32 (setup.py) ... \u001b[?25l\u001b[?25hdone\n",
            "  Building wheel for pathtools (setup.py) ... \u001b[?25l\u001b[?25hdone\n",
            "Cloning into 'repo'...\n",
            "remote: Enumerating objects: 180, done.\u001b[K\n",
            "remote: Counting objects: 100% (180/180), done.\u001b[K\n",
            "remote: Compressing objects: 100% (115/115), done.\u001b[K\n",
            "remote: Total 622 (delta 123), reused 112 (delta 64), pack-reused 442\u001b[K\n",
            "Receiving objects: 100% (622/622), 2.52 MiB | 34.91 MiB/s, done.\n",
            "Resolving deltas: 100% (378/378), done.\n",
            "/content/repo/assignment/scripts\n",
            "Go to this URL in a browser: https://accounts.google.com/o/oauth2/auth?client_id=947318989803-6bn6qk8qdgf4n4g3pfee6491hc0brc4i.apps.googleusercontent.com&redirect_uri=urn%3aietf%3awg%3aoauth%3a2.0%3aoob&scope=email%20https%3a%2f%2fwww.googleapis.com%2fauth%2fdocs.test%20https%3a%2f%2fwww.googleapis.com%2fauth%2fdrive%20https%3a%2f%2fwww.googleapis.com%2fauth%2fdrive.photos.readonly%20https%3a%2f%2fwww.googleapis.com%2fauth%2fpeopleapi.readonly%20https%3a%2f%2fwww.googleapis.com%2fauth%2fdrive.activity.readonly%20https%3a%2f%2fwww.googleapis.com%2fauth%2fexperimentsandconfigs%20https%3a%2f%2fwww.googleapis.com%2fauth%2fphotos.native&response_type=code\n",
            "\n",
            "Enter your authorization code:\n",
            "4/1AY0e-g5dLp60DT0nYjS1h1l9WdhMKQ8SM8bepT-ZAzidTE9QjoU4lC_WP7w\n",
            "Mounted at /content/gdrive\n",
            "Extracting : 100% 101605/101605 [01:12<00:00, 1392.31it/s]\n"
          ],
          "name": "stdout"
        }
      ]
    },
    {
      "cell_type": "code",
      "metadata": {
        "id": "wyO9mblbt0cj"
      },
      "source": [
        "!wandb sweep sweep.yaml"
      ],
      "execution_count": null,
      "outputs": []
    },
    {
      "cell_type": "code",
      "metadata": {
        "id": "VdpMI_nuG9v1"
      },
      "source": [
        "# !wandb agent seed"
      ],
      "execution_count": null,
      "outputs": []
    }
  ]
}