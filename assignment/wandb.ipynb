{
  "nbformat": 4,
  "nbformat_minor": 0,
  "metadata": {
    "colab": {
      "name": "Untitled0.ipynb",
      "provenance": [],
      "collapsed_sections": [],
      "include_colab_link": true
    },
    "kernelspec": {
      "name": "python3",
      "display_name": "Python 3"
    },
    "language_info": {
      "name": "python"
    },
    "accelerator": "GPU"
  },
  "cells": [
    {
      "cell_type": "markdown",
      "metadata": {
        "id": "view-in-github",
        "colab_type": "text"
      },
      "source": [
        "<a href=\"https://colab.research.google.com/github/ricglz/CE888_activities/blob/main/assignment/wandb.ipynb\" target=\"_parent\"><img src=\"https://colab.research.google.com/assets/colab-badge.svg\" alt=\"Open In Colab\"/></a>"
      ]
    },
    {
      "cell_type": "code",
      "metadata": {
        "id": "JgkVi8QRsbB0"
      },
      "source": [
        "!pip install -U -qqq torch==1.8.0 torchvision torchtext\n",
        "!pip install -qqq timm pytorch-lightning wandb\n",
        "!git clone https://github.com/ricglz/CE888_activities.git repo\n",
        "%cd repo/assignment/scripts/\n",
        "!python utils.py"
      ],
      "execution_count": null,
      "outputs": []
    },
    {
      "cell_type": "code",
      "metadata": {
        "id": "wyO9mblbt0cj"
      },
      "source": [
        "!wandb sweep sweep.yaml"
      ],
      "execution_count": 2,
      "outputs": []
    },
    {
      "cell_type": "code",
      "metadata": {
        "id": "VdpMI_nuG9v1"
      },
      "source": [
        "# !wandb agent <seed>"
      ],
      "execution_count": null,
      "outputs": []
    }
  ]
}