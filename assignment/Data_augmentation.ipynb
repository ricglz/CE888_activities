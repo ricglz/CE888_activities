{
  "nbformat": 4,
  "nbformat_minor": 0,
  "metadata": {
    "colab": {
      "name": "Data_augmentation.ipynb",
      "provenance": [],
      "collapsed_sections": [],
      "include_colab_link": true
    },
    "kernelspec": {
      "display_name": "Python [default]",
      "language": "python",
      "name": "python3"
    },
    "language_info": {
      "codemirror_mode": {
        "name": "ipython",
        "version": 3
      },
      "file_extension": ".py",
      "mimetype": "text/x-python",
      "name": "python",
      "nbconvert_exporter": "python",
      "pygments_lexer": "ipython3",
      "version": "3.7.0"
    }
  },
  "cells": [
    {
      "cell_type": "markdown",
      "metadata": {
        "id": "view-in-github",
        "colab_type": "text"
      },
      "source": [
        "<a href=\"https://colab.research.google.com/github/ricglz/CE888_activities/blob/main/assignment/Data_augmentation.ipynb\" target=\"_parent\"><img src=\"https://colab.research.google.com/assets/colab-badge.svg\" alt=\"Open In Colab\"/></a>"
      ]
    },
    {
      "cell_type": "code",
      "metadata": {
        "colab": {
          "base_uri": "https://localhost:8080/"
        },
        "id": "jR0i3ECTUmmx",
        "outputId": "af59c450-7d08-4178-bbfe-4d02da6cdeec"
      },
      "source": [
        "! [ ! -z \"$COLAB_GPU\" ] && pip install torch torchvision kaggleDownloader"
      ],
      "execution_count": null,
      "outputs": [
        {
          "output_type": "stream",
          "text": [
            "Requirement already satisfied: torch in /usr/local/lib/python3.6/dist-packages (1.7.0+cu101)\n",
            "Requirement already satisfied: torchvision in /usr/local/lib/python3.6/dist-packages (0.8.1+cu101)\n",
            "Requirement already satisfied: kaggleDownloader in /usr/local/lib/python3.6/dist-packages (4.2.1)\n",
            "Requirement already satisfied: future in /usr/local/lib/python3.6/dist-packages (from torch) (0.16.0)\n",
            "Requirement already satisfied: typing-extensions in /usr/local/lib/python3.6/dist-packages (from torch) (3.7.4.3)\n",
            "Requirement already satisfied: dataclasses in /usr/local/lib/python3.6/dist-packages (from torch) (0.8)\n",
            "Requirement already satisfied: numpy in /usr/local/lib/python3.6/dist-packages (from torch) (1.19.5)\n",
            "Requirement already satisfied: pillow>=4.1.1 in /usr/local/lib/python3.6/dist-packages (from torchvision) (7.0.0)\n"
          ],
          "name": "stdout"
        }
      ]
    },
    {
      "cell_type": "markdown",
      "metadata": {
        "id": "Bu0y8g8gUmmz"
      },
      "source": [
        "# Preparations\n",
        "\n",
        "----"
      ]
    },
    {
      "cell_type": "code",
      "metadata": {
        "id": "S9lcSzI7KZrT"
      },
      "source": [
        "from kaggleDownloader import get_dataset\n",
        "from torchvision.datasets import ImageFolder\n",
        "from os import path\n",
        "from tqdm import tqdm\n",
        "from google.colab import drive\n",
        "\n",
        "import torchvision.utils as t_utils\n",
        "import torchvision.transforms as T"
      ],
      "execution_count": null,
      "outputs": []
    },
    {
      "cell_type": "code",
      "metadata": {
        "colab": {
          "base_uri": "https://localhost:8080/"
        },
        "id": "NeqA16HnUmmz",
        "outputId": "cfb1896a-9a83-4640-df3c-ff46cad0c2ff"
      },
      "source": [
        "drive_path = '/content/gdrive'\n",
        "drive.mount(drive_path, force_remount=False)"
      ],
      "execution_count": null,
      "outputs": [
        {
          "output_type": "stream",
          "text": [
            "Drive already mounted at /content/gdrive; to attempt to forcibly remount, call drive.mount(\"/content/gdrive\", force_remount=True).\n"
          ],
          "name": "stdout"
        }
      ]
    },
    {
      "cell_type": "code",
      "metadata": {
        "id": "oZoa1eTeKDUk"
      },
      "source": [
        "classes = ['Fire', 'No_Fire']\n",
        "training_path = path.join(drive_path, 'MyDrive/Essex/Datasets/Flame/Training')"
      ],
      "execution_count": null,
      "outputs": []
    },
    {
      "cell_type": "code",
      "metadata": {
        "id": "WVsJTO7bKdhD"
      },
      "source": [
        "def save_image(img, label, prefix):\n",
        "    klass = classes[label]\n",
        "    img_path = path.join(training_path, f'{klass}/{prefix}_{index}.png')\n",
        "    t_utils.save_image(img, img_path)"
      ],
      "execution_count": null,
      "outputs": []
    },
    {
      "cell_type": "code",
      "metadata": {
        "id": "pSlRyn14KGy8",
        "colab": {
          "base_uri": "https://localhost:8080/"
        },
        "outputId": "e99bcea5-359d-4aec-ec4e-e3e8ba9c29f1"
      },
      "source": [
        "# To soft start the drive mount\n",
        "ImageFolder(training_path)\n",
        "print()"
      ],
      "execution_count": null,
      "outputs": [
        {
          "output_type": "stream",
          "text": [
            "\n"
          ],
          "name": "stdout"
        }
      ]
    },
    {
      "cell_type": "markdown",
      "metadata": {
        "id": "lMnujpMEwJb1"
      },
      "source": [
        "# Add new dataset to the existent one\n",
        "\n",
        "----"
      ]
    },
    {
      "cell_type": "markdown",
      "metadata": {
        "id": "YheqSr9ZXphW"
      },
      "source": [
        "One of the principal problems of the current dataset is that the images are basically a burst of shots of the same environment, this leads to the problem that the model learns to recognize the environment instead of recognizing fire\n",
        "\n",
        "To avoid this we will use another [dataset that can be found in kaggle](https://www.kaggle.com/phylake1337/fire-dataset). Which may help the model to actually recognize the fire"
      ]
    },
    {
      "cell_type": "code",
      "metadata": {
        "colab": {
          "base_uri": "https://localhost:8080/"
        },
        "id": "O2gzaZECtXtq",
        "outputId": "484639bf-3f40-4683-90f4-aa6b6f38e9bf"
      },
      "source": [
        "get_dataset('kaggle datasets download -d phylake1337/fire-dataset')"
      ],
      "execution_count": null,
      "outputs": [
        {
          "output_type": "stream",
          "text": [
            "Downloading the dataset....\n",
            "\n",
            "Download completed..\n",
            "Unzipping the zip files\n",
            "\n",
            "Zip Files unzipped\n",
            "\n",
            " Directory contains the following files :  ['.config', 'fire-dataset.zip', 'kaggle.json', 'gdrive', 'fire_dataset', 'sample_data']\n",
            "\n",
            "Remove zip files ? (yes/no) :yes\n",
            "\n",
            " Directory contains the following files :  ['.config', 'kaggle.json', 'gdrive', 'fire_dataset', 'sample_data']\n"
          ],
          "name": "stdout"
        }
      ]
    },
    {
      "cell_type": "code",
      "metadata": {
        "id": "bQsgMlNHttPW"
      },
      "source": [
        "resize = T.Resize((254, 254))\n",
        "transforms = T.Compose([resize, T.ToTensor()])"
      ],
      "execution_count": null,
      "outputs": []
    },
    {
      "cell_type": "code",
      "metadata": {
        "id": "czyTRe4cDOQ-",
        "colab": {
          "base_uri": "https://localhost:8080/"
        },
        "outputId": "bd1d1fab-79c2-46f5-e9b5-a25a99fa17c4"
      },
      "source": [
        "extra_data = ImageFolder('/content/fire_dataset', transforms)\n",
        "len(extra_data)"
      ],
      "execution_count": null,
      "outputs": [
        {
          "output_type": "execute_result",
          "data": {
            "text/plain": [
              "999"
            ]
          },
          "metadata": {
            "tags": []
          },
          "execution_count": 9
        }
      ]
    },
    {
      "cell_type": "markdown",
      "metadata": {
        "id": "yjhjPqt0E8q5"
      },
      "source": [
        "## Save the image"
      ]
    },
    {
      "cell_type": "code",
      "metadata": {
        "colab": {
          "base_uri": "https://localhost:8080/"
        },
        "id": "eDesmiAcuzXo",
        "outputId": "e77e74c8-f40d-4f39-f544-4308b4f5fee4"
      },
      "source": [
        "for index, (img, label) in enumerate(tqdm(extra_data)):\n",
        "    save_image(img, label, 'extra_dataset')"
      ],
      "execution_count": null,
      "outputs": [
        {
          "output_type": "stream",
          "text": [
            "100%|██████████| 999/999 [01:16<00:00, 13.13it/s]\n"
          ],
          "name": "stderr"
        }
      ]
    },
    {
      "cell_type": "markdown",
      "metadata": {
        "id": "iixFi55mUmm1"
      },
      "source": [
        "# Augment the data\n",
        "\n",
        "----"
      ]
    },
    {
      "cell_type": "markdown",
      "metadata": {
        "id": "9sBrFemBUmm1"
      },
      "source": [
        "We'll augment the current dataset by\n",
        "- Modifying the brightness of the image\n",
        "- Doing random flips (vertical and horizontal)\n",
        "- Doing random rotation"
      ]
    },
    {
      "cell_type": "code",
      "metadata": {
        "id": "VDmTwvy1Umm2",
        "colab": {
          "base_uri": "https://localhost:8080/",
          "height": 130
        },
        "outputId": "23367acf-9d11-4483-ccfe-93f284574df5"
      },
      "source": [
        "# transforms = T.Compose([\n",
        "#   resize,\n",
        "#   T.ColorJitter(brightness=0.55),\n",
        "#   T.RandomRotation(degrees=5),\n",
        "#   T.ToTensor(),\n",
        "# ])"
      ],
      "execution_count": null,
      "outputs": [
        {
          "output_type": "error",
          "ename": "SyntaxError",
          "evalue": "ignored",
          "traceback": [
            "\u001b[0;36m  File \u001b[0;32m\"<ipython-input-11-65cb46271559>\"\u001b[0;36m, line \u001b[0;32m6\u001b[0m\n\u001b[0;31m    ])\u001b[0m\n\u001b[0m    ^\u001b[0m\n\u001b[0;31mSyntaxError\u001b[0m\u001b[0;31m:\u001b[0m invalid syntax\n"
          ]
        }
      ]
    },
    {
      "cell_type": "code",
      "metadata": {
        "id": "1LFquFs1aYUw"
      },
      "source": [
        "# train_ds = ImageFolder(training_path, transforms)"
      ],
      "execution_count": null,
      "outputs": []
    },
    {
      "cell_type": "code",
      "metadata": {
        "id": "jmilqJnFX-_Q"
      },
      "source": [
        "# for index, (img, label) in enumerate(tqdm(train_ds)):\n",
        "#     save_image(img, label, 'augmented')"
      ],
      "execution_count": null,
      "outputs": []
    },
    {
      "cell_type": "markdown",
      "metadata": {
        "id": "0M_WtMdFX6B-"
      },
      "source": [
        "# Balance datasets\n",
        "\n",
        "----"
      ]
    },
    {
      "cell_type": "code",
      "metadata": {
        "id": "q4nWlCDvY9ep"
      },
      "source": [
        "transforms = T.Compose([\n",
        "  resize,\n",
        "  T.ColorJitter(brightness=0.25, contrast=0.25),\n",
        "  T.RandomRotation(degrees=5),\n",
        "  T.RandomHorizontalFlip(),\n",
        "  T.RandomVerticalFlip(),\n",
        "  T.ToTensor(),\n",
        "])\n",
        "\n",
        "train_ds = ImageFolder(training_path, transforms)"
      ],
      "execution_count": null,
      "outputs": []
    },
    {
      "cell_type": "code",
      "metadata": {
        "id": "P__I6b-y2GJX"
      },
      "source": [
        "import numpy as np\n",
        "\n",
        "targets = np.array(train_ds.targets)"
      ],
      "execution_count": null,
      "outputs": []
    },
    {
      "cell_type": "code",
      "metadata": {
        "colab": {
          "base_uri": "https://localhost:8080/",
          "height": 37
        },
        "id": "GpMIn75A2S0S",
        "outputId": "2cf1469e-24a2-460f-c8cd-091ccb39798c"
      },
      "source": [
        "fire_data_count = np.count_nonzero(targets == 0)\n",
        "f'Fire data: {fire_data_count}'"
      ],
      "execution_count": null,
      "outputs": [
        {
          "output_type": "execute_result",
          "data": {
            "application/vnd.google.colaboratory.intrinsic+json": {
              "type": "string"
            },
            "text/plain": [
              "'Fire data: 25829'"
            ]
          },
          "metadata": {
            "tags": []
          },
          "execution_count": 14
        }
      ]
    },
    {
      "cell_type": "code",
      "metadata": {
        "id": "gRXLt32uFIHY",
        "colab": {
          "base_uri": "https://localhost:8080/",
          "height": 37
        },
        "outputId": "c341db61-dbe0-42c4-f630-e4c802f95880"
      },
      "source": [
        "non_fire_data_count = np.count_nonzero(targets == 1)\n",
        "f'Non-Fire data: {non_fire_data_count}'"
      ],
      "execution_count": null,
      "outputs": [
        {
          "output_type": "execute_result",
          "data": {
            "application/vnd.google.colaboratory.intrinsic+json": {
              "type": "string"
            },
            "text/plain": [
              "'Non-Fire data: 14632'"
            ]
          },
          "metadata": {
            "tags": []
          },
          "execution_count": 15
        }
      ]
    },
    {
      "cell_type": "code",
      "metadata": {
        "id": "z-2RchAzxKkV"
      },
      "source": [
        "klass_counts = [fire_data_count, non_fire_data_count]\n",
        "minor_klass = np.argmin(klass_counts)\n",
        "minor_count = min(klass_counts)\n",
        "max_count = max(klass_counts)"
      ],
      "execution_count": null,
      "outputs": []
    },
    {
      "cell_type": "code",
      "metadata": {
        "id": "jlUxPBNDWRBm",
        "colab": {
          "base_uri": "https://localhost:8080/"
        },
        "outputId": "d1d640da-609d-4197-fcbd-e467cd387b10"
      },
      "source": [
        "images_to_save = min(max_count - minor_count, minor_count)\n",
        "images_to_save"
      ],
      "execution_count": null,
      "outputs": [
        {
          "output_type": "execute_result",
          "data": {
            "text/plain": [
              "11197"
            ]
          },
          "metadata": {
            "tags": []
          },
          "execution_count": 16
        }
      ]
    },
    {
      "cell_type": "markdown",
      "metadata": {
        "id": "c7bLUpYWB9uU"
      },
      "source": [
        "## Save the image"
      ]
    },
    {
      "cell_type": "code",
      "metadata": {
        "colab": {
          "base_uri": "https://localhost:8080/"
        },
        "id": "EfoQA0XVAjvz",
        "outputId": "c0e0b590-7c11-4028-c921-ba35676f3ca5"
      },
      "source": [
        "saved_images = 0\n",
        "for index, (img, label) in enumerate(tqdm(train_ds)):\n",
        "    if label == minor_klass:\n",
        "      save_image(img, label, 'balance')\n",
        "      saved_images += 1\n",
        "      if saved_images == images_to_save:\n",
        "        break"
      ],
      "execution_count": null,
      "outputs": [
        {
          "output_type": "stream",
          "text": [
            " 92%|█████████▏| 37025/40461 [3:24:15<20:12,  2.83it/s]"
          ],
          "name": "stderr"
        }
      ]
    },
    {
      "cell_type": "markdown",
      "metadata": {
        "id": "g7HlqOPiZclm"
      },
      "source": [
        "# Check final count\n",
        "\n",
        "----"
      ]
    },
    {
      "cell_type": "code",
      "metadata": {
        "id": "_94a2RTF06U2"
      },
      "source": [
        "train_ds = ImageFolder(training_path, transforms)\n",
        "targets = np.array(train_ds.targets)"
      ],
      "execution_count": null,
      "outputs": []
    },
    {
      "cell_type": "code",
      "metadata": {
        "id": "SO8t3J7S090e",
        "colab": {
          "base_uri": "https://localhost:8080/",
          "height": 363
        },
        "outputId": "d972c61e-4cfd-427e-a252-7a1305aeab7b"
      },
      "source": [
        "fire_data_count = np.count_nonzero(targets == 0)\n",
        "f'Fire data: {fire_data_count}'"
      ],
      "execution_count": null,
      "outputs": [
        {
          "output_type": "execute_result",
          "data": {
            "application/vnd.google.colaboratory.intrinsic+json": {
              "type": "string"
            },
            "text/plain": [
              "'Fire data: 25829'"
            ]
          },
          "metadata": {
            "tags": []
          },
          "execution_count": 19
        }
      ]
    },
    {
      "cell_type": "code",
      "metadata": {
        "id": "BJjD8cQ-1DVc",
        "colab": {
          "base_uri": "https://localhost:8080/",
          "height": 431
        },
        "outputId": "af9ffa66-ae16-4545-e818-50c08fccd1bf"
      },
      "source": [
        "non_fire_data_count = np.count_nonzero(targets == 1)\n",
        "f'Non-Fire data: {non_fire_data_count}'"
      ],
      "execution_count": null,
      "outputs": [
        {
          "output_type": "execute_result",
          "data": {
            "application/vnd.google.colaboratory.intrinsic+json": {
              "type": "string"
            },
            "text/plain": [
              "'Non-Fire data: 25829'"
            ]
          },
          "metadata": {
            "tags": []
          },
          "execution_count": 20
        }
      ]
    },
    {
      "cell_type": "code",
      "metadata": {
        "colab": {
          "base_uri": "https://localhost:8080/",
          "height": 295
        },
        "id": "YfKG3al1Zf3Y",
        "outputId": "4a228e55-039a-46a0-8c7c-3d3d1b5165f6"
      },
      "source": [
        "f'Total: {fire_data_count + non_fire_data_count}'"
      ],
      "execution_count": null,
      "outputs": [
        {
          "output_type": "execute_result",
          "data": {
            "application/vnd.google.colaboratory.intrinsic+json": {
              "type": "string"
            },
            "text/plain": [
              "'Total: 51658'"
            ]
          },
          "metadata": {
            "tags": []
          },
          "execution_count": 21
        }
      ]
    }
  ]
}