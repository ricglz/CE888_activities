{
  "nbformat": 4,
  "nbformat_minor": 0,
  "metadata": {
    "accelerator": "GPU",
    "colab": {
      "name": "Project_1.ipynb",
      "provenance": [],
      "collapsed_sections": [
        "IKioRsqnkdCH",
        "Bu0y8g8gUmmz",
        "iixFi55mUmm1",
        "F961Gb0ZUmm3",
        "7WEDynHWUmm5",
        "xyQ3D-5uUmm5",
        "o9b7Q8CkUmm8",
        "X7Z5j-8ogntu",
        "McSBPhJshE_U"
      ],
      "include_colab_link": true
    },
    "kernelspec": {
      "display_name": "Python [default]",
      "language": "python",
      "name": "python3"
    },
    "language_info": {
      "codemirror_mode": {
        "name": "ipython",
        "version": 3
      },
      "file_extension": ".py",
      "mimetype": "text/x-python",
      "name": "python",
      "nbconvert_exporter": "python",
      "pygments_lexer": "ipython3",
      "version": "3.7.0"
    }
  },
  "cells": [
    {
      "cell_type": "markdown",
      "metadata": {
        "id": "view-in-github",
        "colab_type": "text"
      },
      "source": [
        "<a href=\"https://colab.research.google.com/github/ricglz/CE888_activities/blob/main/assignment/Project_1.ipynb\" target=\"_parent\"><img src=\"https://colab.research.google.com/assets/colab-badge.svg\" alt=\"Open In Colab\"/></a>"
      ]
    },
    {
      "cell_type": "markdown",
      "metadata": {
        "id": "IKioRsqnkdCH"
      },
      "source": [
        "# Install dependencies\n",
        "\n",
        "---"
      ]
    },
    {
      "cell_type": "code",
      "metadata": {
        "colab": {
          "base_uri": "https://localhost:8080/"
        },
        "id": "jR0i3ECTUmmx",
        "outputId": "6ec8c571-728b-4774-b376-ab771b92ea22"
      },
      "source": [
        "!pip install torch torchvision skorch timm"
      ],
      "execution_count": null,
      "outputs": [
        {
          "output_type": "stream",
          "text": [
            "Requirement already satisfied: torch in /usr/local/lib/python3.6/dist-packages (1.7.0+cu101)\n",
            "Requirement already satisfied: torchvision in /usr/local/lib/python3.6/dist-packages (0.8.1+cu101)\n",
            "Requirement already satisfied: skorch in /usr/local/lib/python3.6/dist-packages (0.9.0)\n",
            "Requirement already satisfied: timm in /usr/local/lib/python3.6/dist-packages (0.3.4)\n",
            "Requirement already satisfied: typing-extensions in /usr/local/lib/python3.6/dist-packages (from torch) (3.7.4.3)\n",
            "Requirement already satisfied: future in /usr/local/lib/python3.6/dist-packages (from torch) (0.16.0)\n",
            "Requirement already satisfied: dataclasses in /usr/local/lib/python3.6/dist-packages (from torch) (0.8)\n",
            "Requirement already satisfied: numpy in /usr/local/lib/python3.6/dist-packages (from torch) (1.19.5)\n",
            "Requirement already satisfied: pillow>=4.1.1 in /usr/local/lib/python3.6/dist-packages (from torchvision) (7.0.0)\n",
            "Requirement already satisfied: tabulate>=0.7.7 in /usr/local/lib/python3.6/dist-packages (from skorch) (0.8.7)\n",
            "Requirement already satisfied: scipy>=1.1.0 in /usr/local/lib/python3.6/dist-packages (from skorch) (1.4.1)\n",
            "Requirement already satisfied: tqdm>=4.14.0 in /usr/local/lib/python3.6/dist-packages (from skorch) (4.41.1)\n",
            "Requirement already satisfied: scikit-learn>=0.19.1 in /usr/local/lib/python3.6/dist-packages (from skorch) (0.22.2.post1)\n",
            "Requirement already satisfied: joblib>=0.11 in /usr/local/lib/python3.6/dist-packages (from scikit-learn>=0.19.1->skorch) (1.0.0)\n"
          ],
          "name": "stdout"
        }
      ]
    },
    {
      "cell_type": "markdown",
      "metadata": {
        "id": "Bu0y8g8gUmmz"
      },
      "source": [
        "# Preparations\n",
        "\n",
        "---"
      ]
    },
    {
      "cell_type": "markdown",
      "metadata": {
        "id": "4p6zCFXskagK"
      },
      "source": [
        "\n",
        "Before we begin, lets mount the google drive to later on read information from it:"
      ]
    },
    {
      "cell_type": "code",
      "metadata": {
        "colab": {
          "base_uri": "https://localhost:8080/"
        },
        "id": "NeqA16HnUmmz",
        "outputId": "958a4cc5-7668-4f35-d7f2-c9fe74670714"
      },
      "source": [
        "from google.colab import drive\n",
        "\n",
        "drive_path = '/content/gdrive'\n",
        "drive.mount(drive_path, force_remount=False)\n",
        "drive_path += '/MyDrive'"
      ],
      "execution_count": null,
      "outputs": [
        {
          "output_type": "stream",
          "text": [
            "Drive already mounted at /content/gdrive; to attempt to forcibly remount, call drive.mount(\"/content/gdrive\", force_remount=True).\n"
          ],
          "name": "stdout"
        }
      ]
    },
    {
      "cell_type": "markdown",
      "metadata": {
        "id": "3XqUaGeNebYT"
      },
      "source": [
        "Next we will set the seeds in everything to make this as deterministic as possible"
      ]
    },
    {
      "cell_type": "code",
      "metadata": {
        "id": "MuutjrXRcWd7"
      },
      "source": [
        "import torch\n",
        "import random\n",
        "import numpy as np\n",
        "\n",
        "seed = 42\n",
        "torch.manual_seed(seed)\n",
        "torch.cuda.manual_seed(seed)\n",
        "random.seed(seed)\n",
        "np.random.seed(seed)\n",
        "torch.backends.cudnn.deterministic = True"
      ],
      "execution_count": null,
      "outputs": []
    },
    {
      "cell_type": "markdown",
      "metadata": {
        "id": "iixFi55mUmm1"
      },
      "source": [
        "# Gather the dataset\n",
        "\n",
        "----"
      ]
    },
    {
      "cell_type": "markdown",
      "metadata": {
        "id": "6TqYrYNWAQ18"
      },
      "source": [
        "For this we will create both our training _(which later on will be splitted into actual training an validation)_ and testing dataset.\n",
        "\n",
        "Pytorch also allows us to have transformations like the resize and the normalization. The normalization used are [the mean and std of the ImageNet dataset](https://github.com/rwightman/pytorch-image-models/blob/master/timm/data/constants.py)"
      ]
    },
    {
      "cell_type": "code",
      "metadata": {
        "id": "VDmTwvy1Umm2"
      },
      "source": [
        "import torchvision.transforms as T\n",
        "from os import path\n",
        "\n",
        "data_dir = path.join(drive_path, 'Essex/Datasets/Flame')\n",
        "resize = T.Resize((254, 254))\n",
        "normalize = T.Normalize([0.485, 0.456, 0.406], \n",
        "                         [0.229, 0.224, 0.225])"
      ],
      "execution_count": null,
      "outputs": []
    },
    {
      "cell_type": "code",
      "metadata": {
        "id": "_HStp5BCmbkI"
      },
      "source": [
        "train_transforms = T.Compose([\n",
        "  resize,\n",
        "  T.ColorJitter(brightness=0.25, contrast=0.25),\n",
        "  T.RandomRotation(degrees=5),\n",
        "  T.RandomHorizontalFlip(),\n",
        "  T.RandomVerticalFlip(),\n",
        "  T.ToTensor(),\n",
        "  normalize\n",
        "])\n",
        "transforms = T.Compose([\n",
        "  resize,\n",
        "  T.ToTensor(),\n",
        "  normalize\n",
        "])"
      ],
      "execution_count": null,
      "outputs": []
    },
    {
      "cell_type": "code",
      "metadata": {
        "id": "GxTIbTj_mXxM",
        "colab": {
          "base_uri": "https://localhost:8080/"
        },
        "outputId": "0730d40f-a64a-4033-e7b4-e38da155d3b4"
      },
      "source": [
        "import torchvision.datasets as datasets\n",
        "\n",
        "train_ds = datasets.ImageFolder(path.join(data_dir, 'Training'),\n",
        "                                train_transforms)\n",
        "len(train_ds)"
      ],
      "execution_count": null,
      "outputs": [
        {
          "output_type": "execute_result",
          "data": {
            "text/plain": [
              "51658"
            ]
          },
          "metadata": {
            "tags": []
          },
          "execution_count": 6
        }
      ]
    },
    {
      "cell_type": "code",
      "metadata": {
        "id": "5tAGsjjWgx24",
        "colab": {
          "base_uri": "https://localhost:8080/"
        },
        "outputId": "157972ff-908e-4bac-e024-714dcc3a63d1"
      },
      "source": [
        "test_ds = datasets.ImageFolder(path.join(data_dir, 'Test'), transforms)\n",
        "len(test_ds)"
      ],
      "execution_count": null,
      "outputs": [
        {
          "output_type": "execute_result",
          "data": {
            "text/plain": [
              "8617"
            ]
          },
          "metadata": {
            "tags": []
          },
          "execution_count": 7
        }
      ]
    },
    {
      "cell_type": "markdown",
      "metadata": {
        "id": "F961Gb0ZUmm3"
      },
      "source": [
        "# Create modular model \n",
        "\n",
        "---"
      ]
    },
    {
      "cell_type": "code",
      "metadata": {
        "id": "Cd7xePlvUmm4"
      },
      "source": [
        "from torch.nn import Linear, Module\n",
        "import timm\n",
        "\n",
        "f_params = None\n",
        "\n",
        "class PretrainedModel(Module):\n",
        "    def __init__(self, model='rexnet'):\n",
        "        super().__init__()\n",
        "        model_name = self.get_model_name(model)\n",
        "        self.model = timm.create_model(\n",
        "            model_name, pretrained=True, num_classes=1)\n",
        "    \n",
        "    def get_model_name(self, general_model):\n",
        "        return 'rexnet_200' if general_model == 'rexnet' else \\\n",
        "               'tf_efficientnet_b8' if general_model == 'efficientnet' else ''\n",
        "\n",
        "    def forward(self, x):\n",
        "        return self.model(x).squeeze(-1)"
      ],
      "execution_count": null,
      "outputs": []
    },
    {
      "cell_type": "markdown",
      "metadata": {
        "id": "7WEDynHWUmm5"
      },
      "source": [
        "# Defining the API\n",
        "\n",
        "---"
      ]
    },
    {
      "cell_type": "markdown",
      "metadata": {
        "id": "xyQ3D-5uUmm5"
      },
      "source": [
        "### Callbacks\n",
        "\n",
        "In this case the only Callback that will be used in every model will be an early stopping callback"
      ]
    },
    {
      "cell_type": "code",
      "metadata": {
        "id": "U38wxdqvuuan"
      },
      "source": [
        "from skorch.callbacks import EarlyStopping, Freezer, LRScheduler, ProgressBar\n",
        "from torch.optim.lr_scheduler import MultiplicativeLR, StepLR, LambdaLR\n",
        "\n",
        "is_not_trainable = lambda x: not x.startswith('model.fc') and \\\n",
        "                            not x.startswith('model._fc') and \\\n",
        "                            not x.startswith('model.head') and \\\n",
        "                            not x.startswith('model.classifier')\n",
        "freezer = Freezer(is_not_trainable) \n",
        "early_stopping = EarlyStopping(patience=3)\n",
        "progress_bar = ProgressBar()"
      ],
      "execution_count": null,
      "outputs": []
    },
    {
      "cell_type": "code",
      "metadata": {
        "id": "-i4GgEHPHKp3"
      },
      "source": [
        "lr = 5e-5\n",
        "num_warmup_steps = 6\n",
        "num_training_steps = 9\n",
        "max_lr = 5e-3\n",
        "min_lr = 1e-5\n",
        "\n",
        "def lr_lambda(epoch):\n",
        "    if epoch <= num_warmup_steps:\n",
        "        return np.log(max_lr / lr) / np.log(num_warmup_steps)\n",
        "    value = np.log(max_lr / min_lr) / np.log(num_training_steps)\n",
        "    return 1 - 1 / value\n",
        "\n",
        "# lr_lambda = lambda epoch: min(2 * epoch / 10, 0.9)\n",
        "scheduler = LRScheduler(policy=MultiplicativeLR, lr_lambda=lr_lambda)\n",
        "# scheduler = LRScheduler(policy=StepLR, gamma=8.95e-1, step_size=1)"
      ],
      "execution_count": null,
      "outputs": []
    },
    {
      "cell_type": "markdown",
      "metadata": {
        "id": "o9b7Q8CkUmm8"
      },
      "source": [
        "### Classifier class"
      ]
    },
    {
      "cell_type": "code",
      "metadata": {
        "id": "ouQuUaZduCI8"
      },
      "source": [
        "from torch import float64\n",
        "from skorch.classifier import NeuralNetBinaryClassifier\n",
        "from skorch.utils import to_tensor, to_numpy\n",
        "import sklearn.metrics as sk_metrics \n",
        "import numpy as np\n",
        "import matplotlib.pyplot as plt\n",
        "\n",
        "class MyClassifier(NeuralNetBinaryClassifier):\n",
        "    def infer(self, x, **fit_params):\n",
        "        x = to_tensor(x, device=self.device)\n",
        "        if isinstance(x, dict):\n",
        "            x_dict = self._merge_x_and_fit_params(x, fit_params)\n",
        "            return self.module_(**x_dict).to(device=self.device, dtype=float64)\n",
        "        return self.module_(x, **fit_params).to(device=self.device, dtype=float64)\n",
        "\n",
        "    def train_step_single(self, Xi, yi, **fit_params):\n",
        "        self.module_.train()\n",
        "        y_pred = self.infer(Xi, **fit_params)\n",
        "        yi = yi.to(device=self.device, dtype=float64)\n",
        "        loss = self.get_loss(y_pred, yi, X=Xi, training=True)\n",
        "        loss.backward()\n",
        "        return { 'loss': loss, 'y_pred': y_pred }\n",
        "\n",
        "    def validation_step(self, Xi, yi, **fit_params):\n",
        "        self.module_.eval()\n",
        "        y_pred = self.infer(Xi, **fit_params)\n",
        "        yi = yi.to(device=self.device, dtype=float64)\n",
        "        loss = self.get_loss(y_pred, yi, X=Xi, training=False)\n",
        "        return { 'loss': loss,'y_pred': y_pred }\n",
        "\n",
        "    def _get_y_values(self, X):\n",
        "        y_true, y_pred = [], []\n",
        "        nonlinearity = self._get_predict_nonlinearity()\n",
        "        for images, labels in self.get_iterator(X):\n",
        "            images = images.to(self.device)\n",
        "            outputs = nonlinearity(self.module_(images))\n",
        "            _, predicted = torch.max(outputs.data, 1)\n",
        "            y_true.append(to_numpy(labels))\n",
        "            y_pred.append(to_numpy(predicted))\n",
        "        y_true = np.concatenate(y_true)\n",
        "        y_pred = np.concatenate(y_pred)\n",
        "        return y_true, y_pred\n",
        "\n",
        "    def score(self, X):\n",
        "        y_true, y_pred = self._get_y_values(X)\n",
        "        return sk_metrics.roc_auc_score(y_true, y_pred)\n",
        "    \n",
        "    def scores(self, X):\n",
        "        y_true, y_pred = self._get_y_values(X)\n",
        "        accuracy = sk_metrics.accuracy_score(y_true, y_pred)\n",
        "        confusion_matrix = sk_metrics.confusion_matrix(y_true, y_pred)\n",
        "        f1 = sk_metrics.f1_score(y_true, y_pred)\n",
        "        auc = sk_metrics.roc_auc_score(y_true, y_pred)\n",
        "        return accuracy, confusion_matrix, f1, auc\n",
        "\n",
        "    def print_and_plot_scores(self, X):\n",
        "        accuracy, confusion_matrix, f1, auc = self.scores(X)\n",
        "        print(f'Accuracy: {accuracy}')\n",
        "        print(f'F1 Score: {f1}')\n",
        "        print(f'AUC: {auc}')\n",
        "        disp = sk_metrics.ConfusionMatrixDisplay(\n",
        "          confusion_matrix, display_labels=['Fire', 'No_Fire'])\n",
        "        disp.plot()\n",
        "\n",
        "    def plot_training_metric(self, values, label):\n",
        "        plt.plot(range(len(values)), values, label=label)\n",
        "    \n",
        "    def plot_training_metrics(self):\n",
        "        training_loss = self.history[:, 'train_loss']\n",
        "        valid_acc = self.history[:, 'valid_acc']\n",
        "        valid_loss = self.history[:, 'valid_loss']\n",
        "\n",
        "        self.plot_training_metric(training_loss, 'Training loss')\n",
        "        self.plot_training_metric(valid_acc, 'Validation accuracy')\n",
        "        self.plot_training_metric(valid_loss, 'Validation loss')\n",
        "\n",
        "        plt.legend(loc=3)\n",
        "        plt.title('Model training metrics')\n",
        "        plt.show()"
      ],
      "execution_count": null,
      "outputs": []
    },
    {
      "cell_type": "markdown",
      "metadata": {
        "id": "X7Z5j-8ogntu"
      },
      "source": [
        "### Classifier helper functions\n",
        "\n",
        "The next code will be used to create helper functions to easily create, fit and evaluate different type of CNN architectures"
      ]
    },
    {
      "cell_type": "code",
      "metadata": {
        "id": "VZj_giOyUmm8"
      },
      "source": [
        "from torch.optim import Adam\n",
        "from skorch.callbacks import Checkpoint\n",
        "from skorch.dataset import CVSplit\n",
        "from skorch.helper import predefined_split\n",
        "\n",
        "def create_model(module_model):\n",
        "    global f_params\n",
        "\n",
        "    f_params = path.join(drive_path, f'Models/best_{module_model}.pt')\n",
        "    checkpoint = Checkpoint(f_params=f_params, monitor='valid_acc_best')\n",
        "    callbacks = [checkpoint, freezer, scheduler]\n",
        "\n",
        "    return MyClassifier(\n",
        "        PretrainedModel,\n",
        "        module__model=module_model,\n",
        "        optimizer=Adam,\n",
        "        lr=lr,\n",
        "        batch_size=32,\n",
        "        max_epochs=15,\n",
        "        iterator_train__shuffle=True,\n",
        "        iterator_train__num_workers=16,\n",
        "        iterator_valid__shuffle=True,\n",
        "        iterator_valid__num_workers=16,\n",
        "        train_split=CVSplit(0.2, random_state=seed),\n",
        "        callbacks=callbacks,\n",
        "        device='cuda'\n",
        "    )"
      ],
      "execution_count": null,
      "outputs": []
    },
    {
      "cell_type": "code",
      "metadata": {
        "id": "W1nEzDdmi0br"
      },
      "source": [
        "def create_and_fit(model_name):\n",
        "    net = create_model(model_name)\n",
        "    net.fit(train_ds, y=None)\n",
        "    net.load_params(f_params=f_params)\n",
        "    return net"
      ],
      "execution_count": null,
      "outputs": []
    },
    {
      "cell_type": "markdown",
      "metadata": {
        "id": "5llRfok5hhwZ"
      },
      "source": [
        "# Models results\n",
        "\n",
        "---"
      ]
    },
    {
      "cell_type": "markdown",
      "metadata": {
        "id": "AVSReHWzghMG"
      },
      "source": [
        "### Rexnet"
      ]
    },
    {
      "cell_type": "code",
      "metadata": {
        "colab": {
          "background_save": true,
          "base_uri": "https://localhost:8080/"
        },
        "id": "Dz11nA6CgZfB",
        "outputId": "1dd16196-0d2c-4512-f0e6-382f81b8f7d9"
      },
      "source": [
        "rexnet = create_and_fit('rexnet')"
      ],
      "execution_count": null,
      "outputs": [
        {
          "output_type": "stream",
          "text": [
            "  epoch    train_loss    valid_acc    valid_loss    cp      lr       dur\n",
            "-------  ------------  -----------  ------------  ----  ------  --------\n",
            "      1        \u001b[36m1.4999\u001b[0m       \u001b[32m0.7718\u001b[0m        \u001b[35m0.8016\u001b[0m     +  0.0001  293.0380\n"
          ],
          "name": "stdout"
        },
        {
          "output_type": "stream",
          "text": [
            "/usr/local/lib/python3.6/dist-packages/torch/optim/lr_scheduler.py:156: UserWarning: The epoch parameter in `scheduler.step()` was not necessary and is being deprecated where possible. Please use `scheduler.step()` to step the scheduler. During the deprecation, if epoch is different from None, the closed form is used instead of the new chainable form, where available. Please open an issue if you are unable to replicate your use case: https://github.com/pytorch/pytorch/issues/new/choose.\n",
            "  warnings.warn(EPOCH_DEPRECATION_WARNING, UserWarning)\n"
          ],
          "name": "stderr"
        },
        {
          "output_type": "stream",
          "text": [
            "      2        \u001b[36m0.6732\u001b[0m       \u001b[32m0.9231\u001b[0m        \u001b[35m0.3525\u001b[0m     +  0.0001  295.2856\n",
            "      3        \u001b[36m0.3963\u001b[0m       \u001b[32m0.9515\u001b[0m        \u001b[35m0.2097\u001b[0m     +  0.0003  297.3285\n",
            "      4        \u001b[36m0.2323\u001b[0m       \u001b[32m0.9723\u001b[0m        \u001b[35m0.1037\u001b[0m     +  0.0007  296.0138\n",
            "      5        \u001b[36m0.1361\u001b[0m       \u001b[32m0.9849\u001b[0m        \u001b[35m0.0564\u001b[0m     +  0.0018  293.6442\n",
            "      6        \u001b[36m0.0824\u001b[0m       \u001b[32m0.9910\u001b[0m        \u001b[35m0.0293\u001b[0m     +  0.0044  293.3523\n",
            "      7        \u001b[36m0.0598\u001b[0m       \u001b[32m0.9940\u001b[0m        \u001b[35m0.0244\u001b[0m     +  0.0107  290.4543\n",
            "      8        \u001b[36m0.0409\u001b[0m       0.9937        \u001b[35m0.0206\u001b[0m        0.0068  291.4022\n",
            "      9        \u001b[36m0.0333\u001b[0m       \u001b[32m0.9955\u001b[0m        \u001b[35m0.0153\u001b[0m     +  0.0043  290.1086\n",
            "     10        \u001b[36m0.0300\u001b[0m       \u001b[32m0.9956\u001b[0m        \u001b[35m0.0119\u001b[0m     +  0.0027  291.0346\n",
            "     11        \u001b[36m0.0272\u001b[0m       \u001b[32m0.9959\u001b[0m        0.0128     +  0.0017  291.6697\n",
            "     12        \u001b[36m0.0272\u001b[0m       0.9959        0.0134        0.0011  290.6482\n",
            "     13        \u001b[36m0.0262\u001b[0m       \u001b[32m0.9962\u001b[0m        0.0136     +  0.0007  287.9412\n",
            "     14        \u001b[36m0.0254\u001b[0m       0.9955        0.0120        0.0004  286.8279\n",
            "     15        0.0293       0.9955        0.0153        0.0003  287.2086\n"
          ],
          "name": "stdout"
        }
      ]
    },
    {
      "cell_type": "code",
      "metadata": {
        "colab": {
          "background_save": true,
          "base_uri": "https://localhost:8080/"
        },
        "id": "ldEnQa4pInRu",
        "outputId": "e20fdb71-40b9-405b-94da-f950973b25c8"
      },
      "source": [
        "rexnet.plot_training_metrics()"
      ],
      "execution_count": null,
      "outputs": [
        {
          "output_type": "display_data",
          "data": {
            "image/png": "[encoded data removed]",
            "text/plain": [
              "<Figure size 432x288 with 1 Axes>"
            ]
          },
          "metadata": {
            "tags": []
          }
        }
      ]
    },
    {
      "cell_type": "code",
      "metadata": {
        "id": "OWXJJtTkGqtO",
        "colab": {
          "base_uri": "https://localhost:8080/",
          "height": 331
        },
        "outputId": "096d4651-c1ca-4953-ba6a-c4c1d5d95f8c"
      },
      "source": [
        "rexnet.print_and_plot_scores(test_ds)"
      ],
      "execution_count": null,
      "outputs": [
        {
          "output_type": "stream",
          "text": [
            "Accuracy: 0.7146338632934897\n",
            "F1 Score: 0.5877619446772842\n",
            "AUC: 0.6806200060861141\n"
          ],
          "name": "stdout"
        },
        {
          "output_type": "display_data",
          "data": {
            "image/png": "[encoded data removed]",
            "text/plain": [
              "<Figure size 432x288 with 2 Axes>"
            ]
          },
          "metadata": {
            "tags": [],
            "needs_background": "light"
          }
        }
      ]
    },
    {
      "cell_type": "code",
      "metadata": {
        "id": "QrpLnF7Q1qNf",
        "colab": {
          "base_uri": "https://localhost:8080/",
          "height": 331
        },
        "outputId": "c3893af6-cbc9-4abd-8bbf-d210ac5ac531"
      },
      "source": [
        "rexnet.print_and_plot_scores(train_ds)"
      ],
      "execution_count": null,
      "outputs": [
        {
          "output_type": "stream",
          "text": [
            "Accuracy: 0.9962058151689961\n",
            "F1 Score: 0.9962115354878615\n",
            "AUC: 0.996205815168996\n"
          ],
          "name": "stdout"
        },
        {
          "output_type": "display_data",
          "data": {
            "image/png": "[encoded data removed]",
            "text/plain": [
              "<Figure size 432x288 with 2 Axes>"
            ]
          },
          "metadata": {
            "tags": [],
            "needs_background": "light"
          }
        }
      ]
    },
    {
      "cell_type": "markdown",
      "metadata": {
        "id": "McSBPhJshE_U"
      },
      "source": [
        "### EfficientNet"
      ]
    },
    {
      "cell_type": "code",
      "metadata": {
        "id": "JFGkLLS_hpYy",
        "colab": {
          "base_uri": "https://localhost:8080/"
        },
        "outputId": "c5950012-6974-4a1f-b343-de6ce9193767"
      },
      "source": [
        "efficientnet = create_and_fit('efficientnet')"
      ],
      "execution_count": null,
      "outputs": [
        {
          "output_type": "stream",
          "text": [
            "  epoch    train_loss    valid_acc    valid_loss    cp      lr       dur\n",
            "-------  ------------  -----------  ------------  ----  ------  --------\n",
            "      1        \u001b[36m3.5552\u001b[0m       \u001b[32m0.5378\u001b[0m        \u001b[35m2.6645\u001b[0m     +  0.0001  932.1130\n"
          ],
          "name": "stdout"
        },
        {
          "output_type": "stream",
          "text": [
            "/usr/local/lib/python3.6/dist-packages/torch/optim/lr_scheduler.py:156: UserWarning: The epoch parameter in `scheduler.step()` was not necessary and is being deprecated where possible. Please use `scheduler.step()` to step the scheduler. During the deprecation, if epoch is different from None, the closed form is used instead of the new chainable form, where available. Please open an issue if you are unable to replicate your use case: https://github.com/pytorch/pytorch/issues/new/choose.\n",
            "  warnings.warn(EPOCH_DEPRECATION_WARNING, UserWarning)\n"
          ],
          "name": "stderr"
        },
        {
          "output_type": "stream",
          "text": [
            "      2        \u001b[36m1.5889\u001b[0m       \u001b[32m0.7755\u001b[0m        \u001b[35m1.0483\u001b[0m     +  0.0001  831.9048\n",
            "      3        \u001b[36m0.6624\u001b[0m       \u001b[32m0.8953\u001b[0m        \u001b[35m0.4627\u001b[0m     +  0.0003  831.5775\n",
            "      4        \u001b[36m0.3661\u001b[0m       \u001b[32m0.9413\u001b[0m        \u001b[35m0.2446\u001b[0m     +  0.0008  832.2669\n",
            "      5        \u001b[36m0.2071\u001b[0m       \u001b[32m0.9595\u001b[0m        \u001b[35m0.1553\u001b[0m     +  0.0022  833.7178\n",
            "      6        \u001b[36m0.1400\u001b[0m       \u001b[32m0.9693\u001b[0m        \u001b[35m0.1164\u001b[0m     +  0.0056  833.4824\n",
            "      7        0.1503       \u001b[32m0.9705\u001b[0m        0.1167     +  0.0144  832.0795\n",
            "      8        \u001b[36m0.1109\u001b[0m       \u001b[32m0.9776\u001b[0m        \u001b[35m0.0837\u001b[0m     +  0.0093  833.2175\n",
            "      9        \u001b[36m0.0865\u001b[0m       \u001b[32m0.9817\u001b[0m        \u001b[35m0.0699\u001b[0m     +  0.0060  833.4093\n",
            "     10        \u001b[36m0.0740\u001b[0m       0.9807        \u001b[35m0.0643\u001b[0m        0.0039  833.3693\n",
            "     11        \u001b[36m0.0720\u001b[0m       \u001b[32m0.9820\u001b[0m        \u001b[35m0.0583\u001b[0m     +  0.0025  833.2527\n",
            "     12        \u001b[36m0.0641\u001b[0m       \u001b[32m0.9827\u001b[0m        \u001b[35m0.0555\u001b[0m     +  0.0016  834.3635\n",
            "     13        \u001b[36m0.0602\u001b[0m       0.9811        0.0576        0.0011  834.9751\n",
            "     14        \u001b[36m0.0582\u001b[0m       \u001b[32m0.9832\u001b[0m        \u001b[35m0.0530\u001b[0m     +  0.0007  834.2609\n",
            "     15        \u001b[36m0.0577\u001b[0m       0.9798        0.0604        0.0004  833.4980\n"
          ],
          "name": "stdout"
        }
      ]
    },
    {
      "cell_type": "code",
      "metadata": {
        "id": "hbrJg0ZLIqf9",
        "colab": {
          "base_uri": "https://localhost:8080/",
          "height": 281
        },
        "outputId": "71a7743f-e520-451e-a691-f9172dcfa4bf"
      },
      "source": [
        "efficientnet.plot_training_metrics()"
      ],
      "execution_count": null,
      "outputs": [
        {
          "output_type": "display_data",
          "data": {
            "image/png": "[encoded data removed]",
            "text/plain": [
              "<Figure size 432x288 with 1 Axes>"
            ]
          },
          "metadata": {
            "tags": [],
            "needs_background": "light"
          }
        }
      ]
    },
    {
      "cell_type": "code",
      "metadata": {
        "id": "UQJdDUwGGuq3",
        "colab": {
          "base_uri": "https://localhost:8080/",
          "height": 331
        },
        "outputId": "847815f0-1b87-4f63-a4a5-d6f43905ace0"
      },
      "source": [
        "efficientnet.print_and_plot_scores(test_ds)"
      ],
      "execution_count": null,
      "outputs": [
        {
          "output_type": "stream",
          "text": [
            "Accuracy: 0.6159916444238134\n",
            "F1 Score: 0.2795558458523841\n",
            "AUC: 0.5463975015606855\n"
          ],
          "name": "stdout"
        },
        {
          "output_type": "display_data",
          "data": {
            "image/png": "[encoded data removed]",
            "text/plain": [
              "<Figure size 432x288 with 2 Axes>"
            ]
          },
          "metadata": {
            "tags": [],
            "needs_background": "light"
          }
        }
      ]
    },
    {
      "cell_type": "code",
      "metadata": {
        "id": "Muq4XDYz27IJ",
        "colab": {
          "base_uri": "https://localhost:8080/",
          "height": 331
        },
        "outputId": "f30cd402-b651-4494-f0f8-2db85c0121c9"
      },
      "source": [
        "efficientnet.print_and_plot_scores(train_ds)"
      ],
      "execution_count": null,
      "outputs": [
        {
          "output_type": "stream",
          "text": [
            "Accuracy: 0.9828874520887375\n",
            "F1 Score: 0.982940291018565\n",
            "AUC: 0.9828874520887375\n"
          ],
          "name": "stdout"
        },
        {
          "output_type": "display_data",
          "data": {
            "image/png": "[encoded data removed]",
            "text/plain": [
              "<Figure size 432x288 with 2 Axes>"
            ]
          },
          "metadata": {
            "tags": [],
            "needs_background": "light"
          }
        }
      ]
    }
  ]
}