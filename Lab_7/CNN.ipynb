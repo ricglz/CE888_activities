{
  "nbformat": 4,
  "nbformat_minor": 0,
  "metadata": {
    "kernelspec": {
      "display_name": "Python 3",
      "language": "python",
      "name": "python3"
    },
    "language_info": {
      "codemirror_mode": {
        "name": "ipython",
        "version": 3
      },
      "file_extension": ".py",
      "mimetype": "text/x-python",
      "name": "python",
      "nbconvert_exporter": "python",
      "pygments_lexer": "ipython3",
      "version": "3.6.5"
    },
    "colab": {
      "name": "CNN.ipynb",
      "provenance": [],
      "include_colab_link": true
    },
    "accelerator": "GPU"
  },
  "cells": [
    {
      "cell_type": "markdown",
      "metadata": {
        "id": "view-in-github",
        "colab_type": "text"
      },
      "source": [
        "<a href=\"https://colab.research.google.com/github/ricglz/CE888_activities/blob/main/Lab_6/CNN.ipynb\" target=\"_parent\"><img src=\"https://colab.research.google.com/assets/colab-badge.svg\" alt=\"Open In Colab\"/></a>"
      ]
    },
    {
      "cell_type": "markdown",
      "metadata": {
        "id": "vwRGEQbzGpYQ"
      },
      "source": [
        "# First CNN model for MNIST Dataset\n",
        "\n",
        "* MNIST Dataset is ''Hello World'' of Image Recognition\n",
        "\n",
        "* [Dataset HomePage](http://yann.lecun.com/exdb/mnist/)\n",
        "\n",
        "* History of MNIST Dataset [Watch here](https://www.youtube.com/watch?v=oKzNUGz21JM)\n",
        "\n",
        "\n",
        "---\n",
        "The MNIST database of handwritten digits, available from this page, has a training set of 60,000 examples, and a \n",
        "test set of 10,000 examples. It is a subset of a larger set available from NIST. The digits have been size-normalized and centered in a fixed-size image.\n",
        "\n",
        "![Kitten](https://camo.githubusercontent.com/01c057a753e92a9bc70b8c45d62b295431851c09cffadf53106fc0aea7e2843f/687474703a2f2f692e7974696d672e636f6d2f76692f3051493378675875422d512f687164656661756c742e6a7067)\n"
      ]
    },
    {
      "cell_type": "markdown",
      "metadata": {
        "id": "PhmJOHCpJD_w"
      },
      "source": [
        "# Let's start building our first CNN Model"
      ]
    },
    {
      "cell_type": "code",
      "metadata": {
        "id": "lSyHCSV7jymI"
      },
      "source": [
        "from keras import layers\n",
        "from keras import models"
      ],
      "execution_count": null,
      "outputs": []
    },
    {
      "cell_type": "markdown",
      "metadata": {
        "id": "oWNzCYUUjymN"
      },
      "source": [
        "Importantly, a convnet takes as input tensors of shape (image_height, image_width,\n",
        "image_channels) (not including the batch dimension). In this case, we’ll configure\n",
        "the convnet to process inputs of size (28, 28, 1), which is the format of MNIST\n",
        "images. We’ll do this by passing the argument input_shape=(28, 28, 1) to the first\n",
        "layer."
      ]
    },
    {
      "cell_type": "markdown",
      "metadata": {
        "id": "dM4JLEpwjymN"
      },
      "source": [
        "#### Instantiating a small convnet"
      ]
    },
    {
      "cell_type": "code",
      "metadata": {
        "id": "p-OnpExGjymO",
        "colab": {
          "base_uri": "https://localhost:8080/"
        },
        "outputId": "50e1f6ef-b3e4-40cb-d2fc-60d0b8a83065"
      },
      "source": [
        "model = models.Sequential()\n",
        "model.add(layers.Conv2D(32, (3, 3), activation='relu', input_shape=(28, 28, 1)))\n",
        "model.add(layers.MaxPooling2D((2, 2)))\n",
        "model.add(layers.Conv2D(64, (3, 3), activation='relu'))\n",
        "model.add(layers.MaxPooling2D((2, 2)))\n",
        "model.add(layers.Conv2D(64, (3, 3), activation='relu'))\n",
        "model.summary()"
      ],
      "execution_count": null,
      "outputs": [
        {
          "output_type": "stream",
          "text": [
            "Model: \"sequential\"\n",
            "_________________________________________________________________\n",
            "Layer (type)                 Output Shape              Param #   \n",
            "=================================================================\n",
            "conv2d (Conv2D)              (None, 26, 26, 32)        320       \n",
            "_________________________________________________________________\n",
            "max_pooling2d (MaxPooling2D) (None, 13, 13, 32)        0         \n",
            "_________________________________________________________________\n",
            "conv2d_1 (Conv2D)            (None, 11, 11, 64)        18496     \n",
            "_________________________________________________________________\n",
            "max_pooling2d_1 (MaxPooling2 (None, 5, 5, 64)          0         \n",
            "_________________________________________________________________\n",
            "conv2d_2 (Conv2D)            (None, 3, 3, 64)          36928     \n",
            "=================================================================\n",
            "Total params: 55,744\n",
            "Trainable params: 55,744\n",
            "Non-trainable params: 0\n",
            "_________________________________________________________________\n"
          ],
          "name": "stdout"
        }
      ]
    },
    {
      "cell_type": "markdown",
      "metadata": {
        "id": "7gcVG3xkjymR"
      },
      "source": [
        "#### Adding a classifier on top of the convnet"
      ]
    },
    {
      "cell_type": "code",
      "metadata": {
        "id": "C2DfhDJYjymR",
        "colab": {
          "base_uri": "https://localhost:8080/"
        },
        "outputId": "1be81e10-2496-4762-9164-e9ab0646b022"
      },
      "source": [
        "model.add(layers.Flatten())\n",
        "model.add(layers.Dense(64, activation='relu'))\n",
        "model.add(layers.Dense(10, activation='softmax'))\n",
        "model.summary()"
      ],
      "execution_count": null,
      "outputs": [
        {
          "output_type": "stream",
          "text": [
            "Model: \"sequential\"\n",
            "_________________________________________________________________\n",
            "Layer (type)                 Output Shape              Param #   \n",
            "=================================================================\n",
            "conv2d (Conv2D)              (None, 26, 26, 32)        320       \n",
            "_________________________________________________________________\n",
            "max_pooling2d (MaxPooling2D) (None, 13, 13, 32)        0         \n",
            "_________________________________________________________________\n",
            "conv2d_1 (Conv2D)            (None, 11, 11, 64)        18496     \n",
            "_________________________________________________________________\n",
            "max_pooling2d_1 (MaxPooling2 (None, 5, 5, 64)          0         \n",
            "_________________________________________________________________\n",
            "conv2d_2 (Conv2D)            (None, 3, 3, 64)          36928     \n",
            "_________________________________________________________________\n",
            "flatten (Flatten)            (None, 576)               0         \n",
            "_________________________________________________________________\n",
            "dense (Dense)                (None, 64)                36928     \n",
            "_________________________________________________________________\n",
            "dense_1 (Dense)              (None, 10)                650       \n",
            "=================================================================\n",
            "Total params: 93,322\n",
            "Trainable params: 93,322\n",
            "Non-trainable params: 0\n",
            "_________________________________________________________________\n"
          ],
          "name": "stdout"
        }
      ]
    },
    {
      "cell_type": "markdown",
      "metadata": {
        "id": "NOKVF4nKjymU"
      },
      "source": [
        "### Training the convnet on MNIST images"
      ]
    },
    {
      "cell_type": "code",
      "metadata": {
        "id": "oIcgUbbUjymV"
      },
      "source": [
        "from keras.datasets import mnist\n",
        "from keras.utils import to_categorical"
      ],
      "execution_count": null,
      "outputs": []
    },
    {
      "cell_type": "markdown",
      "metadata": {
        "id": "ZnJ2Pfs_jymX"
      },
      "source": [
        "#### Load Data"
      ]
    },
    {
      "cell_type": "code",
      "metadata": {
        "id": "JpHGHE9MjymY",
        "colab": {
          "base_uri": "https://localhost:8080/"
        },
        "outputId": "98fbaa34-2a1f-4d06-edb9-613c3a9f07b9"
      },
      "source": [
        "(train_images, train_labels), (test_images, test_labels) = mnist.load_data()\n",
        "train_images = train_images.reshape((60000, 28, 28, 1))\n",
        "train_images = train_images.astype('float32') / 255\n",
        "test_images = test_images.reshape((10000, 28, 28, 1))\n",
        "test_images = test_images.astype('float32') / 255\n",
        "train_labels = to_categorical(train_labels)\n",
        "test_labels = to_categorical(test_labels)"
      ],
      "execution_count": null,
      "outputs": [
        {
          "output_type": "stream",
          "text": [
            "Downloading data from https://storage.googleapis.com/tensorflow/tf-keras-datasets/mnist.npz\n",
            "11493376/11490434 [==============================] - 0s 0us/step\n"
          ],
          "name": "stdout"
        }
      ]
    },
    {
      "cell_type": "markdown",
      "metadata": {
        "id": "4HoTLrfSjymd"
      },
      "source": [
        "#### compile and fit model "
      ]
    },
    {
      "cell_type": "code",
      "metadata": {
        "id": "i23FDtC9jyme",
        "colab": {
          "base_uri": "https://localhost:8080/"
        },
        "outputId": "1036b7c8-8654-4874-f345-26bcbae4ca58"
      },
      "source": [
        "model.compile(optimizer='rmsprop', \n",
        "              loss='categorical_crossentropy',\n",
        "              metrics=['accuracy'])\n",
        "history = model.fit(train_images, train_labels, epochs=5, batch_size=64, validation_split=0.2)"
      ],
      "execution_count": null,
      "outputs": [
        {
          "output_type": "stream",
          "text": [
            "Epoch 1/5\n",
            "750/750 [==============================] - 34s 4ms/step - loss: 0.4586 - accuracy: 0.8560 - val_loss: 0.0570 - val_accuracy: 0.9834\n",
            "Epoch 2/5\n",
            "750/750 [==============================] - 3s 4ms/step - loss: 0.0534 - accuracy: 0.9827 - val_loss: 0.0486 - val_accuracy: 0.9861\n",
            "Epoch 3/5\n",
            "750/750 [==============================] - 3s 4ms/step - loss: 0.0358 - accuracy: 0.9891 - val_loss: 0.0523 - val_accuracy: 0.9844\n",
            "Epoch 4/5\n",
            "750/750 [==============================] - 3s 4ms/step - loss: 0.0280 - accuracy: 0.9914 - val_loss: 0.0558 - val_accuracy: 0.9842\n",
            "Epoch 5/5\n",
            "750/750 [==============================] - 3s 4ms/step - loss: 0.0203 - accuracy: 0.9937 - val_loss: 0.0375 - val_accuracy: 0.9896\n"
          ],
          "name": "stdout"
        }
      ]
    },
    {
      "cell_type": "markdown",
      "metadata": {
        "id": "9zU8iI5ojymg"
      },
      "source": [
        "#### evaluate model"
      ]
    },
    {
      "cell_type": "code",
      "metadata": {
        "id": "Z3VeaL1Njymh",
        "colab": {
          "base_uri": "https://localhost:8080/"
        },
        "outputId": "8e904b9f-2947-4109-ccc3-977271c9cd51"
      },
      "source": [
        "test_loss, test_acc = model.evaluate(test_images, test_labels)\n",
        "test_acc"
      ],
      "execution_count": null,
      "outputs": [
        {
          "output_type": "stream",
          "text": [
            "313/313 [==============================] - 1s 2ms/step - loss: 0.0335 - accuracy: 0.9892\n"
          ],
          "name": "stdout"
        },
        {
          "output_type": "execute_result",
          "data": {
            "text/plain": [
              "0.9891999959945679"
            ]
          },
          "metadata": {
            "tags": []
          },
          "execution_count": 7
        }
      ]
    },
    {
      "cell_type": "code",
      "metadata": {
        "id": "wXNZOY7Sjymj",
        "colab": {
          "base_uri": "https://localhost:8080/",
          "height": 545
        },
        "outputId": "56c5bf80-b41d-44ed-f541-eb38e17e2c53"
      },
      "source": [
        "import matplotlib.pyplot as plt\n",
        "\n",
        "acc = history.history['accuracy']\n",
        "val_acc = history.history['val_accuracy']\n",
        "loss = history.history['loss']\n",
        "val_loss = history.history['val_loss']\n",
        "\n",
        "epochs = range(1, len(acc) + 1)\n",
        "\n",
        "plt.plot(epochs, acc, 'bo', label='Training acc')\n",
        "plt.plot(epochs, val_acc, 'b', label='Validation acc')\n",
        "plt.title('Training and validation accuracy')\n",
        "plt.legend()\n",
        "\n",
        "plt.figure()\n",
        "\n",
        "plt.plot(epochs, loss, 'bo', label='Training loss')\n",
        "plt.plot(epochs, val_loss, 'b', label='Validation loss')\n",
        "plt.title('Training and validation loss')\n",
        "plt.legend()\n",
        "\n",
        "plt.show()"
      ],
      "execution_count": null,
      "outputs": [
        {
          "output_type": "display_data",
          "data": {
            "image/png": "[encoded data removed]",
            "text/plain": [
              "<Figure size 432x288 with 1 Axes>"
            ]
          },
          "metadata": {
            "tags": [],
            "needs_background": "light"
          }
        },
        {
          "output_type": "display_data",
          "data": {
            "image/png": "[encoded data removed]",
            "text/plain": [
              "<Figure size 432x288 with 1 Axes>"
            ]
          },
          "metadata": {
            "tags": [],
            "needs_background": "light"
          }
        }
      ]
    },
    {
      "cell_type": "markdown",
      "metadata": {
        "id": "dsQMc0Iojyml"
      },
      "source": [
        "## Task 1\n",
        "\n",
        "Change the activation function and other parameters such as optimizer to see the effect on the network and it's performance. If possible create a grid search. "
      ]
    },
    {
      "cell_type": "code",
      "metadata": {
        "id": "hdLSXNsxz94a"
      },
      "source": [
        "def create_model(optimizer='rmsprop', dropout_rate=0.5, activation='relu'):\n",
        "    model = models.Sequential()\n",
        "    model.add(layers.Conv2D(32, (3, 3), activation='relu', input_shape=(28, 28, 1)))\n",
        "    model.add(layers.MaxPooling2D((2, 2)))\n",
        "    model.add(layers.Conv2D(64, (3, 3), activation='relu'))\n",
        "    model.add(layers.MaxPooling2D((2, 2)))\n",
        "    model.add(layers.Conv2D(64, (3, 3), activation='relu'))\n",
        "    model.add(layers.Flatten())\n",
        "    model.add(layers.Dropout(dropout_rate))\n",
        "    model.add(layers.Dense(64, activation=activation))\n",
        "    model.add(layers.Dense(10, activation='softmax'))\n",
        "    model.compile(loss='binary_crossentropy', optimizer=optimizer, metrics=['accuracy']) \n",
        "    return model"
      ],
      "execution_count": null,
      "outputs": []
    },
    {
      "cell_type": "code",
      "metadata": {
        "id": "owJ-29BrJXNa"
      },
      "source": [
        "from keras.wrappers.scikit_learn import KerasClassifier\n",
        "\n",
        "model = KerasClassifier(\n",
        "    build_fn=create_model, verbose=1, validation_split=0.2, nb_epoch=5)"
      ],
      "execution_count": null,
      "outputs": []
    },
    {
      "cell_type": "code",
      "metadata": {
        "id": "PRdRaOXx0ngq"
      },
      "source": [
        "optimizer = ['rmsprop', 'adam', 'sgd']\n",
        "activation = ['relu', 'linear', 'tanh']\n",
        "dropout_rate = [0, 0.25, 0.5]\n",
        "batches = [32, 64, 128]\n",
        "param_grid = dict(\n",
        "    optimizer=optimizer, batch_size=batches, activation=activation,\n",
        "    dropout_rate=dropout_rate\n",
        ")"
      ],
      "execution_count": null,
      "outputs": []
    },
    {
      "cell_type": "code",
      "metadata": {
        "id": "qCSTc8hT4nOT"
      },
      "source": [
        "from sklearn.metrics import accuracy_score, make_scorer\n",
        "import numpy as np\n",
        "\n",
        "def scoring(y_true, y_pred):\n",
        "    y_true = np.argmax(y_true, axis=1)\n",
        "    return accuracy_score(y_true, y_pred)\n",
        "\n",
        "my_scorer = make_scorer(scoring)"
      ],
      "execution_count": null,
      "outputs": []
    },
    {
      "cell_type": "code",
      "metadata": {
        "id": "eH_ExT7518st",
        "colab": {
          "base_uri": "https://localhost:8080/"
        },
        "outputId": "9642bfb6-ea26-4a9e-bdab-77050f908e1b"
      },
      "source": [
        "from sklearn.model_selection import GridSearchCV\n",
        "\n",
        "clf = GridSearchCV(estimator=model, param_grid=param_grid, scoring=my_scorer)\n",
        "clf.fit(train_images, train_labels)"
      ],
      "execution_count": null,
      "outputs": [
        {
          "output_type": "stream",
          "text": [
            "1200/1200 [==============================] - 5s 4ms/step - loss: 0.1093 - accuracy: 0.7975 - val_loss: 0.0127 - val_accuracy: 0.9820\n",
            " 71/375 [====>.........................] - ETA: 0s"
          ],
          "name": "stdout"
        },
        {
          "output_type": "stream",
          "text": [
            "/usr/local/lib/python3.7/dist-packages/tensorflow/python/keras/engine/sequential.py:450: UserWarning: `model.predict_classes()` is deprecated and will be removed after 2021-01-01. Please use instead:* `np.argmax(model.predict(x), axis=-1)`,   if your model does multi-class classification   (e.g. if it uses a `softmax` last-layer activation).* `(model.predict(x) > 0.5).astype(\"int32\")`,   if your model does binary classification   (e.g. if it uses a `sigmoid` last-layer activation).\n",
            "  warnings.warn('`model.predict_classes()` is deprecated and '\n"
          ],
          "name": "stderr"
        },
        {
          "output_type": "stream",
          "text": [
            "375/375 [==============================] - 1s 1ms/step\n",
            "1200/1200 [==============================] - 5s 4ms/step - loss: 0.0956 - accuracy: 0.8302 - val_loss: 0.0148 - val_accuracy: 0.9799\n",
            "375/375 [==============================] - 1s 1ms/step\n",
            "1200/1200 [==============================] - 5s 4ms/step - loss: 0.1031 - accuracy: 0.8089 - val_loss: 0.0127 - val_accuracy: 0.9823\n",
            "375/375 [==============================] - 1s 1ms/step\n",
            "1200/1200 [==============================] - 5s 4ms/step - loss: 0.0978 - accuracy: 0.8252 - val_loss: 0.0127 - val_accuracy: 0.9828\n",
            "375/375 [==============================] - 1s 1ms/step\n",
            "1200/1200 [==============================] - 5s 4ms/step - loss: 0.0976 - accuracy: 0.8301 - val_loss: 0.0167 - val_accuracy: 0.9745\n",
            "375/375 [==============================] - 1s 1ms/step\n",
            "1200/1200 [==============================] - 4s 3ms/step - loss: 0.1121 - accuracy: 0.7903 - val_loss: 0.0130 - val_accuracy: 0.9827\n",
            "375/375 [==============================] - 1s 1ms/step\n",
            "1200/1200 [==============================] - 4s 3ms/step - loss: 0.1187 - accuracy: 0.7876 - val_loss: 0.0145 - val_accuracy: 0.9794\n",
            "375/375 [==============================] - 1s 1ms/step\n",
            "1200/1200 [==============================] - 4s 3ms/step - loss: 0.1217 - accuracy: 0.7761 - val_loss: 0.0155 - val_accuracy: 0.9783\n",
            "375/375 [==============================] - 1s 1ms/step\n",
            "1200/1200 [==============================] - 4s 3ms/step - loss: 0.1157 - accuracy: 0.8012 - val_loss: 0.0150 - val_accuracy: 0.9819\n",
            "375/375 [==============================] - 1s 1ms/step\n",
            "1200/1200 [==============================] - 4s 3ms/step - loss: 0.1129 - accuracy: 0.7973 - val_loss: 0.0157 - val_accuracy: 0.9773\n",
            "375/375 [==============================] - 1s 1ms/step\n",
            "1200/1200 [==============================] - 4s 3ms/step - loss: 0.3945 - accuracy: 0.2147 - val_loss: 0.2837 - val_accuracy: 0.5995\n",
            "375/375 [==============================] - 1s 1ms/step\n",
            "1200/1200 [==============================] - 4s 3ms/step - loss: 0.4482 - accuracy: 0.1942 - val_loss: 0.3010 - val_accuracy: 0.4884\n",
            "375/375 [==============================] - 1s 2ms/step\n",
            "1200/1200 [==============================] - 4s 3ms/step - loss: 0.4709 - accuracy: 0.1662 - val_loss: 0.2939 - val_accuracy: 0.5440\n",
            "375/375 [==============================] - 1s 1ms/step\n",
            "1200/1200 [==============================] - 4s 3ms/step - loss: 0.4584 - accuracy: 0.1828 - val_loss: 0.2947 - val_accuracy: 0.4632\n",
            "375/375 [==============================] - 1s 1ms/step\n",
            "1200/1200 [==============================] - 4s 3ms/step - loss: 0.4030 - accuracy: 0.2574 - val_loss: 0.2657 - val_accuracy: 0.6115\n",
            "375/375 [==============================] - 1s 1ms/step\n",
            "1200/1200 [==============================] - 5s 4ms/step - loss: 0.1064 - accuracy: 0.8058 - val_loss: 0.0134 - val_accuracy: 0.9809\n",
            "375/375 [==============================] - 1s 1ms/step\n",
            "1200/1200 [==============================] - 5s 4ms/step - loss: 0.1050 - accuracy: 0.8070 - val_loss: 0.0160 - val_accuracy: 0.9779\n",
            "375/375 [==============================] - 1s 1ms/step\n",
            "1200/1200 [==============================] - 5s 4ms/step - loss: 0.1010 - accuracy: 0.8139 - val_loss: 0.0122 - val_accuracy: 0.9840\n",
            "375/375 [==============================] - 1s 1ms/step\n",
            "1200/1200 [==============================] - 5s 4ms/step - loss: 0.1049 - accuracy: 0.8019 - val_loss: 0.0151 - val_accuracy: 0.9793\n",
            "375/375 [==============================] - 1s 1ms/step\n",
            "1200/1200 [==============================] - 5s 4ms/step - loss: 0.1050 - accuracy: 0.8038 - val_loss: 0.0136 - val_accuracy: 0.9789\n",
            "375/375 [==============================] - 1s 1ms/step\n",
            "1200/1200 [==============================] - 4s 3ms/step - loss: 0.1218 - accuracy: 0.7681 - val_loss: 0.0121 - val_accuracy: 0.9831\n",
            "375/375 [==============================] - 1s 1ms/step\n",
            "1200/1200 [==============================] - 4s 3ms/step - loss: 0.1156 - accuracy: 0.7826 - val_loss: 0.0125 - val_accuracy: 0.9825\n",
            "375/375 [==============================] - 1s 1ms/step\n",
            "1200/1200 [==============================] - 4s 3ms/step - loss: 0.1156 - accuracy: 0.7840 - val_loss: 0.0140 - val_accuracy: 0.9806\n",
            "375/375 [==============================] - 1s 1ms/step\n",
            "1200/1200 [==============================] - 4s 3ms/step - loss: 0.1258 - accuracy: 0.7596 - val_loss: 0.0138 - val_accuracy: 0.9815\n",
            "375/375 [==============================] - 1s 1ms/step\n",
            "1200/1200 [==============================] - 4s 3ms/step - loss: 0.1262 - accuracy: 0.7601 - val_loss: 0.0163 - val_accuracy: 0.9751\n",
            "375/375 [==============================] - 1s 1ms/step\n",
            "1200/1200 [==============================] - 4s 3ms/step - loss: 0.4330 - accuracy: 0.1405 - val_loss: 0.2941 - val_accuracy: 0.4263\n",
            "375/375 [==============================] - 1s 1ms/step\n",
            "1200/1200 [==============================] - 4s 3ms/step - loss: 0.4563 - accuracy: 0.1225 - val_loss: 0.3123 - val_accuracy: 0.5277\n",
            "375/375 [==============================] - 1s 1ms/step\n",
            "1200/1200 [==============================] - 4s 3ms/step - loss: 0.4645 - accuracy: 0.1369 - val_loss: 0.2957 - val_accuracy: 0.5245\n",
            "375/375 [==============================] - 1s 1ms/step\n",
            "1200/1200 [==============================] - 4s 3ms/step - loss: 0.4730 - accuracy: 0.1358 - val_loss: 0.2959 - val_accuracy: 0.6671\n",
            "375/375 [==============================] - 1s 1ms/step\n",
            "1200/1200 [==============================] - 4s 3ms/step - loss: 0.4628 - accuracy: 0.1366 - val_loss: 0.2996 - val_accuracy: 0.5389\n",
            "375/375 [==============================] - 1s 1ms/step\n",
            "1200/1200 [==============================] - 5s 4ms/step - loss: 0.1122 - accuracy: 0.7918 - val_loss: 0.0137 - val_accuracy: 0.9799\n",
            "375/375 [==============================] - 1s 1ms/step\n",
            "1200/1200 [==============================] - 5s 4ms/step - loss: 0.1188 - accuracy: 0.7761 - val_loss: 0.0139 - val_accuracy: 0.9803\n",
            "375/375 [==============================] - 1s 1ms/step\n",
            "1200/1200 [==============================] - 5s 4ms/step - loss: 0.1216 - accuracy: 0.7713 - val_loss: 0.0146 - val_accuracy: 0.9775\n",
            "375/375 [==============================] - 1s 1ms/step\n",
            "1200/1200 [==============================] - 5s 4ms/step - loss: 0.1154 - accuracy: 0.7873 - val_loss: 0.0137 - val_accuracy: 0.9790\n",
            "375/375 [==============================] - 1s 1ms/step\n",
            "1200/1200 [==============================] - 5s 4ms/step - loss: 0.1138 - accuracy: 0.7886 - val_loss: 0.0155 - val_accuracy: 0.9755\n",
            "375/375 [==============================] - 1s 1ms/step\n",
            "1200/1200 [==============================] - 4s 3ms/step - loss: 0.1357 - accuracy: 0.7397 - val_loss: 0.0128 - val_accuracy: 0.9824\n",
            "375/375 [==============================] - 1s 1ms/step\n",
            "1200/1200 [==============================] - 4s 3ms/step - loss: 0.1304 - accuracy: 0.7484 - val_loss: 0.0148 - val_accuracy: 0.9766\n",
            "375/375 [==============================] - 1s 1ms/step\n",
            "1200/1200 [==============================] - 4s 3ms/step - loss: 0.1317 - accuracy: 0.7451 - val_loss: 0.0131 - val_accuracy: 0.9811\n",
            "375/375 [==============================] - 1s 1ms/step\n",
            "1200/1200 [==============================] - 4s 3ms/step - loss: 0.1509 - accuracy: 0.7124 - val_loss: 0.0150 - val_accuracy: 0.9789\n",
            "375/375 [==============================] - 1s 2ms/step\n",
            "1200/1200 [==============================] - 4s 3ms/step - loss: 0.1406 - accuracy: 0.7321 - val_loss: 0.0150 - val_accuracy: 0.9777\n",
            "375/375 [==============================] - 1s 1ms/step\n",
            "1200/1200 [==============================] - 4s 3ms/step - loss: 0.4376 - accuracy: 0.1142 - val_loss: 0.3122 - val_accuracy: 0.3988\n",
            "375/375 [==============================] - 1s 1ms/step\n",
            "1200/1200 [==============================] - 4s 3ms/step - loss: 0.4322 - accuracy: 0.1291 - val_loss: 0.3047 - val_accuracy: 0.4670\n",
            "375/375 [==============================] - 1s 1ms/step\n",
            "1200/1200 [==============================] - 4s 3ms/step - loss: 0.4402 - accuracy: 0.1101 - val_loss: 0.3130 - val_accuracy: 0.3974\n",
            "375/375 [==============================] - 1s 1ms/step\n",
            "1200/1200 [==============================] - 4s 3ms/step - loss: 0.4298 - accuracy: 0.1233 - val_loss: 0.2986 - val_accuracy: 0.5565\n",
            "375/375 [==============================] - 1s 1ms/step\n",
            "1200/1200 [==============================] - 4s 3ms/step - loss: 0.4521 - accuracy: 0.1195 - val_loss: 0.3120 - val_accuracy: 0.3701\n",
            "375/375 [==============================] - 1s 1ms/step\n",
            "600/600 [==============================] - 3s 4ms/step - loss: 0.1311 - accuracy: 0.7608 - val_loss: 0.0192 - val_accuracy: 0.9721\n",
            "188/188 [==============================] - 0s 1ms/step\n",
            "600/600 [==============================] - 3s 4ms/step - loss: 0.1413 - accuracy: 0.7420 - val_loss: 0.0158 - val_accuracy: 0.9797\n",
            "188/188 [==============================] - 0s 1ms/step\n",
            "600/600 [==============================] - 3s 4ms/step - loss: 0.1346 - accuracy: 0.7521 - val_loss: 0.0161 - val_accuracy: 0.9779\n",
            "188/188 [==============================] - 0s 1ms/step\n",
            "600/600 [==============================] - 3s 4ms/step - loss: 0.1261 - accuracy: 0.7681 - val_loss: 0.0150 - val_accuracy: 0.9807\n",
            "188/188 [==============================] - 0s 1ms/step\n",
            "600/600 [==============================] - 3s 4ms/step - loss: 0.1278 - accuracy: 0.7704 - val_loss: 0.0165 - val_accuracy: 0.9758\n",
            "188/188 [==============================] - 0s 2ms/step\n",
            "600/600 [==============================] - 2s 3ms/step - loss: 0.1749 - accuracy: 0.6711 - val_loss: 0.0178 - val_accuracy: 0.9777\n",
            "188/188 [==============================] - 0s 1ms/step\n",
            "600/600 [==============================] - 2s 3ms/step - loss: 0.1645 - accuracy: 0.7093 - val_loss: 0.0195 - val_accuracy: 0.9747\n",
            "188/188 [==============================] - 0s 1ms/step\n",
            "600/600 [==============================] - 2s 3ms/step - loss: 0.1662 - accuracy: 0.6857 - val_loss: 0.0191 - val_accuracy: 0.9733\n",
            "188/188 [==============================] - 0s 1ms/step\n",
            "600/600 [==============================] - 2s 3ms/step - loss: 0.1655 - accuracy: 0.7038 - val_loss: 0.0188 - val_accuracy: 0.9757\n",
            "188/188 [==============================] - 0s 1ms/step\n",
            "600/600 [==============================] - 2s 3ms/step - loss: 0.1737 - accuracy: 0.6764 - val_loss: 0.0211 - val_accuracy: 0.9697\n",
            "188/188 [==============================] - 0s 1ms/step\n",
            "600/600 [==============================] - 2s 3ms/step - loss: 0.4934 - accuracy: 0.1291 - val_loss: 0.3142 - val_accuracy: 0.4020\n",
            "188/188 [==============================] - 0s 1ms/step\n",
            "600/600 [==============================] - 2s 3ms/step - loss: 0.4620 - accuracy: 0.1230 - val_loss: 0.3115 - val_accuracy: 0.4117\n",
            "188/188 [==============================] - 0s 1ms/step\n",
            "600/600 [==============================] - 2s 3ms/step - loss: 0.4881 - accuracy: 0.1856 - val_loss: 0.3150 - val_accuracy: 0.4910\n",
            "188/188 [==============================] - 0s 1ms/step\n",
            "600/600 [==============================] - 2s 3ms/step - loss: 0.4900 - accuracy: 0.1385 - val_loss: 0.3170 - val_accuracy: 0.3659\n",
            "188/188 [==============================] - 0s 1ms/step\n",
            "600/600 [==============================] - 2s 3ms/step - loss: 0.5004 - accuracy: 0.1217 - val_loss: 0.3179 - val_accuracy: 0.3334\n",
            "188/188 [==============================] - 0s 1ms/step\n",
            "600/600 [==============================] - 3s 4ms/step - loss: 0.1288 - accuracy: 0.7593 - val_loss: 0.0171 - val_accuracy: 0.9753\n",
            "188/188 [==============================] - 0s 1ms/step\n",
            "600/600 [==============================] - 3s 4ms/step - loss: 0.1317 - accuracy: 0.7580 - val_loss: 0.0185 - val_accuracy: 0.9737\n",
            "188/188 [==============================] - 0s 1ms/step\n",
            "600/600 [==============================] - 3s 4ms/step - loss: 0.1411 - accuracy: 0.7407 - val_loss: 0.0158 - val_accuracy: 0.9785\n",
            "188/188 [==============================] - 0s 1ms/step\n",
            "600/600 [==============================] - 3s 4ms/step - loss: 0.1371 - accuracy: 0.7445 - val_loss: 0.0154 - val_accuracy: 0.9789\n",
            "188/188 [==============================] - 0s 1ms/step\n",
            "600/600 [==============================] - 3s 4ms/step - loss: 0.1367 - accuracy: 0.7486 - val_loss: 0.0183 - val_accuracy: 0.9722\n",
            "188/188 [==============================] - 0s 1ms/step\n",
            "600/600 [==============================] - 2s 3ms/step - loss: 0.1527 - accuracy: 0.7115 - val_loss: 0.0154 - val_accuracy: 0.9784\n",
            "188/188 [==============================] - 0s 1ms/step\n",
            "600/600 [==============================] - 2s 4ms/step - loss: 0.1824 - accuracy: 0.6422 - val_loss: 0.0211 - val_accuracy: 0.9708\n",
            "188/188 [==============================] - 0s 2ms/step\n",
            "600/600 [==============================] - 2s 3ms/step - loss: 0.1795 - accuracy: 0.6548 - val_loss: 0.0159 - val_accuracy: 0.9787\n",
            "188/188 [==============================] - 0s 1ms/step\n",
            "600/600 [==============================] - 3s 4ms/step - loss: 0.1617 - accuracy: 0.7003 - val_loss: 0.0156 - val_accuracy: 0.9793\n",
            "188/188 [==============================] - 0s 1ms/step\n",
            "600/600 [==============================] - 2s 3ms/step - loss: 0.1609 - accuracy: 0.7033 - val_loss: 0.0189 - val_accuracy: 0.9722\n",
            "188/188 [==============================] - 1s 1ms/step\n",
            "600/600 [==============================] - 2s 3ms/step - loss: 0.4864 - accuracy: 0.1085 - val_loss: 0.3154 - val_accuracy: 0.4933\n",
            "188/188 [==============================] - 0s 1ms/step\n",
            "600/600 [==============================] - 2s 3ms/step - loss: 0.4649 - accuracy: 0.1304 - val_loss: 0.3131 - val_accuracy: 0.3218\n",
            "188/188 [==============================] - 0s 1ms/step\n",
            "600/600 [==============================] - 2s 3ms/step - loss: 0.5332 - accuracy: 0.1027 - val_loss: 0.3196 - val_accuracy: 0.3395\n",
            "188/188 [==============================] - 0s 1ms/step\n",
            "600/600 [==============================] - 2s 3ms/step - loss: 0.5292 - accuracy: 0.1266 - val_loss: 0.3194 - val_accuracy: 0.4307\n",
            "188/188 [==============================] - 0s 1ms/step\n",
            "600/600 [==============================] - 2s 3ms/step - loss: 0.5765 - accuracy: 0.1205 - val_loss: 0.3193 - val_accuracy: 0.3075\n",
            "188/188 [==============================] - 0s 1ms/step\n",
            "600/600 [==============================] - 3s 4ms/step - loss: 0.1469 - accuracy: 0.7207 - val_loss: 0.0153 - val_accuracy: 0.9796\n",
            "188/188 [==============================] - 0s 1ms/step\n",
            "600/600 [==============================] - 3s 4ms/step - loss: 0.1449 - accuracy: 0.7216 - val_loss: 0.0173 - val_accuracy: 0.9757\n",
            "188/188 [==============================] - 0s 1ms/step\n",
            "600/600 [==============================] - 3s 4ms/step - loss: 0.1441 - accuracy: 0.7314 - val_loss: 0.0160 - val_accuracy: 0.9761\n",
            "188/188 [==============================] - 0s 1ms/step\n",
            "600/600 [==============================] - 3s 4ms/step - loss: 0.1457 - accuracy: 0.7244 - val_loss: 0.0189 - val_accuracy: 0.9717\n",
            "188/188 [==============================] - 0s 1ms/step\n",
            "600/600 [==============================] - 3s 4ms/step - loss: 0.1514 - accuracy: 0.7120 - val_loss: 0.0195 - val_accuracy: 0.9715\n",
            "188/188 [==============================] - 0s 2ms/step\n",
            "600/600 [==============================] - 2s 4ms/step - loss: 0.1745 - accuracy: 0.6596 - val_loss: 0.0163 - val_accuracy: 0.9784\n",
            "188/188 [==============================] - 0s 1ms/step\n",
            "600/600 [==============================] - 2s 4ms/step - loss: 0.1874 - accuracy: 0.6413 - val_loss: 0.0175 - val_accuracy: 0.9757\n",
            "188/188 [==============================] - 0s 1ms/step\n",
            "600/600 [==============================] - 2s 3ms/step - loss: 0.1779 - accuracy: 0.6500 - val_loss: 0.0178 - val_accuracy: 0.9747\n",
            "188/188 [==============================] - 0s 1ms/step\n",
            "600/600 [==============================] - 2s 3ms/step - loss: 0.1752 - accuracy: 0.6543 - val_loss: 0.0145 - val_accuracy: 0.9807\n",
            "188/188 [==============================] - 0s 1ms/step\n",
            "600/600 [==============================] - 2s 3ms/step - loss: 0.1718 - accuracy: 0.6719 - val_loss: 0.0202 - val_accuracy: 0.9691\n",
            "188/188 [==============================] - 0s 1ms/step\n",
            "600/600 [==============================] - 2s 3ms/step - loss: 0.5175 - accuracy: 0.1011 - val_loss: 0.3191 - val_accuracy: 0.1994\n",
            "188/188 [==============================] - 0s 1ms/step\n",
            "600/600 [==============================] - 2s 3ms/step - loss: 0.5473 - accuracy: 0.1108 - val_loss: 0.3208 - val_accuracy: 0.1848\n",
            "188/188 [==============================] - 0s 1ms/step\n",
            "600/600 [==============================] - 2s 3ms/step - loss: 0.4505 - accuracy: 0.1137 - val_loss: 0.3227 - val_accuracy: 0.2894\n",
            "188/188 [==============================] - 0s 2ms/step\n",
            "600/600 [==============================] - 2s 3ms/step - loss: 0.5132 - accuracy: 0.1086 - val_loss: 0.3183 - val_accuracy: 0.2779\n",
            "188/188 [==============================] - 0s 1ms/step\n",
            "600/600 [==============================] - 2s 3ms/step - loss: 0.5518 - accuracy: 0.1064 - val_loss: 0.3202 - val_accuracy: 0.1248\n",
            "188/188 [==============================] - 0s 1ms/step\n",
            "300/300 [==============================] - 2s 5ms/step - loss: 0.1789 - accuracy: 0.6831 - val_loss: 0.0292 - val_accuracy: 0.9596\n",
            "94/94 [==============================] - 0s 2ms/step\n",
            "300/300 [==============================] - 2s 5ms/step - loss: 0.1801 - accuracy: 0.6775 - val_loss: 0.0257 - val_accuracy: 0.9629\n",
            "94/94 [==============================] - 0s 2ms/step\n",
            "300/300 [==============================] - 2s 5ms/step - loss: 0.1736 - accuracy: 0.6955 - val_loss: 0.0274 - val_accuracy: 0.9617\n",
            "94/94 [==============================] - 0s 2ms/step\n",
            "300/300 [==============================] - 2s 5ms/step - loss: 0.1738 - accuracy: 0.6850 - val_loss: 0.0221 - val_accuracy: 0.9707\n",
            "94/94 [==============================] - 0s 2ms/step\n",
            "300/300 [==============================] - 2s 5ms/step - loss: 0.1794 - accuracy: 0.6722 - val_loss: 0.0282 - val_accuracy: 0.9592\n",
            "94/94 [==============================] - 0s 2ms/step\n",
            "300/300 [==============================] - 2s 4ms/step - loss: 0.2317 - accuracy: 0.5680 - val_loss: 0.0283 - val_accuracy: 0.9623\n",
            "94/94 [==============================] - 0s 2ms/step\n",
            "300/300 [==============================] - 2s 4ms/step - loss: 0.2109 - accuracy: 0.6260 - val_loss: 0.0264 - val_accuracy: 0.9664\n",
            "94/94 [==============================] - 0s 2ms/step\n",
            "300/300 [==============================] - 2s 4ms/step - loss: 0.2366 - accuracy: 0.5810 - val_loss: 0.0270 - val_accuracy: 0.9658\n",
            "94/94 [==============================] - 0s 2ms/step\n",
            "300/300 [==============================] - 2s 4ms/step - loss: 0.2263 - accuracy: 0.5955 - val_loss: 0.0290 - val_accuracy: 0.9624\n",
            "94/94 [==============================] - 0s 2ms/step\n",
            "300/300 [==============================] - 2s 4ms/step - loss: 0.2267 - accuracy: 0.5671 - val_loss: 0.0301 - val_accuracy: 0.9602\n",
            "94/94 [==============================] - 0s 2ms/step\n",
            "300/300 [==============================] - 2s 4ms/step - loss: 0.6067 - accuracy: 0.0846 - val_loss: 0.3261 - val_accuracy: 0.0849\n",
            "94/94 [==============================] - 0s 2ms/step\n",
            "300/300 [==============================] - 2s 4ms/step - loss: 0.5432 - accuracy: 0.0752 - val_loss: 0.3249 - val_accuracy: 0.1051\n",
            "94/94 [==============================] - 0s 2ms/step\n",
            "300/300 [==============================] - 2s 4ms/step - loss: 0.6232 - accuracy: 0.1288 - val_loss: 0.3258 - val_accuracy: 0.1581\n",
            "94/94 [==============================] - 0s 2ms/step\n",
            "300/300 [==============================] - 2s 4ms/step - loss: 0.5383 - accuracy: 0.1017 - val_loss: 0.3200 - val_accuracy: 0.2123\n",
            "94/94 [==============================] - 0s 2ms/step\n",
            "300/300 [==============================] - 2s 4ms/step - loss: 0.5848 - accuracy: 0.0987 - val_loss: 0.3317 - val_accuracy: 0.0991\n",
            "94/94 [==============================] - 0s 2ms/step\n",
            "300/300 [==============================] - 2s 5ms/step - loss: 0.1682 - accuracy: 0.6895 - val_loss: 0.0197 - val_accuracy: 0.9725\n",
            "94/94 [==============================] - 0s 2ms/step\n",
            "300/300 [==============================] - 2s 5ms/step - loss: 0.1715 - accuracy: 0.6877 - val_loss: 0.0201 - val_accuracy: 0.9735\n",
            "94/94 [==============================] - 0s 2ms/step\n",
            "300/300 [==============================] - 2s 5ms/step - loss: 0.1715 - accuracy: 0.6786 - val_loss: 0.0210 - val_accuracy: 0.9711\n",
            "94/94 [==============================] - 0s 2ms/step\n",
            "300/300 [==============================] - 2s 5ms/step - loss: 0.1664 - accuracy: 0.6894 - val_loss: 0.0201 - val_accuracy: 0.9742\n",
            "94/94 [==============================] - 0s 2ms/step\n",
            "300/300 [==============================] - 2s 5ms/step - loss: 0.1825 - accuracy: 0.6599 - val_loss: 0.0289 - val_accuracy: 0.9555\n",
            "94/94 [==============================] - 0s 2ms/step\n",
            "300/300 [==============================] - 2s 4ms/step - loss: 0.2581 - accuracy: 0.5071 - val_loss: 0.0222 - val_accuracy: 0.9714\n",
            "94/94 [==============================] - 0s 2ms/step\n",
            "300/300 [==============================] - 2s 4ms/step - loss: 0.2330 - accuracy: 0.5544 - val_loss: 0.0236 - val_accuracy: 0.9695\n",
            "94/94 [==============================] - 0s 2ms/step\n",
            "300/300 [==============================] - 2s 5ms/step - loss: 0.2355 - accuracy: 0.5438 - val_loss: 0.0259 - val_accuracy: 0.9649\n",
            "94/94 [==============================] - 0s 2ms/step\n",
            "300/300 [==============================] - 2s 4ms/step - loss: 0.2173 - accuracy: 0.5731 - val_loss: 0.0213 - val_accuracy: 0.9724\n",
            "94/94 [==============================] - 0s 2ms/step\n",
            "300/300 [==============================] - 2s 4ms/step - loss: 0.2411 - accuracy: 0.5390 - val_loss: 0.0273 - val_accuracy: 0.9617\n",
            "94/94 [==============================] - 0s 2ms/step\n",
            "300/300 [==============================] - 2s 4ms/step - loss: 0.5774 - accuracy: 0.1031 - val_loss: 0.3259 - val_accuracy: 0.1372\n",
            "94/94 [==============================] - 0s 2ms/step\n",
            "300/300 [==============================] - 2s 4ms/step - loss: 0.5899 - accuracy: 0.0903 - val_loss: 0.3286 - val_accuracy: 0.1589\n",
            "94/94 [==============================] - 0s 2ms/step\n",
            "300/300 [==============================] - 2s 4ms/step - loss: 0.6225 - accuracy: 0.1074 - val_loss: 0.3244 - val_accuracy: 0.1272\n",
            "94/94 [==============================] - 0s 2ms/step\n",
            "300/300 [==============================] - 2s 4ms/step - loss: 0.5254 - accuracy: 0.1113 - val_loss: 0.3227 - val_accuracy: 0.1684\n",
            "94/94 [==============================] - 0s 2ms/step\n",
            "300/300 [==============================] - 2s 4ms/step - loss: 0.5893 - accuracy: 0.1122 - val_loss: 0.3238 - val_accuracy: 0.1368\n",
            "94/94 [==============================] - 0s 2ms/step\n",
            "300/300 [==============================] - 2s 5ms/step - loss: 0.1865 - accuracy: 0.6464 - val_loss: 0.0191 - val_accuracy: 0.9739\n",
            "94/94 [==============================] - 0s 2ms/step\n",
            "300/300 [==============================] - 2s 5ms/step - loss: 0.1927 - accuracy: 0.6334 - val_loss: 0.0223 - val_accuracy: 0.9690\n",
            "94/94 [==============================] - 0s 2ms/step\n",
            "300/300 [==============================] - 2s 5ms/step - loss: 0.1925 - accuracy: 0.6288 - val_loss: 0.0240 - val_accuracy: 0.9657\n",
            "94/94 [==============================] - 0s 2ms/step\n",
            "300/300 [==============================] - 2s 5ms/step - loss: 0.1931 - accuracy: 0.6344 - val_loss: 0.0246 - val_accuracy: 0.9672\n",
            "94/94 [==============================] - 0s 2ms/step\n",
            "300/300 [==============================] - 2s 5ms/step - loss: 0.1958 - accuracy: 0.6256 - val_loss: 0.0318 - val_accuracy: 0.9510\n",
            "94/94 [==============================] - 0s 2ms/step\n",
            "300/300 [==============================] - 2s 4ms/step - loss: 0.2402 - accuracy: 0.5247 - val_loss: 0.0244 - val_accuracy: 0.9685\n",
            "94/94 [==============================] - 0s 2ms/step\n",
            "300/300 [==============================] - 2s 4ms/step - loss: 0.2320 - accuracy: 0.5416 - val_loss: 0.0234 - val_accuracy: 0.9684\n",
            "94/94 [==============================] - 0s 2ms/step\n",
            "300/300 [==============================] - 2s 4ms/step - loss: 0.2245 - accuracy: 0.5471 - val_loss: 0.0239 - val_accuracy: 0.9663\n",
            "94/94 [==============================] - 0s 2ms/step\n",
            "300/300 [==============================] - 2s 4ms/step - loss: 0.2467 - accuracy: 0.5167 - val_loss: 0.0223 - val_accuracy: 0.9692\n",
            "94/94 [==============================] - 0s 2ms/step\n",
            "300/300 [==============================] - 2s 4ms/step - loss: 0.2363 - accuracy: 0.5434 - val_loss: 0.0281 - val_accuracy: 0.9590\n",
            "94/94 [==============================] - 0s 2ms/step\n",
            "300/300 [==============================] - 2s 4ms/step - loss: 0.5894 - accuracy: 0.1013 - val_loss: 0.3226 - val_accuracy: 0.1997\n",
            "94/94 [==============================] - 0s 2ms/step\n",
            "300/300 [==============================] - 2s 4ms/step - loss: 0.6136 - accuracy: 0.1052 - val_loss: 0.3278 - val_accuracy: 0.1291\n",
            "94/94 [==============================] - 0s 2ms/step\n",
            "300/300 [==============================] - 2s 4ms/step - loss: 0.5190 - accuracy: 0.0930 - val_loss: 0.3247 - val_accuracy: 0.2600\n",
            "94/94 [==============================] - 0s 2ms/step\n",
            "300/300 [==============================] - 2s 4ms/step - loss: 0.5296 - accuracy: 0.1036 - val_loss: 0.3226 - val_accuracy: 0.2157\n",
            "94/94 [==============================] - 0s 2ms/step\n",
            "300/300 [==============================] - 2s 5ms/step - loss: 0.6241 - accuracy: 0.0992 - val_loss: 0.3256 - val_accuracy: 0.0968\n",
            "94/94 [==============================] - 0s 2ms/step\n",
            "1200/1200 [==============================] - 5s 4ms/step - loss: 0.0897 - accuracy: 0.8447 - val_loss: 0.0142 - val_accuracy: 0.9817\n",
            "375/375 [==============================] - 1s 1ms/step\n",
            "1200/1200 [==============================] - 5s 4ms/step - loss: 0.0855 - accuracy: 0.8533 - val_loss: 0.0135 - val_accuracy: 0.9834\n",
            "375/375 [==============================] - 1s 1ms/step\n",
            "1200/1200 [==============================] - 5s 4ms/step - loss: 0.0881 - accuracy: 0.8502 - val_loss: 0.0132 - val_accuracy: 0.9820\n",
            "375/375 [==============================] - 1s 1ms/step\n",
            "1200/1200 [==============================] - 5s 4ms/step - loss: 0.0842 - accuracy: 0.8570 - val_loss: 0.0171 - val_accuracy: 0.9777\n",
            "375/375 [==============================] - 1s 1ms/step\n",
            "1200/1200 [==============================] - 5s 4ms/step - loss: 0.0883 - accuracy: 0.8438 - val_loss: 0.0132 - val_accuracy: 0.9823\n",
            "375/375 [==============================] - 1s 1ms/step\n",
            "1200/1200 [==============================] - 4s 3ms/step - loss: 0.1014 - accuracy: 0.8204 - val_loss: 0.0163 - val_accuracy: 0.9809\n",
            "375/375 [==============================] - 1s 1ms/step\n",
            "1200/1200 [==============================] - 4s 3ms/step - loss: 0.1107 - accuracy: 0.8098 - val_loss: 0.0137 - val_accuracy: 0.9833\n",
            "375/375 [==============================] - 1s 1ms/step\n",
            "1200/1200 [==============================] - 4s 3ms/step - loss: 0.1031 - accuracy: 0.8173 - val_loss: 0.0170 - val_accuracy: 0.9793\n",
            "375/375 [==============================] - 1s 1ms/step\n",
            "1200/1200 [==============================] - 4s 3ms/step - loss: 0.1104 - accuracy: 0.7988 - val_loss: 0.0173 - val_accuracy: 0.9802\n",
            "375/375 [==============================] - 1s 1ms/step\n",
            "1200/1200 [==============================] - 4s 3ms/step - loss: 0.1061 - accuracy: 0.8108 - val_loss: 0.0152 - val_accuracy: 0.9804\n",
            "375/375 [==============================] - 1s 1ms/step\n",
            "1200/1200 [==============================] - 4s 3ms/step - loss: 0.3830 - accuracy: 0.2436 - val_loss: 0.2465 - val_accuracy: 0.6737\n",
            "375/375 [==============================] - 1s 1ms/step\n",
            "1200/1200 [==============================] - 4s 3ms/step - loss: 0.4119 - accuracy: 0.2803 - val_loss: 0.2450 - val_accuracy: 0.6599\n",
            "375/375 [==============================] - 1s 1ms/step\n",
            "1200/1200 [==============================] - 4s 3ms/step - loss: 0.3620 - accuracy: 0.3056 - val_loss: 0.2187 - val_accuracy: 0.7486\n",
            "375/375 [==============================] - 1s 1ms/step\n",
            "1200/1200 [==============================] - 4s 3ms/step - loss: 0.3816 - accuracy: 0.3437 - val_loss: 0.2111 - val_accuracy: 0.7248\n",
            "375/375 [==============================] - 1s 2ms/step\n",
            "1200/1200 [==============================] - 4s 3ms/step - loss: 0.3816 - accuracy: 0.2781 - val_loss: 0.2361 - val_accuracy: 0.7045\n",
            "375/375 [==============================] - 1s 1ms/step\n",
            "1200/1200 [==============================] - 5s 4ms/step - loss: 0.0909 - accuracy: 0.8400 - val_loss: 0.0128 - val_accuracy: 0.9842\n",
            "375/375 [==============================] - 1s 1ms/step\n",
            "1200/1200 [==============================] - 5s 4ms/step - loss: 0.0960 - accuracy: 0.8324 - val_loss: 0.0149 - val_accuracy: 0.9794\n",
            "375/375 [==============================] - 1s 1ms/step\n",
            "1200/1200 [==============================] - 5s 4ms/step - loss: 0.0934 - accuracy: 0.8373 - val_loss: 0.0142 - val_accuracy: 0.9837\n",
            "375/375 [==============================] - 1s 1ms/step\n",
            "1200/1200 [==============================] - 5s 4ms/step - loss: 0.0989 - accuracy: 0.8276 - val_loss: 0.0139 - val_accuracy: 0.9830\n",
            "375/375 [==============================] - 1s 1ms/step\n",
            "1200/1200 [==============================] - 5s 4ms/step - loss: 0.0910 - accuracy: 0.8445 - val_loss: 0.0162 - val_accuracy: 0.9775\n",
            "375/375 [==============================] - 1s 1ms/step\n",
            "1200/1200 [==============================] - 4s 3ms/step - loss: 0.1149 - accuracy: 0.7889 - val_loss: 0.0125 - val_accuracy: 0.9853\n",
            "375/375 [==============================] - 1s 1ms/step\n",
            "1200/1200 [==============================] - 4s 3ms/step - loss: 0.1119 - accuracy: 0.8021 - val_loss: 0.0141 - val_accuracy: 0.9817\n",
            "375/375 [==============================] - 1s 1ms/step\n",
            "1200/1200 [==============================] - 4s 3ms/step - loss: 0.1128 - accuracy: 0.7945 - val_loss: 0.0148 - val_accuracy: 0.9819\n",
            "375/375 [==============================] - 1s 1ms/step\n",
            "1200/1200 [==============================] - 4s 3ms/step - loss: 0.1146 - accuracy: 0.7938 - val_loss: 0.0136 - val_accuracy: 0.9821\n",
            "375/375 [==============================] - 1s 1ms/step\n",
            "1200/1200 [==============================] - 4s 3ms/step - loss: 0.1057 - accuracy: 0.8126 - val_loss: 0.0166 - val_accuracy: 0.9758\n",
            "375/375 [==============================] - 1s 1ms/step\n",
            "1200/1200 [==============================] - 4s 3ms/step - loss: 0.3883 - accuracy: 0.1911 - val_loss: 0.2308 - val_accuracy: 0.6923\n",
            "375/375 [==============================] - 1s 1ms/step\n",
            "1200/1200 [==============================] - 4s 3ms/step - loss: 0.3948 - accuracy: 0.1747 - val_loss: 0.2590 - val_accuracy: 0.6793\n",
            "375/375 [==============================] - 1s 1ms/step\n",
            "1200/1200 [==============================] - 5s 4ms/step - loss: 0.3967 - accuracy: 0.1782 - val_loss: 0.2581 - val_accuracy: 0.6633\n",
            "375/375 [==============================] - 1s 2ms/step\n",
            "1200/1200 [==============================] - 4s 3ms/step - loss: 0.3879 - accuracy: 0.1699 - val_loss: 0.2768 - val_accuracy: 0.6169\n",
            "375/375 [==============================] - 1s 1ms/step\n",
            "1200/1200 [==============================] - 4s 3ms/step - loss: 0.4008 - accuracy: 0.1618 - val_loss: 0.2745 - val_accuracy: 0.5842\n",
            "375/375 [==============================] - 1s 1ms/step\n",
            "1200/1200 [==============================] - 5s 4ms/step - loss: 0.0983 - accuracy: 0.8281 - val_loss: 0.0140 - val_accuracy: 0.9817\n",
            "375/375 [==============================] - 1s 1ms/step\n",
            "1200/1200 [==============================] - 5s 4ms/step - loss: 0.1095 - accuracy: 0.8051 - val_loss: 0.0142 - val_accuracy: 0.9810\n",
            "375/375 [==============================] - 1s 1ms/step\n",
            "1200/1200 [==============================] - 5s 4ms/step - loss: 0.1071 - accuracy: 0.8084 - val_loss: 0.0149 - val_accuracy: 0.9812\n",
            "375/375 [==============================] - 1s 1ms/step\n",
            "1200/1200 [==============================] - 5s 4ms/step - loss: 0.1045 - accuracy: 0.8141 - val_loss: 0.0124 - val_accuracy: 0.9840\n",
            "375/375 [==============================] - 1s 1ms/step\n",
            "1200/1200 [==============================] - 5s 4ms/step - loss: 0.1032 - accuracy: 0.8197 - val_loss: 0.0180 - val_accuracy: 0.9741\n",
            "375/375 [==============================] - 1s 1ms/step\n",
            "1200/1200 [==============================] - 4s 3ms/step - loss: 0.1202 - accuracy: 0.7825 - val_loss: 0.0143 - val_accuracy: 0.9803\n",
            "375/375 [==============================] - 1s 1ms/step\n",
            "1200/1200 [==============================] - 4s 3ms/step - loss: 0.1170 - accuracy: 0.7865 - val_loss: 0.0132 - val_accuracy: 0.9835\n",
            "375/375 [==============================] - 1s 1ms/step\n",
            "1200/1200 [==============================] - 5s 3ms/step - loss: 0.1221 - accuracy: 0.7761 - val_loss: 0.0141 - val_accuracy: 0.9823\n",
            "375/375 [==============================] - 1s 1ms/step\n",
            "1200/1200 [==============================] - 5s 3ms/step - loss: 0.1281 - accuracy: 0.7605 - val_loss: 0.0178 - val_accuracy: 0.9749\n",
            "375/375 [==============================] - 1s 1ms/step\n",
            "1200/1200 [==============================] - 4s 3ms/step - loss: 0.1240 - accuracy: 0.7735 - val_loss: 0.0177 - val_accuracy: 0.9745\n",
            "375/375 [==============================] - 1s 1ms/step\n",
            "1200/1200 [==============================] - 4s 3ms/step - loss: 0.4028 - accuracy: 0.1670 - val_loss: 0.2526 - val_accuracy: 0.7236\n",
            "375/375 [==============================] - 1s 1ms/step\n",
            "1200/1200 [==============================] - 5s 3ms/step - loss: 0.4015 - accuracy: 0.1275 - val_loss: 0.2897 - val_accuracy: 0.6181\n",
            "375/375 [==============================] - 1s 1ms/step\n",
            "1200/1200 [==============================] - 4s 3ms/step - loss: 0.4268 - accuracy: 0.1345 - val_loss: 0.2815 - val_accuracy: 0.7035\n",
            "375/375 [==============================] - 1s 2ms/step\n",
            "1200/1200 [==============================] - 4s 3ms/step - loss: 0.3862 - accuracy: 0.1506 - val_loss: 0.2681 - val_accuracy: 0.6786\n",
            "375/375 [==============================] - 1s 1ms/step\n",
            "1200/1200 [==============================] - 4s 3ms/step - loss: 0.4072 - accuracy: 0.1472 - val_loss: 0.2633 - val_accuracy: 0.6556\n",
            "375/375 [==============================] - 1s 1ms/step\n",
            "600/600 [==============================] - 3s 4ms/step - loss: 0.1151 - accuracy: 0.8035 - val_loss: 0.0168 - val_accuracy: 0.9794\n",
            "188/188 [==============================] - 0s 1ms/step\n",
            "600/600 [==============================] - 3s 4ms/step - loss: 0.1162 - accuracy: 0.8014 - val_loss: 0.0148 - val_accuracy: 0.9830\n",
            "188/188 [==============================] - 0s 1ms/step\n",
            "600/600 [==============================] - 3s 4ms/step - loss: 0.1167 - accuracy: 0.8003 - val_loss: 0.0149 - val_accuracy: 0.9818\n",
            "188/188 [==============================] - 0s 1ms/step\n",
            "600/600 [==============================] - 3s 4ms/step - loss: 0.1142 - accuracy: 0.8096 - val_loss: 0.0160 - val_accuracy: 0.9798\n",
            "188/188 [==============================] - 0s 2ms/step\n",
            "600/600 [==============================] - 3s 4ms/step - loss: 0.1184 - accuracy: 0.7949 - val_loss: 0.0281 - val_accuracy: 0.9638\n",
            "188/188 [==============================] - 0s 2ms/step\n",
            "600/600 [==============================] - 3s 4ms/step - loss: 0.1384 - accuracy: 0.7600 - val_loss: 0.0152 - val_accuracy: 0.9823\n",
            "188/188 [==============================] - 0s 1ms/step\n",
            "600/600 [==============================] - 2s 4ms/step - loss: 0.1349 - accuracy: 0.7561 - val_loss: 0.0179 - val_accuracy: 0.9777\n",
            "188/188 [==============================] - 0s 1ms/step\n",
            "600/600 [==============================] - 2s 3ms/step - loss: 0.1465 - accuracy: 0.7450 - val_loss: 0.0202 - val_accuracy: 0.9768\n",
            "188/188 [==============================] - 0s 1ms/step\n",
            "600/600 [==============================] - 2s 3ms/step - loss: 0.1492 - accuracy: 0.7258 - val_loss: 0.0186 - val_accuracy: 0.9784\n",
            "188/188 [==============================] - 0s 1ms/step\n",
            "600/600 [==============================] - 3s 4ms/step - loss: 0.1448 - accuracy: 0.7424 - val_loss: 0.0176 - val_accuracy: 0.9772\n",
            "188/188 [==============================] - 0s 2ms/step\n",
            "600/600 [==============================] - 3s 3ms/step - loss: 0.4278 - accuracy: 0.1564 - val_loss: 0.2992 - val_accuracy: 0.5163\n",
            "188/188 [==============================] - 0s 1ms/step\n",
            "600/600 [==============================] - 2s 3ms/step - loss: 0.4797 - accuracy: 0.1465 - val_loss: 0.3030 - val_accuracy: 0.5377\n",
            "188/188 [==============================] - 0s 1ms/step\n",
            "600/600 [==============================] - 2s 3ms/step - loss: 0.4630 - accuracy: 0.1443 - val_loss: 0.3023 - val_accuracy: 0.4972\n",
            "188/188 [==============================] - 0s 2ms/step\n",
            "600/600 [==============================] - 2s 3ms/step - loss: 0.4530 - accuracy: 0.2196 - val_loss: 0.3033 - val_accuracy: 0.5590\n",
            "188/188 [==============================] - 0s 1ms/step\n",
            "600/600 [==============================] - 2s 3ms/step - loss: 0.4342 - accuracy: 0.1185 - val_loss: 0.3143 - val_accuracy: 0.4665\n",
            "188/188 [==============================] - 0s 1ms/step\n",
            "600/600 [==============================] - 3s 4ms/step - loss: 0.1227 - accuracy: 0.7820 - val_loss: 0.0145 - val_accuracy: 0.9818\n",
            "188/188 [==============================] - 0s 2ms/step\n",
            "600/600 [==============================] - 3s 4ms/step - loss: 0.1277 - accuracy: 0.7771 - val_loss: 0.0169 - val_accuracy: 0.9786\n",
            "188/188 [==============================] - 0s 1ms/step\n",
            "600/600 [==============================] - 3s 4ms/step - loss: 0.1236 - accuracy: 0.7872 - val_loss: 0.0154 - val_accuracy: 0.9802\n",
            "188/188 [==============================] - 0s 1ms/step\n",
            "600/600 [==============================] - 3s 4ms/step - loss: 0.1254 - accuracy: 0.7810 - val_loss: 0.0145 - val_accuracy: 0.9830\n",
            "188/188 [==============================] - 0s 1ms/step\n",
            "600/600 [==============================] - 3s 4ms/step - loss: 0.1227 - accuracy: 0.7849 - val_loss: 0.0196 - val_accuracy: 0.9736\n",
            "188/188 [==============================] - 0s 2ms/step\n",
            "600/600 [==============================] - 3s 4ms/step - loss: 0.1406 - accuracy: 0.7458 - val_loss: 0.0173 - val_accuracy: 0.9794\n",
            "188/188 [==============================] - 0s 2ms/step\n",
            "600/600 [==============================] - 3s 4ms/step - loss: 0.1430 - accuracy: 0.7348 - val_loss: 0.0182 - val_accuracy: 0.9769\n",
            "188/188 [==============================] - 0s 2ms/step\n",
            "600/600 [==============================] - 3s 4ms/step - loss: 0.1547 - accuracy: 0.7180 - val_loss: 0.0167 - val_accuracy: 0.9781\n",
            "188/188 [==============================] - 0s 1ms/step\n",
            "600/600 [==============================] - 3s 4ms/step - loss: 0.1482 - accuracy: 0.7208 - val_loss: 0.0174 - val_accuracy: 0.9778\n",
            "188/188 [==============================] - 0s 2ms/step\n",
            "600/600 [==============================] - 3s 4ms/step - loss: 0.1611 - accuracy: 0.7018 - val_loss: 0.0182 - val_accuracy: 0.9748\n",
            "188/188 [==============================] - 0s 1ms/step\n",
            "600/600 [==============================] - 2s 4ms/step - loss: 0.4560 - accuracy: 0.1652 - val_loss: 0.2965 - val_accuracy: 0.6125\n",
            "188/188 [==============================] - 0s 2ms/step\n",
            "600/600 [==============================] - 2s 4ms/step - loss: 0.4269 - accuracy: 0.1428 - val_loss: 0.3055 - val_accuracy: 0.5327\n",
            "188/188 [==============================] - 0s 1ms/step\n",
            "600/600 [==============================] - 2s 4ms/step - loss: 0.4386 - accuracy: 0.1305 - val_loss: 0.3093 - val_accuracy: 0.5561\n",
            "188/188 [==============================] - 0s 1ms/step\n",
            "600/600 [==============================] - 2s 4ms/step - loss: 0.4727 - accuracy: 0.1294 - val_loss: 0.3066 - val_accuracy: 0.5114\n",
            "188/188 [==============================] - 0s 2ms/step\n",
            "600/600 [==============================] - 2s 3ms/step - loss: 0.4645 - accuracy: 0.1239 - val_loss: 0.3090 - val_accuracy: 0.5165\n",
            "188/188 [==============================] - 0s 1ms/step\n",
            "600/600 [==============================] - 3s 4ms/step - loss: 0.1354 - accuracy: 0.7535 - val_loss: 0.0160 - val_accuracy: 0.9805\n",
            "188/188 [==============================] - 0s 1ms/step\n",
            "600/600 [==============================] - 3s 4ms/step - loss: 0.1390 - accuracy: 0.7443 - val_loss: 0.0217 - val_accuracy: 0.9728\n",
            "188/188 [==============================] - 0s 2ms/step\n",
            "600/600 [==============================] - 3s 4ms/step - loss: 0.1315 - accuracy: 0.7599 - val_loss: 0.0158 - val_accuracy: 0.9796\n",
            "188/188 [==============================] - 0s 1ms/step\n",
            "600/600 [==============================] - 3s 4ms/step - loss: 0.1292 - accuracy: 0.7692 - val_loss: 0.0154 - val_accuracy: 0.9805\n",
            "188/188 [==============================] - 0s 2ms/step\n",
            "600/600 [==============================] - 3s 4ms/step - loss: 0.1296 - accuracy: 0.7716 - val_loss: 0.0191 - val_accuracy: 0.9733\n",
            "188/188 [==============================] - 0s 2ms/step\n",
            "600/600 [==============================] - 3s 4ms/step - loss: 0.1599 - accuracy: 0.6963 - val_loss: 0.0193 - val_accuracy: 0.9768\n",
            "188/188 [==============================] - 0s 1ms/step\n",
            "600/600 [==============================] - 3s 4ms/step - loss: 0.1600 - accuracy: 0.6909 - val_loss: 0.0163 - val_accuracy: 0.9807\n",
            "188/188 [==============================] - 0s 1ms/step\n",
            "600/600 [==============================] - 3s 4ms/step - loss: 0.1515 - accuracy: 0.7179 - val_loss: 0.0155 - val_accuracy: 0.9792\n",
            "188/188 [==============================] - 0s 1ms/step\n",
            "600/600 [==============================] - 3s 4ms/step - loss: 0.1699 - accuracy: 0.6751 - val_loss: 0.0172 - val_accuracy: 0.9771\n",
            "188/188 [==============================] - 0s 1ms/step\n",
            "600/600 [==============================] - 3s 4ms/step - loss: 0.1569 - accuracy: 0.7075 - val_loss: 0.0175 - val_accuracy: 0.9759\n",
            "188/188 [==============================] - 0s 2ms/step\n",
            "600/600 [==============================] - 2s 4ms/step - loss: 0.4671 - accuracy: 0.0987 - val_loss: 0.3182 - val_accuracy: 0.3754\n",
            "188/188 [==============================] - 0s 1ms/step\n",
            "600/600 [==============================] - 2s 4ms/step - loss: 0.5005 - accuracy: 0.1015 - val_loss: 0.3147 - val_accuracy: 0.3606\n",
            "188/188 [==============================] - 0s 1ms/step\n",
            "600/600 [==============================] - 2s 3ms/step - loss: 0.4723 - accuracy: 0.1118 - val_loss: 0.3091 - val_accuracy: 0.4370\n",
            "188/188 [==============================] - 0s 1ms/step\n",
            "600/600 [==============================] - 2s 4ms/step - loss: 0.5010 - accuracy: 0.1119 - val_loss: 0.3151 - val_accuracy: 0.4557\n",
            "188/188 [==============================] - 0s 2ms/step\n",
            "600/600 [==============================] - 2s 3ms/step - loss: 0.4477 - accuracy: 0.1350 - val_loss: 0.3111 - val_accuracy: 0.5217\n",
            "188/188 [==============================] - 0s 2ms/step\n",
            "300/300 [==============================] - 2s 5ms/step - loss: 0.1594 - accuracy: 0.7234 - val_loss: 0.0212 - val_accuracy: 0.9750\n",
            "94/94 [==============================] - 0s 2ms/step\n",
            "300/300 [==============================] - 2s 5ms/step - loss: 0.1597 - accuracy: 0.7246 - val_loss: 0.0213 - val_accuracy: 0.9746\n",
            "94/94 [==============================] - 0s 2ms/step\n",
            "300/300 [==============================] - 2s 5ms/step - loss: 0.1574 - accuracy: 0.7303 - val_loss: 0.0213 - val_accuracy: 0.9751\n",
            "94/94 [==============================] - 0s 2ms/step\n",
            "300/300 [==============================] - 2s 5ms/step - loss: 0.1627 - accuracy: 0.7206 - val_loss: 0.0187 - val_accuracy: 0.9768\n",
            "94/94 [==============================] - 0s 2ms/step\n",
            "300/300 [==============================] - 2s 5ms/step - loss: 0.1642 - accuracy: 0.7135 - val_loss: 0.0227 - val_accuracy: 0.9682\n",
            "94/94 [==============================] - 0s 2ms/step\n",
            "300/300 [==============================] - 2s 5ms/step - loss: 0.2093 - accuracy: 0.6062 - val_loss: 0.0235 - val_accuracy: 0.9702\n",
            "94/94 [==============================] - 0s 2ms/step\n",
            "300/300 [==============================] - 2s 5ms/step - loss: 0.2034 - accuracy: 0.6296 - val_loss: 0.0297 - val_accuracy: 0.9608\n",
            "94/94 [==============================] - 0s 2ms/step\n",
            "300/300 [==============================] - 2s 4ms/step - loss: 0.1927 - accuracy: 0.6494 - val_loss: 0.0244 - val_accuracy: 0.9716\n",
            "94/94 [==============================] - 0s 2ms/step\n",
            "300/300 [==============================] - 2s 5ms/step - loss: 0.1939 - accuracy: 0.6595 - val_loss: 0.0227 - val_accuracy: 0.9739\n",
            "94/94 [==============================] - 0s 2ms/step\n",
            "300/300 [==============================] - 2s 5ms/step - loss: 0.2037 - accuracy: 0.6236 - val_loss: 0.0242 - val_accuracy: 0.9703\n",
            "94/94 [==============================] - 0s 2ms/step\n",
            "300/300 [==============================] - 2s 4ms/step - loss: 0.4852 - accuracy: 0.1396 - val_loss: 0.3182 - val_accuracy: 0.3716\n",
            "94/94 [==============================] - 0s 2ms/step\n",
            "300/300 [==============================] - 2s 4ms/step - loss: 0.5116 - accuracy: 0.0832 - val_loss: 0.3185 - val_accuracy: 0.2846\n",
            "94/94 [==============================] - 0s 2ms/step\n",
            "300/300 [==============================] - 2s 4ms/step - loss: 0.4864 - accuracy: 0.0980 - val_loss: 0.3217 - val_accuracy: 0.2092\n",
            "94/94 [==============================] - 0s 2ms/step\n",
            "300/300 [==============================] - 2s 4ms/step - loss: 0.4861 - accuracy: 0.1332 - val_loss: 0.3178 - val_accuracy: 0.2989\n",
            "94/94 [==============================] - 0s 2ms/step\n",
            "300/300 [==============================] - 2s 4ms/step - loss: 0.5055 - accuracy: 0.2057 - val_loss: 0.3117 - val_accuracy: 0.4390\n",
            "94/94 [==============================] - 0s 2ms/step\n",
            "300/300 [==============================] - 2s 5ms/step - loss: 0.1690 - accuracy: 0.7016 - val_loss: 0.0203 - val_accuracy: 0.9743\n",
            "94/94 [==============================] - 0s 2ms/step\n",
            "300/300 [==============================] - 2s 5ms/step - loss: 0.1694 - accuracy: 0.7064 - val_loss: 0.0202 - val_accuracy: 0.9753\n",
            "94/94 [==============================] - 0s 2ms/step\n",
            "300/300 [==============================] - 2s 5ms/step - loss: 0.1624 - accuracy: 0.7054 - val_loss: 0.0196 - val_accuracy: 0.9768\n",
            "94/94 [==============================] - 0s 2ms/step\n",
            "300/300 [==============================] - 2s 5ms/step - loss: 0.1590 - accuracy: 0.7203 - val_loss: 0.0215 - val_accuracy: 0.9699\n",
            "94/94 [==============================] - 0s 2ms/step\n",
            "300/300 [==============================] - 2s 5ms/step - loss: 0.1708 - accuracy: 0.6879 - val_loss: 0.0243 - val_accuracy: 0.9675\n",
            "94/94 [==============================] - 0s 2ms/step\n",
            "300/300 [==============================] - 2s 5ms/step - loss: 0.2021 - accuracy: 0.6298 - val_loss: 0.0211 - val_accuracy: 0.9747\n",
            "94/94 [==============================] - 0s 2ms/step\n",
            "300/300 [==============================] - 2s 5ms/step - loss: 0.2109 - accuracy: 0.6146 - val_loss: 0.0225 - val_accuracy: 0.9717\n",
            "94/94 [==============================] - 0s 2ms/step\n",
            "300/300 [==============================] - 2s 5ms/step - loss: 0.2014 - accuracy: 0.6280 - val_loss: 0.0214 - val_accuracy: 0.9745\n",
            "94/94 [==============================] - 0s 2ms/step\n",
            "300/300 [==============================] - 2s 4ms/step - loss: 0.2122 - accuracy: 0.6181 - val_loss: 0.0243 - val_accuracy: 0.9697\n",
            "94/94 [==============================] - 0s 2ms/step\n",
            "300/300 [==============================] - 2s 5ms/step - loss: 0.2029 - accuracy: 0.6165 - val_loss: 0.0258 - val_accuracy: 0.9681\n",
            "94/94 [==============================] - 0s 2ms/step\n",
            "300/300 [==============================] - 2s 4ms/step - loss: 0.4792 - accuracy: 0.1462 - val_loss: 0.3149 - val_accuracy: 0.4128\n",
            "94/94 [==============================] - 0s 2ms/step\n",
            "300/300 [==============================] - 2s 4ms/step - loss: 0.5163 - accuracy: 0.1164 - val_loss: 0.3186 - val_accuracy: 0.2733\n",
            "94/94 [==============================] - 0s 2ms/step\n",
            "300/300 [==============================] - 2s 4ms/step - loss: 0.4971 - accuracy: 0.1014 - val_loss: 0.3225 - val_accuracy: 0.2184\n",
            "94/94 [==============================] - 0s 2ms/step\n",
            "300/300 [==============================] - 2s 4ms/step - loss: 0.5149 - accuracy: 0.1182 - val_loss: 0.3139 - val_accuracy: 0.3880\n",
            "94/94 [==============================] - 0s 2ms/step\n",
            "300/300 [==============================] - 2s 4ms/step - loss: 0.5350 - accuracy: 0.0903 - val_loss: 0.3228 - val_accuracy: 0.2864\n",
            "94/94 [==============================] - 0s 2ms/step\n",
            "300/300 [==============================] - 2s 5ms/step - loss: 0.1751 - accuracy: 0.6818 - val_loss: 0.0225 - val_accuracy: 0.9710\n",
            "94/94 [==============================] - 0s 2ms/step\n",
            "300/300 [==============================] - 2s 5ms/step - loss: 0.1810 - accuracy: 0.6684 - val_loss: 0.0211 - val_accuracy: 0.9745\n",
            "94/94 [==============================] - 0s 2ms/step\n",
            "300/300 [==============================] - 2s 5ms/step - loss: 0.1717 - accuracy: 0.6900 - val_loss: 0.0200 - val_accuracy: 0.9754\n",
            "94/94 [==============================] - 0s 2ms/step\n",
            "300/300 [==============================] - 2s 5ms/step - loss: 0.1787 - accuracy: 0.6733 - val_loss: 0.0213 - val_accuracy: 0.9726\n",
            "94/94 [==============================] - 0s 2ms/step\n",
            "300/300 [==============================] - 2s 5ms/step - loss: 0.1678 - accuracy: 0.6995 - val_loss: 0.0258 - val_accuracy: 0.9628\n",
            "94/94 [==============================] - 0s 2ms/step\n",
            "300/300 [==============================] - 2s 5ms/step - loss: 0.2106 - accuracy: 0.5872 - val_loss: 0.0221 - val_accuracy: 0.9720\n",
            "94/94 [==============================] - 0s 2ms/step\n",
            "300/300 [==============================] - 2s 5ms/step - loss: 0.2058 - accuracy: 0.6027 - val_loss: 0.0232 - val_accuracy: 0.9705\n",
            "94/94 [==============================] - 0s 2ms/step\n",
            "300/300 [==============================] - 2s 5ms/step - loss: 0.2182 - accuracy: 0.5713 - val_loss: 0.0222 - val_accuracy: 0.9727\n",
            "94/94 [==============================] - 0s 2ms/step\n",
            "300/300 [==============================] - 2s 5ms/step - loss: 0.2198 - accuracy: 0.5634 - val_loss: 0.0220 - val_accuracy: 0.9726\n",
            "94/94 [==============================] - 0s 2ms/step\n",
            "300/300 [==============================] - 2s 5ms/step - loss: 0.2268 - accuracy: 0.5474 - val_loss: 0.0285 - val_accuracy: 0.9621\n",
            "94/94 [==============================] - 0s 2ms/step\n",
            "300/300 [==============================] - 2s 4ms/step - loss: 0.5212 - accuracy: 0.1065 - val_loss: 0.3218 - val_accuracy: 0.2549\n",
            "94/94 [==============================] - 0s 2ms/step\n",
            "300/300 [==============================] - 2s 4ms/step - loss: 0.5418 - accuracy: 0.0993 - val_loss: 0.3200 - val_accuracy: 0.3183\n",
            "94/94 [==============================] - 0s 2ms/step\n",
            "300/300 [==============================] - 2s 4ms/step - loss: 0.4881 - accuracy: 0.1051 - val_loss: 0.3230 - val_accuracy: 0.1791\n",
            "94/94 [==============================] - 0s 2ms/step\n",
            "300/300 [==============================] - 2s 4ms/step - loss: 0.5244 - accuracy: 0.1037 - val_loss: 0.3243 - val_accuracy: 0.1314\n",
            "94/94 [==============================] - 0s 2ms/step\n",
            "300/300 [==============================] - 2s 4ms/step - loss: 0.5392 - accuracy: 0.1078 - val_loss: 0.3169 - val_accuracy: 0.3080\n",
            "94/94 [==============================] - 0s 2ms/step\n",
            "1200/1200 [==============================] - 5s 4ms/step - loss: 0.1086 - accuracy: 0.8168 - val_loss: 0.0121 - val_accuracy: 0.9830\n",
            "375/375 [==============================] - 1s 2ms/step\n",
            "1200/1200 [==============================] - 5s 4ms/step - loss: 0.1067 - accuracy: 0.8285 - val_loss: 0.0129 - val_accuracy: 0.9817\n",
            "375/375 [==============================] - 1s 1ms/step\n",
            "1200/1200 [==============================] - 5s 4ms/step - loss: 0.0965 - accuracy: 0.8461 - val_loss: 0.0126 - val_accuracy: 0.9825\n",
            "375/375 [==============================] - 1s 1ms/step\n",
            "1200/1200 [==============================] - 5s 4ms/step - loss: 0.0974 - accuracy: 0.8441 - val_loss: 0.0157 - val_accuracy: 0.9764\n",
            "375/375 [==============================] - 1s 2ms/step\n",
            "1200/1200 [==============================] - 5s 4ms/step - loss: 0.0961 - accuracy: 0.8416 - val_loss: 0.0162 - val_accuracy: 0.9751\n",
            "375/375 [==============================] - 1s 2ms/step\n",
            "1200/1200 [==============================] - 5s 3ms/step - loss: 0.1457 - accuracy: 0.7693 - val_loss: 0.0173 - val_accuracy: 0.9777\n",
            "375/375 [==============================] - 1s 1ms/step\n",
            "1200/1200 [==============================] - 5s 3ms/step - loss: 0.1372 - accuracy: 0.7734 - val_loss: 0.0176 - val_accuracy: 0.9767\n",
            "375/375 [==============================] - 1s 2ms/step\n",
            "1200/1200 [==============================] - 5s 3ms/step - loss: 0.1325 - accuracy: 0.7802 - val_loss: 0.0153 - val_accuracy: 0.9806\n",
            "375/375 [==============================] - 1s 2ms/step\n",
            "1200/1200 [==============================] - 5s 3ms/step - loss: 0.1415 - accuracy: 0.7578 - val_loss: 0.0150 - val_accuracy: 0.9827\n",
            "375/375 [==============================] - 1s 1ms/step\n",
            "1200/1200 [==============================] - 5s 3ms/step - loss: 0.1376 - accuracy: 0.7719 - val_loss: 0.0186 - val_accuracy: 0.9756\n",
            "375/375 [==============================] - 1s 2ms/step\n",
            "1200/1200 [==============================] - 4s 3ms/step - loss: 0.4191 - accuracy: 0.2096 - val_loss: 0.2966 - val_accuracy: 0.6106\n",
            "375/375 [==============================] - 1s 2ms/step\n",
            "1200/1200 [==============================] - 4s 3ms/step - loss: 0.3825 - accuracy: 0.2577 - val_loss: 0.2526 - val_accuracy: 0.6313\n",
            "375/375 [==============================] - 1s 1ms/step\n",
            "1200/1200 [==============================] - 4s 3ms/step - loss: 0.3984 - accuracy: 0.2118 - val_loss: 0.2869 - val_accuracy: 0.5628\n",
            "375/375 [==============================] - 1s 1ms/step\n",
            "1200/1200 [==============================] - 4s 3ms/step - loss: 0.3695 - accuracy: 0.2988 - val_loss: 0.2418 - val_accuracy: 0.7154\n",
            "375/375 [==============================] - 1s 2ms/step\n",
            "1200/1200 [==============================] - 4s 3ms/step - loss: 0.4100 - accuracy: 0.2033 - val_loss: 0.2924 - val_accuracy: 0.5059\n",
            "375/375 [==============================] - 1s 2ms/step\n",
            "1200/1200 [==============================] - 6s 4ms/step - loss: 0.1051 - accuracy: 0.8293 - val_loss: 0.0114 - val_accuracy: 0.9833\n",
            "375/375 [==============================] - 1s 1ms/step\n",
            "1200/1200 [==============================] - 5s 4ms/step - loss: 0.1098 - accuracy: 0.8176 - val_loss: 0.0140 - val_accuracy: 0.9801\n",
            "375/375 [==============================] - 1s 2ms/step\n",
            "1200/1200 [==============================] - 5s 4ms/step - loss: 0.1016 - accuracy: 0.8364 - val_loss: 0.0138 - val_accuracy: 0.9800\n",
            "375/375 [==============================] - 1s 2ms/step\n",
            "1200/1200 [==============================] - 5s 4ms/step - loss: 0.1038 - accuracy: 0.8306 - val_loss: 0.0138 - val_accuracy: 0.9795\n",
            "375/375 [==============================] - 1s 2ms/step\n",
            "1200/1200 [==============================] - 5s 4ms/step - loss: 0.1006 - accuracy: 0.8364 - val_loss: 0.0136 - val_accuracy: 0.9802\n",
            "375/375 [==============================] - 1s 2ms/step\n",
            "1200/1200 [==============================] - 5s 3ms/step - loss: 0.1384 - accuracy: 0.7506 - val_loss: 0.0143 - val_accuracy: 0.9822\n",
            "375/375 [==============================] - 1s 2ms/step\n",
            "1200/1200 [==============================] - 5s 4ms/step - loss: 0.1370 - accuracy: 0.7532 - val_loss: 0.0145 - val_accuracy: 0.9825\n",
            "375/375 [==============================] - 1s 1ms/step\n",
            "1200/1200 [==============================] - 5s 3ms/step - loss: 0.1333 - accuracy: 0.7702 - val_loss: 0.0145 - val_accuracy: 0.9810\n",
            "375/375 [==============================] - 1s 2ms/step\n",
            "1200/1200 [==============================] - 5s 3ms/step - loss: 0.1448 - accuracy: 0.7418 - val_loss: 0.0148 - val_accuracy: 0.9809\n",
            "375/375 [==============================] - 1s 1ms/step\n",
            "1200/1200 [==============================] - 5s 4ms/step - loss: 0.1426 - accuracy: 0.7471 - val_loss: 0.0169 - val_accuracy: 0.9754\n",
            "375/375 [==============================] - 1s 2ms/step\n",
            "1200/1200 [==============================] - 4s 3ms/step - loss: 0.4202 - accuracy: 0.1442 - val_loss: 0.2957 - val_accuracy: 0.5794\n",
            "375/375 [==============================] - 1s 2ms/step\n",
            "1200/1200 [==============================] - 4s 3ms/step - loss: 0.3998 - accuracy: 0.1363 - val_loss: 0.2998 - val_accuracy: 0.5119\n",
            "375/375 [==============================] - 1s 2ms/step\n",
            "1200/1200 [==============================] - 4s 3ms/step - loss: 0.4107 - accuracy: 0.1356 - val_loss: 0.2977 - val_accuracy: 0.5417\n",
            "375/375 [==============================] - 1s 2ms/step\n",
            "1200/1200 [==============================] - 4s 3ms/step - loss: 0.3912 - accuracy: 0.1547 - val_loss: 0.2879 - val_accuracy: 0.6438\n",
            "375/375 [==============================] - 1s 2ms/step\n",
            "1200/1200 [==============================] - 4s 3ms/step - loss: 0.4250 - accuracy: 0.1293 - val_loss: 0.3023 - val_accuracy: 0.6021\n",
            "375/375 [==============================] - 1s 1ms/step\n",
            "1200/1200 [==============================] - 5s 4ms/step - loss: 0.1197 - accuracy: 0.7973 - val_loss: 0.0131 - val_accuracy: 0.9807\n",
            "375/375 [==============================] - 1s 1ms/step\n",
            "1200/1200 [==============================] - 5s 4ms/step - loss: 0.1157 - accuracy: 0.8030 - val_loss: 0.0131 - val_accuracy: 0.9801\n",
            "375/375 [==============================] - 1s 2ms/step\n",
            "1200/1200 [==============================] - 5s 4ms/step - loss: 0.1158 - accuracy: 0.8034 - val_loss: 0.0125 - val_accuracy: 0.9824\n",
            "375/375 [==============================] - 1s 1ms/step\n",
            "1200/1200 [==============================] - 5s 4ms/step - loss: 0.1152 - accuracy: 0.7994 - val_loss: 0.0131 - val_accuracy: 0.9806\n",
            "375/375 [==============================] - 1s 1ms/step\n",
            "1200/1200 [==============================] - 5s 4ms/step - loss: 0.1199 - accuracy: 0.8014 - val_loss: 0.0161 - val_accuracy: 0.9745\n",
            "375/375 [==============================] - 1s 2ms/step\n",
            "1200/1200 [==============================] - 5s 3ms/step - loss: 0.1538 - accuracy: 0.7160 - val_loss: 0.0136 - val_accuracy: 0.9832\n",
            "375/375 [==============================] - 1s 2ms/step\n",
            "1200/1200 [==============================] - 5s 3ms/step - loss: 0.1446 - accuracy: 0.7322 - val_loss: 0.0152 - val_accuracy: 0.9799\n",
            "375/375 [==============================] - 1s 2ms/step\n",
            "1200/1200 [==============================] - 5s 4ms/step - loss: 0.1452 - accuracy: 0.7352 - val_loss: 0.0139 - val_accuracy: 0.9827\n",
            "375/375 [==============================] - 1s 2ms/step\n",
            "1200/1200 [==============================] - 5s 4ms/step - loss: 0.1466 - accuracy: 0.7330 - val_loss: 0.0169 - val_accuracy: 0.9764\n",
            "375/375 [==============================] - 1s 2ms/step\n",
            "1200/1200 [==============================] - 5s 3ms/step - loss: 0.1508 - accuracy: 0.7261 - val_loss: 0.0186 - val_accuracy: 0.9721\n",
            "375/375 [==============================] - 1s 2ms/step\n",
            "1200/1200 [==============================] - 4s 3ms/step - loss: 0.3960 - accuracy: 0.1198 - val_loss: 0.3073 - val_accuracy: 0.5611\n",
            "375/375 [==============================] - 1s 2ms/step\n",
            "1200/1200 [==============================] - 5s 4ms/step - loss: 0.4034 - accuracy: 0.1237 - val_loss: 0.2966 - val_accuracy: 0.6216\n",
            "375/375 [==============================] - 1s 2ms/step\n",
            "1200/1200 [==============================] - 4s 3ms/step - loss: 0.4348 - accuracy: 0.1214 - val_loss: 0.3101 - val_accuracy: 0.4480\n",
            "375/375 [==============================] - 1s 1ms/step\n",
            "1200/1200 [==============================] - 5s 4ms/step - loss: 0.4248 - accuracy: 0.1298 - val_loss: 0.2980 - val_accuracy: 0.5109\n",
            "375/375 [==============================] - 1s 2ms/step\n",
            "1200/1200 [==============================] - 4s 3ms/step - loss: 0.4079 - accuracy: 0.1343 - val_loss: 0.2984 - val_accuracy: 0.5221\n",
            "375/375 [==============================] - 1s 2ms/step\n",
            "600/600 [==============================] - 3s 4ms/step - loss: 0.1339 - accuracy: 0.7803 - val_loss: 0.0154 - val_accuracy: 0.9814\n",
            "188/188 [==============================] - 0s 2ms/step\n",
            "600/600 [==============================] - 3s 4ms/step - loss: 0.1374 - accuracy: 0.7689 - val_loss: 0.0158 - val_accuracy: 0.9789\n",
            "188/188 [==============================] - 0s 2ms/step\n",
            "600/600 [==============================] - 3s 4ms/step - loss: 0.1310 - accuracy: 0.7817 - val_loss: 0.0235 - val_accuracy: 0.9646\n",
            "188/188 [==============================] - 0s 2ms/step\n",
            "600/600 [==============================] - 3s 4ms/step - loss: 0.1355 - accuracy: 0.7763 - val_loss: 0.0166 - val_accuracy: 0.9774\n",
            "188/188 [==============================] - 0s 2ms/step\n",
            "600/600 [==============================] - 3s 4ms/step - loss: 0.1359 - accuracy: 0.7787 - val_loss: 0.0201 - val_accuracy: 0.9714\n",
            "188/188 [==============================] - 0s 2ms/step\n",
            "600/600 [==============================] - 3s 4ms/step - loss: 0.1890 - accuracy: 0.6795 - val_loss: 0.0227 - val_accuracy: 0.9753\n",
            "188/188 [==============================] - 0s 2ms/step\n",
            "600/600 [==============================] - 3s 4ms/step - loss: 0.1932 - accuracy: 0.6850 - val_loss: 0.0250 - val_accuracy: 0.9749\n",
            "188/188 [==============================] - 0s 2ms/step\n",
            "600/600 [==============================] - 3s 4ms/step - loss: 0.1709 - accuracy: 0.7106 - val_loss: 0.0210 - val_accuracy: 0.9781\n",
            "188/188 [==============================] - 0s 2ms/step\n",
            "600/600 [==============================] - 3s 4ms/step - loss: 0.1770 - accuracy: 0.6987 - val_loss: 0.0262 - val_accuracy: 0.9723\n",
            "188/188 [==============================] - 0s 2ms/step\n",
            "600/600 [==============================] - 3s 4ms/step - loss: 0.1909 - accuracy: 0.6728 - val_loss: 0.0256 - val_accuracy: 0.9701\n",
            "188/188 [==============================] - 0s 2ms/step\n",
            "600/600 [==============================] - 2s 4ms/step - loss: 0.4550 - accuracy: 0.1579 - val_loss: 0.3132 - val_accuracy: 0.3413\n",
            "188/188 [==============================] - 0s 2ms/step\n",
            "600/600 [==============================] - 2s 4ms/step - loss: 0.4385 - accuracy: 0.1220 - val_loss: 0.3092 - val_accuracy: 0.4094\n",
            "188/188 [==============================] - 0s 2ms/step\n",
            "600/600 [==============================] - 3s 4ms/step - loss: 0.4805 - accuracy: 0.1349 - val_loss: 0.3150 - val_accuracy: 0.4208\n",
            "188/188 [==============================] - 0s 2ms/step\n",
            "600/600 [==============================] - 3s 4ms/step - loss: 0.4480 - accuracy: 0.1456 - val_loss: 0.3098 - val_accuracy: 0.4584\n",
            "188/188 [==============================] - 0s 2ms/step\n",
            "600/600 [==============================] - 2s 4ms/step - loss: 0.4760 - accuracy: 0.1124 - val_loss: 0.3159 - val_accuracy: 0.3450\n",
            "188/188 [==============================] - 0s 2ms/step\n",
            "600/600 [==============================] - 3s 4ms/step - loss: 0.1379 - accuracy: 0.7734 - val_loss: 0.0189 - val_accuracy: 0.9734\n",
            "188/188 [==============================] - 0s 2ms/step\n",
            "600/600 [==============================] - 3s 4ms/step - loss: 0.1389 - accuracy: 0.7641 - val_loss: 0.0170 - val_accuracy: 0.9772\n",
            "188/188 [==============================] - 0s 2ms/step\n",
            "600/600 [==============================] - 3s 4ms/step - loss: 0.1351 - accuracy: 0.7776 - val_loss: 0.0149 - val_accuracy: 0.9810\n",
            "188/188 [==============================] - 0s 2ms/step\n",
            "600/600 [==============================] - 3s 4ms/step - loss: 0.1400 - accuracy: 0.7621 - val_loss: 0.0151 - val_accuracy: 0.9806\n",
            "188/188 [==============================] - 0s 2ms/step\n",
            "600/600 [==============================] - 3s 4ms/step - loss: 0.1368 - accuracy: 0.7698 - val_loss: 0.0175 - val_accuracy: 0.9752\n",
            "188/188 [==============================] - 0s 2ms/step\n",
            "600/600 [==============================] - 3s 4ms/step - loss: 0.1878 - accuracy: 0.6519 - val_loss: 0.0199 - val_accuracy: 0.9780\n",
            "188/188 [==============================] - 0s 2ms/step\n",
            "600/600 [==============================] - 3s 4ms/step - loss: 0.1828 - accuracy: 0.6631 - val_loss: 0.0195 - val_accuracy: 0.9779\n",
            "188/188 [==============================] - 0s 2ms/step\n",
            "600/600 [==============================] - 3s 4ms/step - loss: 0.1893 - accuracy: 0.6479 - val_loss: 0.0199 - val_accuracy: 0.9776\n",
            "188/188 [==============================] - 0s 2ms/step\n",
            "600/600 [==============================] - 3s 4ms/step - loss: 0.1813 - accuracy: 0.6717 - val_loss: 0.0205 - val_accuracy: 0.9765\n",
            "188/188 [==============================] - 0s 2ms/step\n",
            "600/600 [==============================] - 3s 4ms/step - loss: 0.1702 - accuracy: 0.6898 - val_loss: 0.0207 - val_accuracy: 0.9746\n",
            "188/188 [==============================] - 0s 2ms/step\n",
            "600/600 [==============================] - 2s 4ms/step - loss: 0.4463 - accuracy: 0.1002 - val_loss: 0.3136 - val_accuracy: 0.3916\n",
            "188/188 [==============================] - 0s 2ms/step\n",
            "600/600 [==============================] - 2s 4ms/step - loss: 0.5118 - accuracy: 0.1284 - val_loss: 0.3120 - val_accuracy: 0.3827\n",
            "188/188 [==============================] - 0s 2ms/step\n",
            "600/600 [==============================] - 3s 4ms/step - loss: 0.4854 - accuracy: 0.1068 - val_loss: 0.3179 - val_accuracy: 0.2764\n",
            "188/188 [==============================] - 0s 2ms/step\n",
            "600/600 [==============================] - 2s 4ms/step - loss: 0.4772 - accuracy: 0.1075 - val_loss: 0.3183 - val_accuracy: 0.3117\n",
            "188/188 [==============================] - 0s 2ms/step\n",
            "600/600 [==============================] - 3s 4ms/step - loss: 0.4877 - accuracy: 0.1288 - val_loss: 0.3146 - val_accuracy: 0.3330\n",
            "188/188 [==============================] - 0s 2ms/step\n",
            "600/600 [==============================] - 3s 4ms/step - loss: 0.1442 - accuracy: 0.7542 - val_loss: 0.0173 - val_accuracy: 0.9760\n",
            "188/188 [==============================] - 0s 2ms/step\n",
            "600/600 [==============================] - 3s 4ms/step - loss: 0.1455 - accuracy: 0.7482 - val_loss: 0.0178 - val_accuracy: 0.9759\n",
            "188/188 [==============================] - 0s 2ms/step\n",
            "600/600 [==============================] - 3s 4ms/step - loss: 0.1428 - accuracy: 0.7627 - val_loss: 0.0165 - val_accuracy: 0.9780\n",
            "188/188 [==============================] - 0s 2ms/step\n",
            "600/600 [==============================] - 3s 4ms/step - loss: 0.1453 - accuracy: 0.7470 - val_loss: 0.0155 - val_accuracy: 0.9794\n",
            "188/188 [==============================] - 0s 2ms/step\n",
            "600/600 [==============================] - 3s 4ms/step - loss: 0.1419 - accuracy: 0.7582 - val_loss: 0.0211 - val_accuracy: 0.9684\n",
            "188/188 [==============================] - 0s 2ms/step\n",
            "600/600 [==============================] - 3s 4ms/step - loss: 0.1909 - accuracy: 0.6343 - val_loss: 0.0206 - val_accuracy: 0.9752\n",
            "188/188 [==============================] - 0s 2ms/step\n",
            "600/600 [==============================] - 3s 4ms/step - loss: 0.1876 - accuracy: 0.6485 - val_loss: 0.0193 - val_accuracy: 0.9785\n",
            "188/188 [==============================] - 0s 2ms/step\n",
            "600/600 [==============================] - 3s 4ms/step - loss: 0.1966 - accuracy: 0.6266 - val_loss: 0.0198 - val_accuracy: 0.9768\n",
            "188/188 [==============================] - 0s 2ms/step\n",
            "600/600 [==============================] - 3s 4ms/step - loss: 0.1900 - accuracy: 0.6419 - val_loss: 0.0198 - val_accuracy: 0.9759\n",
            "188/188 [==============================] - 0s 2ms/step\n",
            "600/600 [==============================] - 3s 4ms/step - loss: 0.1817 - accuracy: 0.6619 - val_loss: 0.0244 - val_accuracy: 0.9676\n",
            "188/188 [==============================] - 0s 2ms/step\n",
            "600/600 [==============================] - 2s 4ms/step - loss: 0.4626 - accuracy: 0.1205 - val_loss: 0.3123 - val_accuracy: 0.4905\n",
            "188/188 [==============================] - 0s 2ms/step\n",
            "600/600 [==============================] - 2s 4ms/step - loss: 0.4745 - accuracy: 0.1074 - val_loss: 0.3151 - val_accuracy: 0.2727\n",
            "188/188 [==============================] - 0s 2ms/step\n",
            "600/600 [==============================] - 3s 4ms/step - loss: 0.4663 - accuracy: 0.1054 - val_loss: 0.3164 - val_accuracy: 0.2960\n",
            "188/188 [==============================] - 0s 1ms/step\n",
            "600/600 [==============================] - 2s 4ms/step - loss: 0.4671 - accuracy: 0.1204 - val_loss: 0.3170 - val_accuracy: 0.4053\n",
            "188/188 [==============================] - 0s 2ms/step\n",
            "600/600 [==============================] - 2s 4ms/step - loss: 0.4850 - accuracy: 0.1095 - val_loss: 0.3176 - val_accuracy: 0.2359\n",
            "188/188 [==============================] - 0s 2ms/step\n",
            "300/300 [==============================] - 2s 5ms/step - loss: 0.1755 - accuracy: 0.7062 - val_loss: 0.0265 - val_accuracy: 0.9688\n",
            "94/94 [==============================] - 0s 2ms/step\n",
            "300/300 [==============================] - 2s 5ms/step - loss: 0.1829 - accuracy: 0.6841 - val_loss: 0.0284 - val_accuracy: 0.9674\n",
            "94/94 [==============================] - 0s 2ms/step\n",
            "300/300 [==============================] - 2s 5ms/step - loss: 0.1710 - accuracy: 0.7149 - val_loss: 0.0243 - val_accuracy: 0.9725\n",
            "94/94 [==============================] - 0s 2ms/step\n",
            "300/300 [==============================] - 2s 5ms/step - loss: 0.1757 - accuracy: 0.7087 - val_loss: 0.0243 - val_accuracy: 0.9735\n",
            "94/94 [==============================] - 0s 2ms/step\n",
            "300/300 [==============================] - 2s 5ms/step - loss: 0.1793 - accuracy: 0.6938 - val_loss: 0.0274 - val_accuracy: 0.9667\n",
            "94/94 [==============================] - 0s 2ms/step\n",
            "300/300 [==============================] - 2s 5ms/step - loss: 0.2476 - accuracy: 0.5693 - val_loss: 0.0503 - val_accuracy: 0.9640\n",
            "94/94 [==============================] - 0s 2ms/step\n",
            "300/300 [==============================] - 2s 5ms/step - loss: 0.2297 - accuracy: 0.6024 - val_loss: 0.0446 - val_accuracy: 0.9641\n",
            "94/94 [==============================] - 0s 2ms/step\n",
            "300/300 [==============================] - 2s 5ms/step - loss: 0.2475 - accuracy: 0.5683 - val_loss: 0.0473 - val_accuracy: 0.9632\n",
            "94/94 [==============================] - 0s 2ms/step\n",
            "300/300 [==============================] - 2s 5ms/step - loss: 0.2342 - accuracy: 0.5975 - val_loss: 0.0440 - val_accuracy: 0.9627\n",
            "94/94 [==============================] - 0s 2ms/step\n",
            "300/300 [==============================] - 2s 5ms/step - loss: 0.2300 - accuracy: 0.5677 - val_loss: 0.0395 - val_accuracy: 0.9600\n",
            "94/94 [==============================] - 0s 2ms/step\n",
            "300/300 [==============================] - 2s 4ms/step - loss: 0.5088 - accuracy: 0.1176 - val_loss: 0.3192 - val_accuracy: 0.3056\n",
            "94/94 [==============================] - 0s 2ms/step\n",
            "300/300 [==============================] - 2s 5ms/step - loss: 0.5182 - accuracy: 0.1115 - val_loss: 0.3213 - val_accuracy: 0.1975\n",
            "94/94 [==============================] - 0s 2ms/step\n",
            "300/300 [==============================] - 2s 5ms/step - loss: 0.5489 - accuracy: 0.0952 - val_loss: 0.3228 - val_accuracy: 0.1299\n",
            "94/94 [==============================] - 0s 2ms/step\n",
            "300/300 [==============================] - 2s 5ms/step - loss: 0.4980 - accuracy: 0.1666 - val_loss: 0.3175 - val_accuracy: 0.3332\n",
            "94/94 [==============================] - 0s 2ms/step\n",
            "300/300 [==============================] - 2s 5ms/step - loss: 0.4878 - accuracy: 0.1228 - val_loss: 0.3180 - val_accuracy: 0.2330\n",
            "94/94 [==============================] - 0s 2ms/step\n",
            "300/300 [==============================] - 2s 5ms/step - loss: 0.1798 - accuracy: 0.6927 - val_loss: 0.0231 - val_accuracy: 0.9702\n",
            "94/94 [==============================] - 0s 2ms/step\n",
            "300/300 [==============================] - 2s 6ms/step - loss: 0.1802 - accuracy: 0.6945 - val_loss: 0.0231 - val_accuracy: 0.9748\n",
            "94/94 [==============================] - 0s 2ms/step\n",
            "300/300 [==============================] - 2s 5ms/step - loss: 0.1783 - accuracy: 0.6935 - val_loss: 0.0256 - val_accuracy: 0.9676\n",
            "94/94 [==============================] - 0s 2ms/step\n",
            "300/300 [==============================] - 2s 5ms/step - loss: 0.1758 - accuracy: 0.7050 - val_loss: 0.0231 - val_accuracy: 0.9721\n",
            "94/94 [==============================] - 0s 2ms/step\n",
            "300/300 [==============================] - 2s 5ms/step - loss: 0.1802 - accuracy: 0.6826 - val_loss: 0.0273 - val_accuracy: 0.9630\n",
            "94/94 [==============================] - 0s 2ms/step\n",
            "300/300 [==============================] - 2s 5ms/step - loss: 0.2482 - accuracy: 0.5302 - val_loss: 0.0401 - val_accuracy: 0.9575\n",
            "94/94 [==============================] - 0s 2ms/step\n",
            "300/300 [==============================] - 2s 5ms/step - loss: 0.2332 - accuracy: 0.5423 - val_loss: 0.0326 - val_accuracy: 0.9680\n",
            "94/94 [==============================] - 0s 2ms/step\n",
            "300/300 [==============================] - 2s 5ms/step - loss: 0.2524 - accuracy: 0.5039 - val_loss: 0.0362 - val_accuracy: 0.9622\n",
            "94/94 [==============================] - 0s 2ms/step\n",
            "300/300 [==============================] - 2s 5ms/step - loss: 0.2447 - accuracy: 0.5349 - val_loss: 0.0338 - val_accuracy: 0.9714\n",
            "94/94 [==============================] - 0s 2ms/step\n",
            "300/300 [==============================] - 2s 5ms/step - loss: 0.2390 - accuracy: 0.5372 - val_loss: 0.0368 - val_accuracy: 0.9572\n",
            "94/94 [==============================] - 0s 2ms/step\n",
            "300/300 [==============================] - 2s 5ms/step - loss: 0.5609 - accuracy: 0.1019 - val_loss: 0.3225 - val_accuracy: 0.2026\n",
            "94/94 [==============================] - 0s 2ms/step\n",
            "300/300 [==============================] - 2s 5ms/step - loss: 0.5261 - accuracy: 0.1087 - val_loss: 0.3235 - val_accuracy: 0.2136\n",
            "94/94 [==============================] - 0s 2ms/step\n",
            "300/300 [==============================] - 2s 5ms/step - loss: 0.5436 - accuracy: 0.1182 - val_loss: 0.3198 - val_accuracy: 0.2760\n",
            "94/94 [==============================] - 0s 2ms/step\n",
            "300/300 [==============================] - 2s 4ms/step - loss: 0.5415 - accuracy: 0.0775 - val_loss: 0.3212 - val_accuracy: 0.1736\n",
            "94/94 [==============================] - 0s 2ms/step\n",
            "300/300 [==============================] - 2s 5ms/step - loss: 0.4928 - accuracy: 0.1035 - val_loss: 0.3183 - val_accuracy: 0.2149\n",
            "94/94 [==============================] - 0s 2ms/step\n",
            "300/300 [==============================] - 2s 5ms/step - loss: 0.1893 - accuracy: 0.6630 - val_loss: 0.0228 - val_accuracy: 0.9716\n",
            "94/94 [==============================] - 0s 2ms/step\n",
            "300/300 [==============================] - 2s 6ms/step - loss: 0.1821 - accuracy: 0.6905 - val_loss: 0.0228 - val_accuracy: 0.9729\n",
            "94/94 [==============================] - 0s 2ms/step\n",
            "300/300 [==============================] - 2s 5ms/step - loss: 0.1828 - accuracy: 0.6833 - val_loss: 0.0223 - val_accuracy: 0.9753\n",
            "94/94 [==============================] - 0s 2ms/step\n",
            "300/300 [==============================] - 2s 5ms/step - loss: 0.1843 - accuracy: 0.6785 - val_loss: 0.0229 - val_accuracy: 0.9705\n",
            "94/94 [==============================] - 0s 2ms/step\n",
            "300/300 [==============================] - 2s 5ms/step - loss: 0.1842 - accuracy: 0.6740 - val_loss: 0.0262 - val_accuracy: 0.9667\n",
            "94/94 [==============================] - 0s 2ms/step\n",
            "300/300 [==============================] - 2s 5ms/step - loss: 0.2466 - accuracy: 0.5070 - val_loss: 0.0321 - val_accuracy: 0.9676\n",
            "94/94 [==============================] - 0s 2ms/step\n",
            "300/300 [==============================] - 2s 5ms/step - loss: 0.2525 - accuracy: 0.4981 - val_loss: 0.0326 - val_accuracy: 0.9669\n",
            "94/94 [==============================] - 0s 2ms/step\n",
            "300/300 [==============================] - 2s 5ms/step - loss: 0.2581 - accuracy: 0.4860 - val_loss: 0.0337 - val_accuracy: 0.9642\n",
            "94/94 [==============================] - 0s 2ms/step\n",
            "300/300 [==============================] - 2s 5ms/step - loss: 0.2479 - accuracy: 0.5027 - val_loss: 0.0352 - val_accuracy: 0.9656\n",
            "94/94 [==============================] - 0s 2ms/step\n",
            "300/300 [==============================] - 2s 5ms/step - loss: 0.2643 - accuracy: 0.4649 - val_loss: 0.0358 - val_accuracy: 0.9625\n",
            "94/94 [==============================] - 0s 2ms/step\n",
            "300/300 [==============================] - 2s 5ms/step - loss: 0.5835 - accuracy: 0.0881 - val_loss: 0.3249 - val_accuracy: 0.2015\n",
            "94/94 [==============================] - 0s 2ms/step\n",
            "300/300 [==============================] - 2s 5ms/step - loss: 0.5378 - accuracy: 0.0909 - val_loss: 0.3219 - val_accuracy: 0.1882\n",
            "94/94 [==============================] - 0s 2ms/step\n",
            "300/300 [==============================] - 2s 4ms/step - loss: 0.5538 - accuracy: 0.1148 - val_loss: 0.3217 - val_accuracy: 0.1719\n",
            "94/94 [==============================] - 0s 2ms/step\n",
            "300/300 [==============================] - 2s 5ms/step - loss: 0.5002 - accuracy: 0.1084 - val_loss: 0.3173 - val_accuracy: 0.2947\n",
            "94/94 [==============================] - 0s 2ms/step\n",
            "300/300 [==============================] - 2s 5ms/step - loss: 0.5439 - accuracy: 0.0983 - val_loss: 0.3265 - val_accuracy: 0.1644\n",
            "94/94 [==============================] - 0s 2ms/step\n",
            "1500/1500 [==============================] - 6s 4ms/step - loss: 0.0746 - accuracy: 0.8757 - val_loss: 0.0142 - val_accuracy: 0.9818\n"
          ],
          "name": "stdout"
        },
        {
          "output_type": "execute_result",
          "data": {
            "text/plain": [
              "GridSearchCV(cv=None, error_score=nan,\n",
              "             estimator=<tensorflow.python.keras.wrappers.scikit_learn.KerasClassifier object at 0x7fd82f39ef90>,\n",
              "             iid='deprecated', n_jobs=None,\n",
              "             param_grid={'activation': ['relu', 'linear', 'tanh'],\n",
              "                         'batch_size': [32, 64, 128],\n",
              "                         'dropout_rate': [0, 0.25, 0.5],\n",
              "                         'optimizer': ['rmsprop', 'adam', 'sgd']},\n",
              "             pre_dispatch='2*n_jobs', refit=True, return_train_score=False,\n",
              "             scoring=make_scorer(scoring), verbose=0)"
            ]
          },
          "metadata": {
            "tags": []
          },
          "execution_count": 34
        }
      ]
    },
    {
      "cell_type": "code",
      "metadata": {
        "id": "Oni25KKn6IEf",
        "colab": {
          "base_uri": "https://localhost:8080/"
        },
        "outputId": "82d74c82-4c0b-4849-b30f-d6c2e3033b04"
      },
      "source": [
        "clf.best_score_, clf.best_params_"
      ],
      "execution_count": null,
      "outputs": [
        {
          "output_type": "execute_result",
          "data": {
            "text/plain": [
              "(0.9813166666666667,\n",
              " {'activation': 'linear',\n",
              "  'batch_size': 32,\n",
              "  'dropout_rate': 0,\n",
              "  'optimizer': 'rmsprop'})"
            ]
          },
          "metadata": {
            "tags": []
          },
          "execution_count": 35
        }
      ]
    },
    {
      "cell_type": "code",
      "metadata": {
        "id": "x35DxIbU6VI9",
        "colab": {
          "base_uri": "https://localhost:8080/"
        },
        "outputId": "a694f423-fd96-4906-ae16-caa249e46249"
      },
      "source": [
        "clf.score(test_images, test_labels)"
      ],
      "execution_count": null,
      "outputs": [
        {
          "output_type": "stream",
          "text": [
            "109/313 [=========>....................] - ETA: 0s"
          ],
          "name": "stdout"
        },
        {
          "output_type": "stream",
          "text": [
            "/usr/local/lib/python3.7/dist-packages/tensorflow/python/keras/engine/sequential.py:450: UserWarning: `model.predict_classes()` is deprecated and will be removed after 2021-01-01. Please use instead:* `np.argmax(model.predict(x), axis=-1)`,   if your model does multi-class classification   (e.g. if it uses a `softmax` last-layer activation).* `(model.predict(x) > 0.5).astype(\"int32\")`,   if your model does binary classification   (e.g. if it uses a `sigmoid` last-layer activation).\n",
            "  warnings.warn('`model.predict_classes()` is deprecated and '\n"
          ],
          "name": "stderr"
        },
        {
          "output_type": "stream",
          "text": [
            "313/313 [==============================] - 0s 1ms/step\n"
          ],
          "name": "stdout"
        },
        {
          "output_type": "execute_result",
          "data": {
            "text/plain": [
              "0.9847"
            ]
          },
          "metadata": {
            "tags": []
          },
          "execution_count": 37
        }
      ]
    }
  ]
}