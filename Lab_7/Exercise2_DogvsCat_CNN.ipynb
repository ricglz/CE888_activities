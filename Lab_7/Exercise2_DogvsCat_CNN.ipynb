{
  "nbformat": 4,
  "nbformat_minor": 0,
  "metadata": {
    "colab": {
      "name": "Exercise2_DogvsCat_CNN.ipynb",
      "provenance": [],
      "include_colab_link": true
    },
    "kernelspec": {
      "name": "python3",
      "display_name": "Python 3"
    },
    "accelerator": "GPU"
  },
  "cells": [
    {
      "cell_type": "markdown",
      "metadata": {
        "id": "view-in-github",
        "colab_type": "text"
      },
      "source": [
        "<a href=\"https://colab.research.google.com/github/ricglz/CE888_activities/blob/main/Lab_7/Exercise2_DogvsCat_CNN.ipynb\" target=\"_parent\"><img src=\"https://colab.research.google.com/assets/colab-badge.svg\" alt=\"Open In Colab\"/></a>"
      ]
    },
    {
      "cell_type": "markdown",
      "metadata": {
        "id": "qTh9DiKVslsJ"
      },
      "source": [
        "## Dogs vs. Cats \n",
        "\n",
        "In this competition, you'll write an algorithm to classify whether images contain either a dog or a cat.  This is easy for humans, dogs, and cats. Your computer will find it a bit more difficult.\n",
        "\n",
        "![alt text](https://miro.medium.com/max/3000/1*bhFifratH9DjKqMBTeQG5A.gif)\n",
        "\n",
        "Ref: https://medium.com/@thegrigorian/rolling-in-the-deep-cnn-c8d3f7108c8c"
      ]
    },
    {
      "cell_type": "markdown",
      "metadata": {
        "id": "RSBI-_mSSY1g"
      },
      "source": [
        "Get your API Key from Kaggle using following steps:\n",
        "1. Login to [Kaggle](https://www.kaggle.com/) or Register if you don't have account\n",
        "2. Open Dataset (https://www.kaggle.com/c/dogs-vs-cats/rules) and accept terms and condition. \n",
        "3. On the top right corner click on your Icon and go to accounts and press a button \"Create New API Token\". It will download a JSON file containing your username and key. \n",
        "4. Now, paste both below. \n"
      ]
    },
    {
      "cell_type": "code",
      "metadata": {
        "id": "z-fjb5B8KluQ"
      },
      "source": [
        "import os"
      ],
      "execution_count": null,
      "outputs": []
    },
    {
      "cell_type": "code",
      "metadata": {
        "id": "YmXSOc0tZIGA",
        "colab": {
          "base_uri": "https://localhost:8080/"
        },
        "outputId": "ba2e61ef-852e-40f6-adf2-2f3e3a2c8884"
      },
      "source": [
        "!kaggle competitions download -c dogs-vs-cats # api copied from kaggle (https://www.kaggle.com/c/dogs-vs-cats/data)"
      ],
      "execution_count": null,
      "outputs": [
        {
          "output_type": "stream",
          "text": [
            "Warning: Looks like you're using an outdated API Version, please consider updating (server 1.5.10 / client 1.5.4)\n",
            "Downloading test1.zip to /content\n",
            " 94% 255M/271M [00:02<00:00, 123MB/s] \n",
            "100% 271M/271M [00:02<00:00, 118MB/s]\n",
            "Downloading sampleSubmission.csv to /content\n",
            "  0% 0.00/86.8k [00:00<?, ?B/s]\n",
            "100% 86.8k/86.8k [00:00<00:00, 103MB/s]\n",
            "Downloading train.zip to /content\n",
            " 97% 528M/543M [00:04<00:00, 82.5MB/s]\n",
            "100% 543M/543M [00:04<00:00, 132MB/s] \n"
          ],
          "name": "stdout"
        }
      ]
    },
    {
      "cell_type": "code",
      "metadata": {
        "id": "PiwIL8d1n7eS",
        "colab": {
          "base_uri": "https://localhost:8080/"
        },
        "outputId": "94746d2f-61fb-4f0d-f075-613cd396b48f"
      },
      "source": [
        "# Unzip training data\n",
        "from zipfile import ZipFile\n",
        "file_name = \"/content/train.zip\"\n",
        "with ZipFile(file_name, 'r') as zf:\n",
        "  zip.extractall()\n",
        "  print('done')"
      ],
      "execution_count": null,
      "outputs": [
        {
          "output_type": "stream",
          "text": [
            "done\n"
          ],
          "name": "stdout"
        }
      ]
    },
    {
      "cell_type": "code",
      "metadata": {
        "id": "sa2Bj5i7pPKV",
        "colab": {
          "base_uri": "https://localhost:8080/"
        },
        "outputId": "9149f547-14e3-42a6-8e16-9ad98cd7e9f1"
      },
      "source": [
        "# Get all the paths\n",
        "data_dir_list = os.listdir('/content/train')\n",
        "#print(data_dir_list)\n",
        "path, dirs, files = next(os.walk(\"/content/train\"))\n",
        "file_count = len(files)\n",
        "print(file_count)"
      ],
      "execution_count": null,
      "outputs": [
        {
          "output_type": "stream",
          "text": [
            "25000\n"
          ],
          "name": "stdout"
        }
      ]
    },
    {
      "cell_type": "code",
      "metadata": {
        "id": "rmkrIQ3NKx9I"
      },
      "source": [
        "def create_or_keep_dir(new_dir):\n",
        "    if not os.path.exists(new_dir):\n",
        "        os.mkdir(new_dir)\n",
        "    return new_dir"
      ],
      "execution_count": null,
      "outputs": []
    },
    {
      "cell_type": "code",
      "metadata": {
        "id": "0ERlHkfHqpK8"
      },
      "source": [
        "# Make new base directory\n",
        "original_dataset_dir = '/content/train'\n",
        "base_dir = create_or_keep_dir('/content/cats_and_dogs_small')"
      ],
      "execution_count": null,
      "outputs": []
    },
    {
      "cell_type": "code",
      "metadata": {
        "id": "AANB1UJ6rQhM"
      },
      "source": [
        "train_dir = create_or_keep_dir(os.path.join(base_dir, 'train'))\n",
        "validation_dir = create_or_keep_dir(os.path.join(base_dir, 'validation'))\n",
        "test_dir = create_or_keep_dir(os.path.join(base_dir, 'test'))\n",
        "train_cats_dir = create_or_keep_dir(os.path.join(train_dir, 'cats'))\n",
        "train_dogs_dir = create_or_keep_dir(os.path.join(train_dir, 'dogs'))\n",
        "validation_cats_dir = create_or_keep_dir(os.path.join(validation_dir, 'cats'))\n",
        "validation_dogs_dir = create_or_keep_dir(os.path.join(validation_dir, 'dogs'))\n",
        "test_cats_dir = create_or_keep_dir(os.path.join(test_dir, 'cats'))\n",
        "test_dogs_dir = create_or_keep_dir(os.path.join(test_dir, 'dogs'))"
      ],
      "execution_count": null,
      "outputs": []
    },
    {
      "cell_type": "code",
      "metadata": {
        "id": "ULRgL9s9rV8T"
      },
      "source": [
        "import shutil\n",
        "fnames = ['cat.{}.jpg'.format(i) for i in range(1000)]\n",
        "for fname in fnames:\n",
        "    src = os.path.join(original_dataset_dir, fname)\n",
        "    dst = os.path.join(train_cats_dir, fname)\n",
        "    #print(src,dst)\n",
        "    shutil.copyfile(src, dst)\n",
        "    \n",
        "fnames = ['cat.{}.jpg'.format(i) for i in range(1000, 1500)]\n",
        "for fname in fnames:\n",
        "    src = os.path.join(original_dataset_dir, fname)\n",
        "    dst = os.path.join(validation_cats_dir, fname)\n",
        "    shutil.copyfile(src, dst)\n",
        "\n",
        "fnames = ['cat.{}.jpg'.format(i) for i in range(1500, 2000)]\n",
        "for fname in fnames:\n",
        "    src = os.path.join(original_dataset_dir, fname)\n",
        "    dst = os.path.join(test_cats_dir, fname)\n",
        "    shutil.copyfile(src, dst)\n",
        "    \n",
        "fnames = ['dog.{}.jpg'.format(i) for i in range(1000)]\n",
        "for fname in fnames:\n",
        "    src = os.path.join(original_dataset_dir, fname)\n",
        "    dst = os.path.join(train_dogs_dir, fname)\n",
        "    shutil.copyfile(src, dst)\n",
        "\n",
        "fnames = ['dog.{}.jpg'.format(i) for i in range(1000, 1500)]\n",
        "for fname in fnames:\n",
        "    src = os.path.join(original_dataset_dir, fname)\n",
        "    dst = os.path.join(validation_dogs_dir, fname)\n",
        "    shutil.copyfile(src, dst)\n",
        "\n",
        "fnames = ['dog.{}.jpg'.format(i) for i in range(1500, 2000)]\n",
        "for fname in fnames:\n",
        "    src = os.path.join(original_dataset_dir, fname)\n",
        "    dst = os.path.join(test_dogs_dir, fname)\n",
        "    shutil.copyfile(src, dst)"
      ],
      "execution_count": null,
      "outputs": []
    },
    {
      "cell_type": "code",
      "metadata": {
        "id": "ul3XAbIyr7vC",
        "colab": {
          "base_uri": "https://localhost:8080/"
        },
        "outputId": "84838d23-2bbd-4b08-a98e-8c6e9bfd3db5"
      },
      "source": [
        "print('total training cat images:', len(os.listdir(train_cats_dir)))\n",
        "print('total training dog images:', len(os.listdir(train_dogs_dir)))\n",
        "print('total validation cat images:', len(os.listdir(validation_cats_dir)))\n",
        "\n",
        "print('total validation dog images:', len(os.listdir(validation_dogs_dir)))\n",
        "print('total test cat images:', len(os.listdir(test_cats_dir)))\n",
        "print('total test dog images:', len(os.listdir(test_dogs_dir)))"
      ],
      "execution_count": null,
      "outputs": [
        {
          "output_type": "stream",
          "text": [
            "total training cat images: 1000\n",
            "total training dog images: 1000\n",
            "total validation cat images: 500\n",
            "total validation dog images: 500\n",
            "total test cat images: 500\n",
            "total test dog images: 500\n"
          ],
          "name": "stdout"
        }
      ]
    },
    {
      "cell_type": "code",
      "metadata": {
        "id": "o9yTA21_r-ma",
        "colab": {
          "base_uri": "https://localhost:8080/"
        },
        "outputId": "d18c563d-b642-42ff-95e5-a0e8be23eddf"
      },
      "source": [
        "from keras import layers\n",
        "from keras import models\n",
        "\n",
        "model = models.Sequential()\n",
        "model.add(layers.Conv2D(32, (3, 3), activation='relu', input_shape=(150, 150, 3)))\n",
        "model.add(layers.MaxPooling2D((2, 2)))\n",
        "model.add(layers.Conv2D(64, (3, 3), activation='relu'))\n",
        "model.add(layers.MaxPooling2D((2, 2)))\n",
        "model.add(layers.Conv2D(128, (3, 3), activation='relu'))\n",
        "model.add(layers.MaxPooling2D((2, 2)))\n",
        "model.add(layers.Conv2D(128, (3, 3), activation='relu'))\n",
        "model.add(layers.MaxPooling2D((2, 2)))\n",
        "model.add(layers.Flatten())\n",
        "model.add(layers.Dense(512, activation='relu'))\n",
        "model.add(layers.Dense(1, activation='sigmoid'))\n",
        "model.summary()"
      ],
      "execution_count": null,
      "outputs": [
        {
          "output_type": "stream",
          "text": [
            "Model: \"sequential\"\n",
            "_________________________________________________________________\n",
            "Layer (type)                 Output Shape              Param #   \n",
            "=================================================================\n",
            "conv2d (Conv2D)              (None, 148, 148, 32)      896       \n",
            "_________________________________________________________________\n",
            "max_pooling2d (MaxPooling2D) (None, 74, 74, 32)        0         \n",
            "_________________________________________________________________\n",
            "conv2d_1 (Conv2D)            (None, 72, 72, 64)        18496     \n",
            "_________________________________________________________________\n",
            "max_pooling2d_1 (MaxPooling2 (None, 36, 36, 64)        0         \n",
            "_________________________________________________________________\n",
            "conv2d_2 (Conv2D)            (None, 34, 34, 128)       73856     \n",
            "_________________________________________________________________\n",
            "max_pooling2d_2 (MaxPooling2 (None, 17, 17, 128)       0         \n",
            "_________________________________________________________________\n",
            "conv2d_3 (Conv2D)            (None, 15, 15, 128)       147584    \n",
            "_________________________________________________________________\n",
            "max_pooling2d_3 (MaxPooling2 (None, 7, 7, 128)         0         \n",
            "_________________________________________________________________\n",
            "flatten (Flatten)            (None, 6272)              0         \n",
            "_________________________________________________________________\n",
            "dense (Dense)                (None, 512)               3211776   \n",
            "_________________________________________________________________\n",
            "dense_1 (Dense)              (None, 1)                 513       \n",
            "=================================================================\n",
            "Total params: 3,453,121\n",
            "Trainable params: 3,453,121\n",
            "Non-trainable params: 0\n",
            "_________________________________________________________________\n"
          ],
          "name": "stdout"
        }
      ]
    },
    {
      "cell_type": "code",
      "metadata": {
        "id": "2mG8wekxsBVS"
      },
      "source": [
        "from keras import optimizers\n",
        "model.compile(loss='binary_crossentropy', \n",
        "              optimizer=optimizers.RMSprop(lr=1e-4),\n",
        "              metrics=['acc'])"
      ],
      "execution_count": null,
      "outputs": []
    },
    {
      "cell_type": "markdown",
      "metadata": {
        "id": "7zS4Klm8qWp6"
      },
      "source": [
        "## Using ImageDataGenerator to read images from directories\n",
        "As you know by now, data should be formatted into appropriately preprocessed floatingpoint tensors before being fed into the network. Currently, the data sits on a drive as JPEG files, so the steps for getting it into the network are roughly as follows:\n",
        "\n",
        "* Read the picture files.\n",
        "* Decode the JPEG content to RGB grids of pixels.\n",
        "* Convert these into floating-point tensors.\n",
        "* Rescale the pixel values (between 0 and 255) to the [0, 1] interval (as you know, neural networks prefer to deal with small input values).\n",
        "\n",
        "It may seem a bit daunting, but fortunately Keras has utilities to take care of these steps automatically. Keras has a module with image-processing helper tools, located at keras.preprocessing.image. In particular, it contains the class ImageDataGenerator,which lets you quickly set up Python generators that can automatically turn image files on disk into batches of preprocessed tensors."
      ]
    },
    {
      "cell_type": "code",
      "metadata": {
        "id": "XJ7XU7t9sEh6",
        "colab": {
          "base_uri": "https://localhost:8080/"
        },
        "outputId": "756f2a63-7f65-4321-8a55-d273eac2f77f"
      },
      "source": [
        "from keras.preprocessing.image import ImageDataGenerator\n",
        "\n",
        "train_datagen = ImageDataGenerator(rescale=1./255)\n",
        "test_datagen = ImageDataGenerator(rescale=1./255)\n",
        "\n",
        "train_generator = train_datagen.flow_from_directory(train_dir,\n",
        "                                                    target_size=(150, 150), \n",
        "                                                    batch_size=20,\n",
        "                                                    class_mode='binary')\n",
        "\n",
        "validation_generator = test_datagen.flow_from_directory(validation_dir,\n",
        "                                                        target_size=(150, 150),\n",
        "                                                        batch_size=20,\n",
        "                                                        class_mode='binary')"
      ],
      "execution_count": null,
      "outputs": [
        {
          "output_type": "stream",
          "text": [
            "Found 2000 images belonging to 2 classes.\n",
            "Found 1000 images belonging to 2 classes.\n"
          ],
          "name": "stdout"
        }
      ]
    },
    {
      "cell_type": "markdown",
      "metadata": {
        "id": "SEgLywySqm4u"
      },
      "source": [
        "Let’s fit the model to the data using the generator. You do so using the fit_generator method, the equivalent of fit for data generators like this one. It expects as its first argument a Python generator that will yield batches of inputs and targets indefinitely,like this one does. Because the data is being generated endlessly, the Keras model needs to know how many samples to draw from the generator before declaring anepoch over. This is the role of the `steps_per_epoch` argument: after having drawn `steps_per_epoch` batches from the generator—that is, after having run for `steps_per_epoch` gradient descent steps—the fitting process will go to the next epoch. In this case, batches are 20 samples, so it will take 100 batches until you see your target of 2,000 samples.\n",
        "\n",
        "When using fit_generator, you can pass a validation_data argument, much as with the fit method. It’s important to note that this argument is allowed to be a data generator, but it could also be a tuple of Numpy arrays. If you pass a generator as validation_data, then this generator is expected to yield batches of validation data endlessly; thus you should also specify the validation_steps argument, which tells the process how many batches to draw from the validation generator for evaluation."
      ]
    },
    {
      "cell_type": "code",
      "metadata": {
        "id": "yMyfPphJsJG6",
        "colab": {
          "base_uri": "https://localhost:8080/"
        },
        "outputId": "0cacca98-2c6c-4154-a807-2b8e92a04a1c"
      },
      "source": [
        "history = model.fit_generator(train_generator,\n",
        "                              steps_per_epoch=100,\n",
        "                              epochs=30,\n",
        "                              validation_data=validation_generator,\n",
        "                              validation_steps=10)"
      ],
      "execution_count": null,
      "outputs": [
        {
          "output_type": "stream",
          "text": [
            "/usr/local/lib/python3.7/dist-packages/tensorflow/python/keras/engine/training.py:1844: UserWarning: `Model.fit_generator` is deprecated and will be removed in a future version. Please use `Model.fit`, which supports generators.\n",
            "  warnings.warn('`Model.fit_generator` is deprecated and '\n"
          ],
          "name": "stderr"
        },
        {
          "output_type": "stream",
          "text": [
            "Epoch 1/30\n",
            "100/100 [==============================] - 40s 68ms/step - loss: 0.6993 - acc: 0.5176 - val_loss: 0.6753 - val_acc: 0.6100\n",
            "Epoch 2/30\n",
            "100/100 [==============================] - 7s 66ms/step - loss: 0.6613 - acc: 0.6180 - val_loss: 0.6316 - val_acc: 0.6500\n",
            "Epoch 3/30\n",
            "100/100 [==============================] - 7s 66ms/step - loss: 0.6216 - acc: 0.6474 - val_loss: 0.6262 - val_acc: 0.6700\n",
            "Epoch 4/30\n",
            "100/100 [==============================] - 7s 67ms/step - loss: 0.5684 - acc: 0.7063 - val_loss: 0.6328 - val_acc: 0.6350\n",
            "Epoch 5/30\n",
            "100/100 [==============================] - 7s 66ms/step - loss: 0.5449 - acc: 0.7262 - val_loss: 0.5592 - val_acc: 0.7100\n",
            "Epoch 6/30\n",
            "100/100 [==============================] - 7s 67ms/step - loss: 0.4969 - acc: 0.7608 - val_loss: 0.5750 - val_acc: 0.6900\n",
            "Epoch 7/30\n",
            "100/100 [==============================] - 7s 67ms/step - loss: 0.4906 - acc: 0.7415 - val_loss: 0.6943 - val_acc: 0.6100\n",
            "Epoch 8/30\n",
            "100/100 [==============================] - 7s 66ms/step - loss: 0.4603 - acc: 0.7836 - val_loss: 0.5972 - val_acc: 0.6950\n",
            "Epoch 9/30\n",
            "100/100 [==============================] - 7s 66ms/step - loss: 0.4221 - acc: 0.8095 - val_loss: 0.6326 - val_acc: 0.6850\n",
            "Epoch 10/30\n",
            "100/100 [==============================] - 7s 66ms/step - loss: 0.4130 - acc: 0.8099 - val_loss: 0.5744 - val_acc: 0.7050\n",
            "Epoch 11/30\n",
            "100/100 [==============================] - 7s 66ms/step - loss: 0.3828 - acc: 0.8258 - val_loss: 0.5487 - val_acc: 0.7400\n",
            "Epoch 12/30\n",
            "100/100 [==============================] - 7s 66ms/step - loss: 0.3460 - acc: 0.8506 - val_loss: 0.5793 - val_acc: 0.7100\n",
            "Epoch 13/30\n",
            "100/100 [==============================] - 7s 66ms/step - loss: 0.3181 - acc: 0.8709 - val_loss: 0.7044 - val_acc: 0.6650\n",
            "Epoch 14/30\n",
            "100/100 [==============================] - 7s 66ms/step - loss: 0.2917 - acc: 0.8734 - val_loss: 0.6458 - val_acc: 0.6950\n",
            "Epoch 15/30\n",
            "100/100 [==============================] - 7s 66ms/step - loss: 0.2787 - acc: 0.8951 - val_loss: 0.5365 - val_acc: 0.7550\n",
            "Epoch 16/30\n",
            "100/100 [==============================] - 7s 66ms/step - loss: 0.2516 - acc: 0.9020 - val_loss: 0.8165 - val_acc: 0.6750\n",
            "Epoch 17/30\n",
            "100/100 [==============================] - 7s 67ms/step - loss: 0.2390 - acc: 0.9067 - val_loss: 0.7077 - val_acc: 0.6950\n",
            "Epoch 18/30\n",
            "100/100 [==============================] - 7s 67ms/step - loss: 0.2232 - acc: 0.9170 - val_loss: 0.7016 - val_acc: 0.7500\n",
            "Epoch 19/30\n",
            "100/100 [==============================] - 7s 66ms/step - loss: 0.1970 - acc: 0.9213 - val_loss: 0.7361 - val_acc: 0.7050\n",
            "Epoch 20/30\n",
            "100/100 [==============================] - 7s 66ms/step - loss: 0.1728 - acc: 0.9412 - val_loss: 0.8562 - val_acc: 0.7050\n",
            "Epoch 21/30\n",
            "100/100 [==============================] - 7s 67ms/step - loss: 0.1573 - acc: 0.9403 - val_loss: 0.8073 - val_acc: 0.7050\n",
            "Epoch 22/30\n",
            "100/100 [==============================] - 7s 66ms/step - loss: 0.1455 - acc: 0.9460 - val_loss: 0.7225 - val_acc: 0.6900\n",
            "Epoch 23/30\n",
            "100/100 [==============================] - 7s 67ms/step - loss: 0.1234 - acc: 0.9573 - val_loss: 0.8266 - val_acc: 0.7200\n",
            "Epoch 24/30\n",
            "100/100 [==============================] - 7s 66ms/step - loss: 0.1026 - acc: 0.9685 - val_loss: 0.8790 - val_acc: 0.7150\n",
            "Epoch 25/30\n",
            "100/100 [==============================] - 7s 66ms/step - loss: 0.0927 - acc: 0.9747 - val_loss: 0.8461 - val_acc: 0.7550\n",
            "Epoch 26/30\n",
            "100/100 [==============================] - 7s 67ms/step - loss: 0.0771 - acc: 0.9746 - val_loss: 1.0485 - val_acc: 0.6850\n",
            "Epoch 27/30\n",
            "100/100 [==============================] - 7s 66ms/step - loss: 0.0636 - acc: 0.9837 - val_loss: 0.7771 - val_acc: 0.7250\n",
            "Epoch 28/30\n",
            "100/100 [==============================] - 7s 67ms/step - loss: 0.0597 - acc: 0.9792 - val_loss: 0.9940 - val_acc: 0.6950\n",
            "Epoch 29/30\n",
            "100/100 [==============================] - 7s 66ms/step - loss: 0.0491 - acc: 0.9861 - val_loss: 0.9661 - val_acc: 0.7250\n",
            "Epoch 30/30\n",
            "100/100 [==============================] - 7s 68ms/step - loss: 0.0485 - acc: 0.9895 - val_loss: 1.5975 - val_acc: 0.6700\n"
          ],
          "name": "stdout"
        }
      ]
    },
    {
      "cell_type": "code",
      "metadata": {
        "id": "MZaZ2HWZsNUi",
        "colab": {
          "base_uri": "https://localhost:8080/",
          "height": 545
        },
        "outputId": "da3b9ed9-d429-4c73-8bef-e5923a85d7ad"
      },
      "source": [
        "model.save('cats_and_dogs_small_1.h5')\n",
        "\n",
        "import matplotlib.pyplot as plt\n",
        "\n",
        "acc = history.history['acc']\n",
        "val_acc = history.history['val_acc']\n",
        "loss = history.history['loss']\n",
        "val_loss = history.history['val_loss']\n",
        "\n",
        "epochs = range(1, len(acc) + 1)\n",
        "\n",
        "plt.plot(epochs, acc, 'bo', label='Training acc')\n",
        "plt.plot(epochs, val_acc, 'b', label='Validation acc')\n",
        "plt.title('Training and validation accuracy')\n",
        "plt.legend()\n",
        "\n",
        "plt.figure()\n",
        "\n",
        "plt.plot(epochs, loss, 'bo', label='Training loss')\n",
        "plt.plot(epochs, val_loss, 'b', label='Validation loss')\n",
        "plt.title('Training and validation loss')\n",
        "plt.legend()\n",
        "\n",
        "plt.show()"
      ],
      "execution_count": null,
      "outputs": [
        {
          "output_type": "display_data",
          "data": {
            "image/png": "[encoded data removed]",
            "text/plain": [
              "<Figure size 432x288 with 1 Axes>"
            ]
          },
          "metadata": {
            "tags": [],
            "needs_background": "light"
          }
        },
        {
          "output_type": "display_data",
          "data": {
            "image/png": "[encoded data removed]",
            "text/plain": [
              "<Figure size 432x288 with 1 Axes>"
            ]
          },
          "metadata": {
            "tags": [],
            "needs_background": "light"
          }
        }
      ]
    },
    {
      "cell_type": "markdown",
      "metadata": {
        "id": "XKZmXmBcq_8-"
      },
      "source": [
        "## Convolutional Networks with Dropout\n",
        "\n",
        "![alt text](https://camo.githubusercontent.com/ee6fa1073247cd2c3d241300caf110d7a7541bc5/68747470733a2f2f63646e2d696d616765732d312e6d656469756d2e636f6d2f6d61782f3830302f312a4972644a355067684439596f4f7956415137334d4a772e676966)\n",
        "\n",
        "Ref: https://github.com/mneha4/Training-Neural-Nets---Guidelines"
      ]
    },
    {
      "cell_type": "code",
      "metadata": {
        "id": "wu3cqeYQrDeN"
      },
      "source": [
        "model = models.Sequential()\n",
        "model.add(layers.Conv2D(32, (3, 3), activation='relu',\n",
        "input_shape=(150, 150, 3)))\n",
        "model.add(layers.MaxPooling2D((2, 2)))\n",
        "model.add(layers.Conv2D(64, (3, 3), activation='relu'))\n",
        "model.add(layers.MaxPooling2D((2, 2)))\n",
        "model.add(layers.Conv2D(128, (3, 3), activation='relu'))\n",
        "model.add(layers.MaxPooling2D((2, 2)))\n",
        "model.add(layers.Conv2D(128, (3, 3), activation='relu'))\n",
        "model.add(layers.MaxPooling2D((2, 2)))\n",
        "model.add(layers.Flatten())\n",
        "model.add(layers.Dropout(0.5))\n",
        "model.add(layers.Dense(512, activation='relu'))\n",
        "model.add(layers.Dense(1, activation='sigmoid'))\n",
        "\n",
        "model.compile(loss='binary_crossentropy',\n",
        "              optimizer=optimizers.RMSprop(lr=1e-4),\n",
        "              metrics=['acc'])"
      ],
      "execution_count": null,
      "outputs": []
    },
    {
      "cell_type": "code",
      "metadata": {
        "id": "ZdKNoJurKbWe",
        "colab": {
          "base_uri": "https://localhost:8080/"
        },
        "outputId": "cdcecdcb-1bdf-433b-f028-d949cde3801b"
      },
      "source": [
        "train_datagen = ImageDataGenerator(rescale=1./255,\n",
        "                                   rotation_range=40,\n",
        "                                   width_shift_range=0.2,\n",
        "                                   height_shift_range=0.2,\n",
        "                                   shear_range=0.2,\n",
        "                                   zoom_range=0.2,\n",
        "                                   horizontal_flip=True,)\n",
        "\n",
        "test_datagen = ImageDataGenerator(rescale=1./255)\n",
        "\n",
        "train_generator = train_datagen.flow_from_directory(train_dir,\n",
        "                                                    target_size=(150, 150),\n",
        "                                                    batch_size=32,\n",
        "                                                    class_mode='binary')\n",
        "\n",
        "validation_generator = test_datagen.flow_from_directory(validation_dir,\n",
        "                                                        target_size=(150, 150),\n",
        "                                                        batch_size=32,\n",
        "                                                        class_mode='binary')"
      ],
      "execution_count": null,
      "outputs": [
        {
          "output_type": "stream",
          "text": [
            "Found 2000 images belonging to 2 classes.\n",
            "Found 1000 images belonging to 2 classes.\n"
          ],
          "name": "stdout"
        }
      ]
    },
    {
      "cell_type": "code",
      "metadata": {
        "id": "QSeLpvY0rH7F",
        "colab": {
          "base_uri": "https://localhost:8080/"
        },
        "outputId": "a33ebafa-f951-4030-8f27-cd1e89b6a150"
      },
      "source": [
        "history = model.fit_generator(train_generator,\n",
        "                              epochs=20,\n",
        "                              validation_data=validation_generator)"
      ],
      "execution_count": null,
      "outputs": [
        {
          "output_type": "stream",
          "text": [
            "Found 2000 images belonging to 2 classes.\n",
            "Found 1000 images belonging to 2 classes.\n"
          ],
          "name": "stdout"
        },
        {
          "output_type": "stream",
          "text": [
            "/usr/local/lib/python3.7/dist-packages/tensorflow/python/keras/engine/training.py:1844: UserWarning: `Model.fit_generator` is deprecated and will be removed in a future version. Please use `Model.fit`, which supports generators.\n",
            "  warnings.warn('`Model.fit_generator` is deprecated and '\n"
          ],
          "name": "stderr"
        },
        {
          "output_type": "stream",
          "text": [
            "Epoch 1/20\n",
            "63/63 [==============================] - 17s 268ms/step - loss: 0.6982 - acc: 0.5248 - val_loss: 0.6811 - val_acc: 0.5320\n",
            "Epoch 2/20\n",
            "63/63 [==============================] - 17s 263ms/step - loss: 0.6817 - acc: 0.5529 - val_loss: 0.6865 - val_acc: 0.5080\n",
            "Epoch 3/20\n",
            "63/63 [==============================] - 17s 264ms/step - loss: 0.6639 - acc: 0.5942 - val_loss: 0.6504 - val_acc: 0.6150\n",
            "Epoch 4/20\n",
            "63/63 [==============================] - 17s 265ms/step - loss: 0.6632 - acc: 0.6053 - val_loss: 0.6379 - val_acc: 0.6340\n",
            "Epoch 5/20\n",
            "63/63 [==============================] - 17s 263ms/step - loss: 0.6509 - acc: 0.6008 - val_loss: 0.6245 - val_acc: 0.6450\n",
            "Epoch 6/20\n",
            "63/63 [==============================] - 17s 263ms/step - loss: 0.6473 - acc: 0.6188 - val_loss: 0.6601 - val_acc: 0.6020\n",
            "Epoch 7/20\n",
            "63/63 [==============================] - 17s 263ms/step - loss: 0.6240 - acc: 0.6539 - val_loss: 0.6052 - val_acc: 0.6580\n",
            "Epoch 8/20\n",
            "63/63 [==============================] - 17s 264ms/step - loss: 0.6240 - acc: 0.6480 - val_loss: 0.5992 - val_acc: 0.6650\n",
            "Epoch 9/20\n",
            "63/63 [==============================] - 17s 264ms/step - loss: 0.6003 - acc: 0.6682 - val_loss: 0.6373 - val_acc: 0.6060\n",
            "Epoch 10/20\n",
            "63/63 [==============================] - 17s 263ms/step - loss: 0.6162 - acc: 0.6470 - val_loss: 0.6066 - val_acc: 0.6530\n",
            "Epoch 11/20\n",
            "63/63 [==============================] - 17s 264ms/step - loss: 0.6116 - acc: 0.6622 - val_loss: 0.5666 - val_acc: 0.6910\n",
            "Epoch 12/20\n",
            "63/63 [==============================] - 17s 264ms/step - loss: 0.5975 - acc: 0.6713 - val_loss: 0.5853 - val_acc: 0.6760\n",
            "Epoch 13/20\n",
            "63/63 [==============================] - 17s 265ms/step - loss: 0.5777 - acc: 0.6948 - val_loss: 0.5782 - val_acc: 0.6750\n",
            "Epoch 14/20\n",
            "63/63 [==============================] - 17s 263ms/step - loss: 0.5915 - acc: 0.6692 - val_loss: 0.5470 - val_acc: 0.7110\n",
            "Epoch 15/20\n",
            "63/63 [==============================] - 17s 266ms/step - loss: 0.5818 - acc: 0.7068 - val_loss: 0.6110 - val_acc: 0.6640\n",
            "Epoch 16/20\n",
            "63/63 [==============================] - 17s 265ms/step - loss: 0.5692 - acc: 0.7077 - val_loss: 0.5539 - val_acc: 0.7060\n",
            "Epoch 17/20\n",
            "63/63 [==============================] - 17s 265ms/step - loss: 0.5779 - acc: 0.6850 - val_loss: 0.6050 - val_acc: 0.6660\n",
            "Epoch 18/20\n",
            "63/63 [==============================] - 17s 265ms/step - loss: 0.5738 - acc: 0.6975 - val_loss: 0.5547 - val_acc: 0.7040\n",
            "Epoch 19/20\n",
            "63/63 [==============================] - 17s 264ms/step - loss: 0.5527 - acc: 0.7238 - val_loss: 0.5413 - val_acc: 0.7270\n",
            "Epoch 20/20\n",
            "63/63 [==============================] - 17s 263ms/step - loss: 0.5695 - acc: 0.7144 - val_loss: 0.5799 - val_acc: 0.6970\n"
          ],
          "name": "stdout"
        }
      ]
    },
    {
      "cell_type": "markdown",
      "metadata": {
        "id": "BRdU5yrkUF_b"
      },
      "source": [
        "# Task 2:\n",
        "\n",
        "We have used Dropout to enhance the performance of the CNN model. Can you please use whatever you like to further enhance the performance from `val_acc: 0.7506`? "
      ]
    },
    {
      "cell_type": "code",
      "metadata": {
        "id": "rNoGQVFFAoHB"
      },
      "source": [
        "def build_model():\n",
        "    model = models.Sequential()\n",
        "    model.add(layers.Conv2D(32, (3, 3), activation='relu',\n",
        "    input_shape=(150, 150, 3)))\n",
        "    model.add(layers.MaxPooling2D((2, 2)))\n",
        "    model.add(layers.Conv2D(64, (3, 3), activation='relu'))\n",
        "    model.add(layers.MaxPooling2D((2, 2)))\n",
        "    model.add(layers.Conv2D(128, (3, 3), activation='relu'))\n",
        "    model.add(layers.MaxPooling2D((2, 2)))\n",
        "    model.add(layers.Conv2D(128, (3, 3), activation='relu'))\n",
        "    model.add(layers.MaxPooling2D((2, 2)))\n",
        "    model.add(layers.Flatten())\n",
        "    model.add(layers.Dropout(0.5))\n",
        "    model.add(layers.Dense(512, activation='relu'))\n",
        "    model.add(layers.Dense(1, activation='sigmoid'))\n",
        "    return model"
      ],
      "execution_count": null,
      "outputs": []
    },
    {
      "cell_type": "code",
      "metadata": {
        "id": "Ss0HQdCKAWwW"
      },
      "source": [
        "import matplotlib.pyplot as plt\n",
        "import numpy as np\n",
        "import tensorflow as tf\n",
        "from tqdm import tqdm\n",
        "\n",
        "class LRFinder(object):\n",
        "    def __init__(self, model, optimizer, loss_fn, dataset):\n",
        "        super(LRFinder, self).__init__()\n",
        "        self.model = model\n",
        "        self.optimizer = optimizer\n",
        "        self.loss_fn = loss_fn\n",
        "        self.dataset = dataset\n",
        "        # placeholders\n",
        "        self.lrs = None\n",
        "        self.loss_values = None\n",
        "        self.min_lr = None\n",
        "        self.max_lr = None\n",
        "        self.num_iters = None\n",
        "\n",
        "\n",
        "    @tf.function\n",
        "    def train_step(self, x, y, curr_lr):\n",
        "        self.optimizer.lr.assign(curr_lr)\n",
        "        with tf.GradientTape() as tape:\n",
        "            # forward pass\n",
        "            y_ = self.model(x)\n",
        "            # external loss value for this batch\n",
        "            loss = self.loss_fn(y, y_)\n",
        "            # add any losses created during forward pass\n",
        "            loss += sum(self.model.losses)\n",
        "            # get gradients of weights wrt loss\n",
        "            grads = tape.gradient(loss, self.model.trainable_weights)\n",
        "        # update weights\n",
        "        self.optimizer.apply_gradients(zip(grads, self.model.trainable_weights))\n",
        "        return loss\n",
        "\n",
        "\n",
        "    def range_test(self, min_lr, max_lr, num_iters, debug):\n",
        "        # create learning rate schedule\n",
        "        self.min_lr = min_lr\n",
        "        self.max_lr = max_lr\n",
        "        self.num_iters = num_iters\n",
        "        self.lrs =  np.linspace(\n",
        "            self.min_lr, self.max_lr, num=self.num_iters)\n",
        "        # initialize loss_values\n",
        "        self.loss_values = []\n",
        "        curr_lr = tf.constant(self.min_lr)\n",
        "        for step, (x, y) in enumerate(self.dataset):\n",
        "            if step >= self.num_iters:\n",
        "                break\n",
        "            loss = self.train_step(x, y, curr_lr).numpy()\n",
        "            self.loss_values.append(loss)\n",
        "            if debug:\n",
        "                print(\"[DEBUG] Step {:d}, Loss {:.5f}, LR {:.5f}\".format(\n",
        "                    step, loss, self.optimizer.learning_rate.numpy()))\n",
        "            curr_lr = self.lrs[step]\n",
        "            curr_lr = tf.cast(curr_lr, dtype=tf.float32)\n",
        "\n",
        "    def plot(self):\n",
        "        plt.plot(self.lrs, self.loss_values)\n",
        "        plt.xlabel(\"learning rate\")\n",
        "        plt.ylabel(\"loss\")\n",
        "        plt.title(\"Learning Rate vs Loss ({:.2e}, {:.2e}, {:d})\"\n",
        "            .format(self.min_lr, self.max_lr, self.num_iters))\n",
        "        plt.xscale(\"log\")\n",
        "        plt.grid()\n",
        "        plt.show()"
      ],
      "execution_count": null,
      "outputs": []
    },
    {
      "cell_type": "code",
      "metadata": {
        "id": "ywYESHLfAxKe"
      },
      "source": [
        "model = build_model()\n",
        "optimizer = optimizers.Adam()\n",
        "loss_fn = tf.keras.losses.BinaryCrossentropy()\n",
        "min_lr = 9.3e-4\n",
        "max_lr = 9.5e-4\n",
        "num_iters = 200"
      ],
      "execution_count": null,
      "outputs": []
    },
    {
      "cell_type": "code",
      "metadata": {
        "id": "np4MjgT4Aekc",
        "colab": {
          "base_uri": "https://localhost:8080/",
          "height": 298
        },
        "outputId": "c07f0ae0-7397-443d-eab1-050ec064e72c"
      },
      "source": [
        "lr_finder = LRFinder(model, optimizer, loss_fn, train_generator)\n",
        "lr_finder.range_test(min_lr, max_lr, num_iters, debug=False)\n",
        "lr_finder.plot()"
      ],
      "execution_count": null,
      "outputs": [
        {
          "output_type": "display_data",
          "data": {
            "image/png": "[encoded data removed]",
            "text/plain": [
              "<Figure size 432x288 with 1 Axes>"
            ]
          },
          "metadata": {
            "tags": [],
            "needs_background": "light"
          }
        }
      ]
    },
    {
      "cell_type": "code",
      "metadata": {
        "id": "tTrNHsifO15C"
      },
      "source": [
        "model = build_model()\n",
        "model.compile(loss='binary_crossentropy',\n",
        "              optimizer=optimizers.RMSprop(lr=9.4e-4),\n",
        "              metrics=['acc'])"
      ],
      "execution_count": null,
      "outputs": []
    },
    {
      "cell_type": "code",
      "metadata": {
        "id": "zgwlmDnRO_9Z",
        "colab": {
          "base_uri": "https://localhost:8080/"
        },
        "outputId": "9836463e-697a-4377-b37d-2caaf4fa634b"
      },
      "source": [
        "history = model.fit_generator(train_generator,\n",
        "                              epochs=20,\n",
        "                              validation_data=validation_generator)"
      ],
      "execution_count": null,
      "outputs": [
        {
          "output_type": "stream",
          "text": [
            "/usr/local/lib/python3.7/dist-packages/tensorflow/python/keras/engine/training.py:1844: UserWarning: `Model.fit_generator` is deprecated and will be removed in a future version. Please use `Model.fit`, which supports generators.\n",
            "  warnings.warn('`Model.fit_generator` is deprecated and '\n"
          ],
          "name": "stderr"
        },
        {
          "output_type": "stream",
          "text": [
            "Epoch 1/20\n",
            "63/63 [==============================] - 18s 268ms/step - loss: 0.9505 - acc: 0.5175 - val_loss: 0.6924 - val_acc: 0.5320\n",
            "Epoch 2/20\n",
            "63/63 [==============================] - 17s 263ms/step - loss: 0.6960 - acc: 0.5273 - val_loss: 0.6876 - val_acc: 0.6320\n",
            "Epoch 3/20\n",
            "63/63 [==============================] - 17s 264ms/step - loss: 0.7139 - acc: 0.5576 - val_loss: 0.6547 - val_acc: 0.5970\n",
            "Epoch 4/20\n",
            "63/63 [==============================] - 17s 264ms/step - loss: 0.6801 - acc: 0.5879 - val_loss: 0.6557 - val_acc: 0.6350\n",
            "Epoch 5/20\n",
            "63/63 [==============================] - 17s 265ms/step - loss: 0.6927 - acc: 0.5778 - val_loss: 1.6121 - val_acc: 0.5020\n",
            "Epoch 6/20\n",
            "63/63 [==============================] - 17s 263ms/step - loss: 0.7273 - acc: 0.5847 - val_loss: 0.6290 - val_acc: 0.6620\n",
            "Epoch 7/20\n",
            "63/63 [==============================] - 17s 264ms/step - loss: 0.6428 - acc: 0.6207 - val_loss: 0.6126 - val_acc: 0.6680\n",
            "Epoch 8/20\n",
            "63/63 [==============================] - 17s 263ms/step - loss: 0.6600 - acc: 0.6098 - val_loss: 0.6438 - val_acc: 0.6570\n",
            "Epoch 9/20\n",
            "63/63 [==============================] - 17s 263ms/step - loss: 0.6059 - acc: 0.6810 - val_loss: 0.5698 - val_acc: 0.6960\n",
            "Epoch 10/20\n",
            "63/63 [==============================] - 17s 265ms/step - loss: 0.5989 - acc: 0.6933 - val_loss: 0.7115 - val_acc: 0.5740\n",
            "Epoch 11/20\n",
            "63/63 [==============================] - 17s 264ms/step - loss: 0.6080 - acc: 0.6547 - val_loss: 0.5652 - val_acc: 0.7250\n",
            "Epoch 12/20\n",
            "63/63 [==============================] - 17s 264ms/step - loss: 0.5904 - acc: 0.6936 - val_loss: 0.7531 - val_acc: 0.6500\n",
            "Epoch 13/20\n",
            "63/63 [==============================] - 17s 263ms/step - loss: 0.6033 - acc: 0.6738 - val_loss: 0.5409 - val_acc: 0.7290\n",
            "Epoch 14/20\n",
            "63/63 [==============================] - 17s 266ms/step - loss: 0.6123 - acc: 0.6756 - val_loss: 0.5206 - val_acc: 0.7400\n",
            "Epoch 15/20\n",
            "63/63 [==============================] - 17s 265ms/step - loss: 0.5785 - acc: 0.6893 - val_loss: 0.6090 - val_acc: 0.6890\n",
            "Epoch 16/20\n",
            "63/63 [==============================] - 17s 263ms/step - loss: 0.5846 - acc: 0.6866 - val_loss: 0.5701 - val_acc: 0.7270\n",
            "Epoch 17/20\n",
            "63/63 [==============================] - 17s 265ms/step - loss: 0.5848 - acc: 0.7098 - val_loss: 0.5022 - val_acc: 0.7610\n",
            "Epoch 18/20\n",
            "63/63 [==============================] - 17s 263ms/step - loss: 0.5776 - acc: 0.7013 - val_loss: 0.4870 - val_acc: 0.7770\n",
            "Epoch 19/20\n",
            "63/63 [==============================] - 17s 263ms/step - loss: 0.5187 - acc: 0.7490 - val_loss: 0.5247 - val_acc: 0.7340\n",
            "Epoch 20/20\n",
            "63/63 [==============================] - 17s 264ms/step - loss: 0.5588 - acc: 0.7160 - val_loss: 0.4910 - val_acc: 0.7600\n"
          ],
          "name": "stdout"
        }
      ]
    }
  ]
}