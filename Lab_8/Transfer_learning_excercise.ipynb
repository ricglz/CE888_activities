{
  "nbformat": 4,
  "nbformat_minor": 0,
  "metadata": {
    "colab": {
      "name": "Transfer_learning_excercise.ipynb",
      "provenance": [],
      "authorship_tag": "ABX9TyNVYyovM5f1qitWu6yaq1q3",
      "include_colab_link": true
    },
    "kernelspec": {
      "name": "python3",
      "display_name": "Python 3"
    },
    "accelerator": "GPU"
  },
  "cells": [
    {
      "cell_type": "markdown",
      "metadata": {
        "id": "view-in-github",
        "colab_type": "text"
      },
      "source": [
        "<a href=\"https://colab.research.google.com/github/ricglz/CE888_activities/blob/main/Lab_8/Transfer_learning_excercise.ipynb\" target=\"_parent\"><img src=\"https://colab.research.google.com/assets/colab-badge.svg\" alt=\"Open In Colab\"/></a>"
      ]
    },
    {
      "cell_type": "code",
      "metadata": {
        "id": "kcNWDwDt2r1o"
      },
      "source": [
        "!curl -sL https://github.com/sagihaider/CE888_2021/raw/main/Lab_8/data.zip > data.zip\n",
        "!unzip -qq data.zip"
      ],
      "execution_count": 1,
      "outputs": []
    },
    {
      "cell_type": "code",
      "metadata": {
        "id": "VLyGg7Pi41pp"
      },
      "source": [
        "!mkdir data/train\n",
        "!mkdir data/val\n",
        "!mkdir data/test"
      ],
      "execution_count": 2,
      "outputs": []
    },
    {
      "cell_type": "code",
      "metadata": {
        "id": "UO2j5Y2l5PNc"
      },
      "source": [
        "base_dir = 'data'\n",
        "train_dir = 'data/train'\n",
        "val_dir = 'data/val'\n",
        "test_dir = 'data/test'"
      ],
      "execution_count": 3,
      "outputs": []
    },
    {
      "cell_type": "code",
      "metadata": {
        "id": "AzrXCFYY5e0t"
      },
      "source": [
        "from shutil import copyfile\n",
        "from os import path, mkdir\n",
        "\n",
        "def copy_to_dir(dst_path, category, fname):\n",
        "    actual_base_dir = path.join(base_dir, category)\n",
        "    dst_dir = path.join(dst_path, category)\n",
        "    if not path.exists(dst_dir):\n",
        "        mkdir(dst_dir)\n",
        "    src = path.join(actual_base_dir, fname)\n",
        "    dst = path.join(dst_dir, fname)\n",
        "    copyfile(src, dst)"
      ],
      "execution_count": 4,
      "outputs": []
    },
    {
      "cell_type": "code",
      "metadata": {
        "id": "P5lxUgiK6OD5"
      },
      "source": [
        "from glob import glob\n",
        "\n",
        "def split_category(category, prefix, separator='.'):\n",
        "    category_folder = path.join(base_dir, category)\n",
        "    amount_in_category = len(glob(path.join(category_folder, '*.jpg')))\n",
        "    train_amount = int(amount_in_category * 0.8)\n",
        "    train_limit = train_amount + 1\n",
        "    val_amount = (amount_in_category - train_amount) // 2\n",
        "    val_limit = train_limit + val_amount\n",
        "    test_limit = val_limit + val_amount\n",
        "    for i in range(1, train_limit):\n",
        "        copy_to_dir(train_dir, category, f'{prefix}{separator}{i}.jpg')\n",
        "    for i in range(train_limit, val_limit):\n",
        "        copy_to_dir(val_dir, category, f'{prefix}{separator}{i}.jpg')\n",
        "    for i in range(val_limit, test_limit):\n",
        "        copy_to_dir(test_dir, category, f'{prefix}{separator}{i}.jpg')"
      ],
      "execution_count": 5,
      "outputs": []
    },
    {
      "cell_type": "code",
      "metadata": {
        "id": "JDEBp5H-9H8i"
      },
      "source": [
        "split_category('Humans', 'rider', '-')\n",
        "split_category('cats', 'cat', '.')\n",
        "split_category('dogs', 'dog', '.')\n",
        "split_category('horses', 'horse', '-')"
      ],
      "execution_count": 6,
      "outputs": []
    },
    {
      "cell_type": "code",
      "metadata": {
        "id": "bp4xa3VYBDJJ"
      },
      "source": [
        "BATCH_SIZE = 32\n",
        "DIM = 224"
      ],
      "execution_count": 7,
      "outputs": []
    },
    {
      "cell_type": "code",
      "metadata": {
        "colab": {
          "base_uri": "https://localhost:8080/"
        },
        "id": "D50Uhw9j-tgb",
        "outputId": "c2d021d8-9b21-4419-a24e-bc3aae81c863"
      },
      "source": [
        "from tensorflow.keras.preprocessing import image_dataset_from_directory\n",
        "\n",
        "train_data = image_dataset_from_directory(train_dir,\n",
        "                                          batch_size=BATCH_SIZE,\n",
        "                                          image_size=(DIM, DIM))\n",
        "\n",
        "val_data = image_dataset_from_directory(val_dir,\n",
        "                                        batch_size=BATCH_SIZE,\n",
        "                                        image_size=(DIM, DIM))\n",
        "\n",
        "test_data = image_dataset_from_directory(test_dir,\n",
        "                                          batch_size=BATCH_SIZE,\n",
        "                                          image_size=(DIM, DIM))"
      ],
      "execution_count": 8,
      "outputs": [
        {
          "output_type": "stream",
          "text": [
            "Found 644 files belonging to 4 classes.\n",
            "Found 80 files belonging to 4 classes.\n",
            "Found 80 files belonging to 4 classes.\n"
          ],
          "name": "stdout"
        }
      ]
    },
    {
      "cell_type": "code",
      "metadata": {
        "id": "GVj8xas7BV2m"
      },
      "source": [
        "from tensorflow.keras.layers import Input\n",
        "\n",
        "img_input = Input(shape=(DIM, DIM, 3))"
      ],
      "execution_count": 9,
      "outputs": []
    },
    {
      "cell_type": "code",
      "metadata": {
        "id": "daGa5ww4FLBS"
      },
      "source": [
        "from tensorflow.keras.layers import Dense\n",
        "from tensorflow.keras.models import Model\n",
        "from tensorflow.keras.applications import EfficientNetB2\n",
        "\n",
        "def build_general_model():\n",
        "    model = EfficientNetB2(input_tensor=img_input)\n",
        "    last_layer = model.get_layer('top_dropout').output\n",
        "    out = Dense(4, activation='softmax', name='output')(last_layer)\n",
        "    return Model(img_input, out)"
      ],
      "execution_count": 10,
      "outputs": []
    },
    {
      "cell_type": "code",
      "metadata": {
        "id": "-w8L89HDBOsX"
      },
      "source": [
        "def build_fe_model():\n",
        "    model = build_general_model()\n",
        "    for layer in model.layers[:-1]:\n",
        "        layer.trainable = False\n",
        "    return model"
      ],
      "execution_count": 11,
      "outputs": []
    },
    {
      "cell_type": "code",
      "metadata": {
        "colab": {
          "base_uri": "https://localhost:8080/"
        },
        "id": "nIFFduQQCljC",
        "outputId": "da49b013-2c09-4021-f810-1fb17f028409"
      },
      "source": [
        "fe_model = build_fe_model()"
      ],
      "execution_count": 12,
      "outputs": [
        {
          "output_type": "stream",
          "text": [
            "Downloading data from https://storage.googleapis.com/keras-applications/efficientnetb2.h5\n",
            "37437440/37432240 [==============================] - 0s 0us/step\n"
          ],
          "name": "stdout"
        }
      ]
    },
    {
      "cell_type": "code",
      "metadata": {
        "id": "sPWKUTjHEued"
      },
      "source": [
        "def build_ft_model():\n",
        "    model = build_general_model()\n",
        "    for layer in model.layers[:-5]:\n",
        "        layer.trainable = False\n",
        "    return model"
      ],
      "execution_count": 13,
      "outputs": []
    },
    {
      "cell_type": "code",
      "metadata": {
        "id": "1x9lUNJoFdII"
      },
      "source": [
        "ft_model = build_ft_model()"
      ],
      "execution_count": 14,
      "outputs": []
    },
    {
      "cell_type": "code",
      "metadata": {
        "id": "VOqflUjdEMlT"
      },
      "source": [
        "from tensorflow.keras.callbacks import EarlyStopping, ModelCheckpoint\n",
        "\n",
        "def train_and_evaluate_model(model, checkpoint_path):\n",
        "    my_callbacks = [\n",
        "        EarlyStopping(monitor=\"val_loss\", patience=5, restore_best_weights=True),\n",
        "        ModelCheckpoint(filepath=checkpoint_path, save_best_only=True),\n",
        "    ]\n",
        "    model.compile(loss='sparse_categorical_crossentropy', optimizer='adam', metrics=['acc'])\n",
        "\n",
        "    history = model.fit(\n",
        "        train_data, epochs=10, validation_data=val_data, callbacks=my_callbacks)\n",
        "    \n",
        "    model.evaluate(test_data)\n",
        "\n",
        "    return history"
      ],
      "execution_count": 15,
      "outputs": []
    },
    {
      "cell_type": "code",
      "metadata": {
        "id": "_hmsCpY2Fli4"
      },
      "source": [
        "import matplotlib.pyplot as plt\n",
        "\n",
        "def plot_history(history):\n",
        "    acc = history.history['acc']\n",
        "    val_acc = history.history['val_acc']\n",
        "    loss = history.history['loss']\n",
        "    val_loss = history.history['val_loss']\n",
        "\n",
        "    epochs = range(1, len(acc) + 1)\n",
        "\n",
        "    plt.plot(epochs, acc, 'bo', label='Training acc')\n",
        "    plt.plot(epochs, val_acc, 'b', label='Validation acc')\n",
        "    plt.title('Training and validation accuracy')\n",
        "    plt.legend()\n",
        "\n",
        "    plt.figure()\n",
        "\n",
        "    plt.plot(epochs, loss, 'bo', label='Training loss')\n",
        "    plt.plot(epochs, val_loss, 'b', label='Validation loss')\n",
        "    plt.title('Training and validation loss')\n",
        "    plt.legend()\n",
        "\n",
        "    plt.show()"
      ],
      "execution_count": 16,
      "outputs": []
    },
    {
      "cell_type": "code",
      "metadata": {
        "colab": {
          "base_uri": "https://localhost:8080/",
          "height": 902
        },
        "id": "tby_icmJGMME",
        "outputId": "76cf7a57-efa7-428e-bb98-1f9bffb747ec"
      },
      "source": [
        "history = train_and_evaluate_model(fe_model, 'fe_model.h5')\n",
        "plot_history(history)"
      ],
      "execution_count": 17,
      "outputs": [
        {
          "output_type": "stream",
          "text": [
            "Epoch 1/10\n",
            "21/21 [==============================] - 44s 264ms/step - loss: 1.1376 - acc: 0.5217 - val_loss: 0.4583 - val_acc: 0.8625\n",
            "Epoch 2/10\n",
            "21/21 [==============================] - 3s 126ms/step - loss: 0.3688 - acc: 0.9357 - val_loss: 0.2643 - val_acc: 0.9375\n",
            "Epoch 3/10\n",
            "21/21 [==============================] - 3s 125ms/step - loss: 0.2231 - acc: 0.9482 - val_loss: 0.2011 - val_acc: 0.9750\n",
            "Epoch 4/10\n",
            "21/21 [==============================] - 3s 124ms/step - loss: 0.1616 - acc: 0.9707 - val_loss: 0.1681 - val_acc: 0.9750\n",
            "Epoch 5/10\n",
            "21/21 [==============================] - 3s 125ms/step - loss: 0.1179 - acc: 0.9896 - val_loss: 0.1468 - val_acc: 0.9750\n",
            "Epoch 6/10\n",
            "21/21 [==============================] - 3s 126ms/step - loss: 0.1056 - acc: 0.9769 - val_loss: 0.1315 - val_acc: 0.9750\n",
            "Epoch 7/10\n",
            "21/21 [==============================] - 3s 126ms/step - loss: 0.0876 - acc: 0.9922 - val_loss: 0.1230 - val_acc: 0.9750\n",
            "Epoch 8/10\n",
            "21/21 [==============================] - 3s 127ms/step - loss: 0.0819 - acc: 0.9891 - val_loss: 0.1145 - val_acc: 0.9750\n",
            "Epoch 9/10\n",
            "21/21 [==============================] - 3s 126ms/step - loss: 0.0636 - acc: 0.9933 - val_loss: 0.1049 - val_acc: 0.9875\n",
            "Epoch 10/10\n",
            "21/21 [==============================] - 3s 127ms/step - loss: 0.0531 - acc: 0.9968 - val_loss: 0.0977 - val_acc: 0.9875\n",
            "3/3 [==============================] - 0s 68ms/step - loss: 0.0639 - acc: 0.9750\n"
          ],
          "name": "stdout"
        },
        {
          "output_type": "display_data",
          "data": {
            "image/png": "[encoded data removed]",
            "text/plain": [
              "<Figure size 432x288 with 1 Axes>"
            ]
          },
          "metadata": {
            "tags": [],
            "needs_background": "light"
          }
        },
        {
          "output_type": "display_data",
          "data": {
            "image/png": "[encoded data removed]",
            "text/plain": [
              "<Figure size 432x288 with 1 Axes>"
            ]
          },
          "metadata": {
            "tags": [],
            "needs_background": "light"
          }
        }
      ]
    },
    {
      "cell_type": "code",
      "metadata": {
        "colab": {
          "base_uri": "https://localhost:8080/",
          "height": 902
        },
        "id": "_FAR6HGZGWoS",
        "outputId": "a2bd258a-2767-40c1-c7dd-215ae9b8cc8f"
      },
      "source": [
        "history = train_and_evaluate_model(ft_model, 'ft_model.h5')\n",
        "plot_history(history)"
      ],
      "execution_count": 18,
      "outputs": [
        {
          "output_type": "stream",
          "text": [
            "Epoch 1/10\n",
            "21/21 [==============================] - 11s 201ms/step - loss: 1.0403 - acc: 0.6271 - val_loss: 0.4175 - val_acc: 0.9500\n",
            "Epoch 2/10\n",
            "21/21 [==============================] - 3s 127ms/step - loss: 0.3599 - acc: 0.9272 - val_loss: 0.2371 - val_acc: 0.9750\n",
            "Epoch 3/10\n",
            "21/21 [==============================] - 3s 126ms/step - loss: 0.1902 - acc: 0.9751 - val_loss: 0.1720 - val_acc: 0.9750\n",
            "Epoch 4/10\n",
            "21/21 [==============================] - 3s 126ms/step - loss: 0.1635 - acc: 0.9707 - val_loss: 0.1395 - val_acc: 0.9875\n",
            "Epoch 5/10\n",
            "21/21 [==============================] - 3s 129ms/step - loss: 0.1339 - acc: 0.9804 - val_loss: 0.1194 - val_acc: 0.9750\n",
            "Epoch 6/10\n",
            "21/21 [==============================] - 3s 129ms/step - loss: 0.0947 - acc: 0.9848 - val_loss: 0.1043 - val_acc: 0.9875\n",
            "Epoch 7/10\n",
            "21/21 [==============================] - 3s 128ms/step - loss: 0.0909 - acc: 0.9860 - val_loss: 0.0957 - val_acc: 0.9875\n",
            "Epoch 8/10\n",
            "21/21 [==============================] - 3s 127ms/step - loss: 0.0779 - acc: 0.9831 - val_loss: 0.0874 - val_acc: 0.9750\n",
            "Epoch 9/10\n",
            "21/21 [==============================] - 3s 128ms/step - loss: 0.0781 - acc: 0.9796 - val_loss: 0.0816 - val_acc: 0.9875\n",
            "Epoch 10/10\n",
            "21/21 [==============================] - 3s 127ms/step - loss: 0.0544 - acc: 0.9931 - val_loss: 0.0791 - val_acc: 0.9875\n",
            "3/3 [==============================] - 0s 69ms/step - loss: 0.0555 - acc: 0.9875\n"
          ],
          "name": "stdout"
        },
        {
          "output_type": "display_data",
          "data": {
            "image/png": "[encoded data removed]",
            "text/plain": [
              "<Figure size 432x288 with 1 Axes>"
            ]
          },
          "metadata": {
            "tags": [],
            "needs_background": "light"
          }
        },
        {
          "output_type": "display_data",
          "data": {
            "image/png": "[encoded data removed]",
            "text/plain": [
              "<Figure size 432x288 with 1 Axes>"
            ]
          },
          "metadata": {
            "tags": [],
            "needs_background": "light"
          }
        }
      ]
    }
  ]
}